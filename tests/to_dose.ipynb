{
 "cells": [
  {
   "cell_type": "code",
   "execution_count": null,
   "metadata": {},
   "outputs": [],
   "source": []
  },
  {
   "cell_type": "code",
   "execution_count": null,
   "metadata": {},
   "outputs": [],
   "source": [
    "file_path = cwd / \"fixtures/CAL/film20240620_002.tif\"\n",
    "cal_img = load(file_path)\n",
    "cal = LUT(cal_img)\n",
    "cal.set_central_rois((8, 8))\n",
    "cal.set_doses([0, 1, 2, 4, 6.5, 9.5])\n",
    "cal.compute_central_lut()"
   ]
  }
 ],
 "metadata": {
  "kernelspec": {
   "display_name": "dp",
   "language": "python",
   "name": "python3"
  },
  "language_info": {
   "name": "python",
   "version": "3.11.9"
  }
 },
 "nbformat": 4,
 "nbformat_minor": 2
}
