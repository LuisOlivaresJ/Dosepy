{
 "cells": [
  {
   "cell_type": "code",
   "execution_count": null,
   "metadata": {},
   "outputs": [
    {
     "data": {
      "application/vnd.plotly.v1+json": {
       "config": {
        "modeBarButtonsToAdd": [
         "drawrect"
        ],
        "plotlyServerURL": "https://plot.ly"
       },
       "data": [
        {
         "colorscale": [
          [
           0,
           "#000004"
          ],
          [
           0.1111111111111111,
           "#1b0c41"
          ],
          [
           0.2222222222222222,
           "#4a0c6b"
          ],
          [
           0.3333333333333333,
           "#781c6d"
          ],
          [
           0.4444444444444444,
           "#a52c60"
          ],
          [
           0.5555555555555556,
           "#cf4446"
          ],
          [
           0.6666666666666666,
           "#ed6925"
          ],
          [
           0.7777777777777778,
           "#fb9b06"
          ],
          [
           0.8888888888888888,
           "#f7d13d"
          ],
          [
           1,
           "#fcffa4"
          ]
         ],
         "type": "heatmap",
         "z": {
          "bdata": "AAAAAAAA8D8AAAAAAADwPwAAAAAAAPA/AAAAAAAA8D8AAAAAAADwPwAAAAAAAPA/AAAAAAAA8D8AAAAAAADwPwAAAAAAAPA/",
          "dtype": "f8",
          "shape": "3, 3"
         },
         "zmax": 3,
         "zmin": 0.5
        }
       ],
       "layout": {
        "dragmode": "drawrect",
        "template": {
         "data": {
          "bar": [
           {
            "error_x": {
             "color": "#2a3f5f"
            },
            "error_y": {
             "color": "#2a3f5f"
            },
            "marker": {
             "line": {
              "color": "#E5ECF6",
              "width": 0.5
             },
             "pattern": {
              "fillmode": "overlay",
              "size": 10,
              "solidity": 0.2
             }
            },
            "type": "bar"
           }
          ],
          "barpolar": [
           {
            "marker": {
             "line": {
              "color": "#E5ECF6",
              "width": 0.5
             },
             "pattern": {
              "fillmode": "overlay",
              "size": 10,
              "solidity": 0.2
             }
            },
            "type": "barpolar"
           }
          ],
          "carpet": [
           {
            "aaxis": {
             "endlinecolor": "#2a3f5f",
             "gridcolor": "white",
             "linecolor": "white",
             "minorgridcolor": "white",
             "startlinecolor": "#2a3f5f"
            },
            "baxis": {
             "endlinecolor": "#2a3f5f",
             "gridcolor": "white",
             "linecolor": "white",
             "minorgridcolor": "white",
             "startlinecolor": "#2a3f5f"
            },
            "type": "carpet"
           }
          ],
          "choropleth": [
           {
            "colorbar": {
             "outlinewidth": 0,
             "ticks": ""
            },
            "type": "choropleth"
           }
          ],
          "contour": [
           {
            "colorbar": {
             "outlinewidth": 0,
             "ticks": ""
            },
            "colorscale": [
             [
              0,
              "#0d0887"
             ],
             [
              0.1111111111111111,
              "#46039f"
             ],
             [
              0.2222222222222222,
              "#7201a8"
             ],
             [
              0.3333333333333333,
              "#9c179e"
             ],
             [
              0.4444444444444444,
              "#bd3786"
             ],
             [
              0.5555555555555556,
              "#d8576b"
             ],
             [
              0.6666666666666666,
              "#ed7953"
             ],
             [
              0.7777777777777778,
              "#fb9f3a"
             ],
             [
              0.8888888888888888,
              "#fdca26"
             ],
             [
              1,
              "#f0f921"
             ]
            ],
            "type": "contour"
           }
          ],
          "contourcarpet": [
           {
            "colorbar": {
             "outlinewidth": 0,
             "ticks": ""
            },
            "type": "contourcarpet"
           }
          ],
          "heatmap": [
           {
            "colorbar": {
             "outlinewidth": 0,
             "ticks": ""
            },
            "colorscale": [
             [
              0,
              "#0d0887"
             ],
             [
              0.1111111111111111,
              "#46039f"
             ],
             [
              0.2222222222222222,
              "#7201a8"
             ],
             [
              0.3333333333333333,
              "#9c179e"
             ],
             [
              0.4444444444444444,
              "#bd3786"
             ],
             [
              0.5555555555555556,
              "#d8576b"
             ],
             [
              0.6666666666666666,
              "#ed7953"
             ],
             [
              0.7777777777777778,
              "#fb9f3a"
             ],
             [
              0.8888888888888888,
              "#fdca26"
             ],
             [
              1,
              "#f0f921"
             ]
            ],
            "type": "heatmap"
           }
          ],
          "histogram": [
           {
            "marker": {
             "pattern": {
              "fillmode": "overlay",
              "size": 10,
              "solidity": 0.2
             }
            },
            "type": "histogram"
           }
          ],
          "histogram2d": [
           {
            "colorbar": {
             "outlinewidth": 0,
             "ticks": ""
            },
            "colorscale": [
             [
              0,
              "#0d0887"
             ],
             [
              0.1111111111111111,
              "#46039f"
             ],
             [
              0.2222222222222222,
              "#7201a8"
             ],
             [
              0.3333333333333333,
              "#9c179e"
             ],
             [
              0.4444444444444444,
              "#bd3786"
             ],
             [
              0.5555555555555556,
              "#d8576b"
             ],
             [
              0.6666666666666666,
              "#ed7953"
             ],
             [
              0.7777777777777778,
              "#fb9f3a"
             ],
             [
              0.8888888888888888,
              "#fdca26"
             ],
             [
              1,
              "#f0f921"
             ]
            ],
            "type": "histogram2d"
           }
          ],
          "histogram2dcontour": [
           {
            "colorbar": {
             "outlinewidth": 0,
             "ticks": ""
            },
            "colorscale": [
             [
              0,
              "#0d0887"
             ],
             [
              0.1111111111111111,
              "#46039f"
             ],
             [
              0.2222222222222222,
              "#7201a8"
             ],
             [
              0.3333333333333333,
              "#9c179e"
             ],
             [
              0.4444444444444444,
              "#bd3786"
             ],
             [
              0.5555555555555556,
              "#d8576b"
             ],
             [
              0.6666666666666666,
              "#ed7953"
             ],
             [
              0.7777777777777778,
              "#fb9f3a"
             ],
             [
              0.8888888888888888,
              "#fdca26"
             ],
             [
              1,
              "#f0f921"
             ]
            ],
            "type": "histogram2dcontour"
           }
          ],
          "mesh3d": [
           {
            "colorbar": {
             "outlinewidth": 0,
             "ticks": ""
            },
            "type": "mesh3d"
           }
          ],
          "parcoords": [
           {
            "line": {
             "colorbar": {
              "outlinewidth": 0,
              "ticks": ""
             }
            },
            "type": "parcoords"
           }
          ],
          "pie": [
           {
            "automargin": true,
            "type": "pie"
           }
          ],
          "scatter": [
           {
            "fillpattern": {
             "fillmode": "overlay",
             "size": 10,
             "solidity": 0.2
            },
            "type": "scatter"
           }
          ],
          "scatter3d": [
           {
            "line": {
             "colorbar": {
              "outlinewidth": 0,
              "ticks": ""
             }
            },
            "marker": {
             "colorbar": {
              "outlinewidth": 0,
              "ticks": ""
             }
            },
            "type": "scatter3d"
           }
          ],
          "scattercarpet": [
           {
            "marker": {
             "colorbar": {
              "outlinewidth": 0,
              "ticks": ""
             }
            },
            "type": "scattercarpet"
           }
          ],
          "scattergeo": [
           {
            "marker": {
             "colorbar": {
              "outlinewidth": 0,
              "ticks": ""
             }
            },
            "type": "scattergeo"
           }
          ],
          "scattergl": [
           {
            "marker": {
             "colorbar": {
              "outlinewidth": 0,
              "ticks": ""
             }
            },
            "type": "scattergl"
           }
          ],
          "scattermap": [
           {
            "marker": {
             "colorbar": {
              "outlinewidth": 0,
              "ticks": ""
             }
            },
            "type": "scattermap"
           }
          ],
          "scattermapbox": [
           {
            "marker": {
             "colorbar": {
              "outlinewidth": 0,
              "ticks": ""
             }
            },
            "type": "scattermapbox"
           }
          ],
          "scatterpolar": [
           {
            "marker": {
             "colorbar": {
              "outlinewidth": 0,
              "ticks": ""
             }
            },
            "type": "scatterpolar"
           }
          ],
          "scatterpolargl": [
           {
            "marker": {
             "colorbar": {
              "outlinewidth": 0,
              "ticks": ""
             }
            },
            "type": "scatterpolargl"
           }
          ],
          "scatterternary": [
           {
            "marker": {
             "colorbar": {
              "outlinewidth": 0,
              "ticks": ""
             }
            },
            "type": "scatterternary"
           }
          ],
          "surface": [
           {
            "colorbar": {
             "outlinewidth": 0,
             "ticks": ""
            },
            "colorscale": [
             [
              0,
              "#0d0887"
             ],
             [
              0.1111111111111111,
              "#46039f"
             ],
             [
              0.2222222222222222,
              "#7201a8"
             ],
             [
              0.3333333333333333,
              "#9c179e"
             ],
             [
              0.4444444444444444,
              "#bd3786"
             ],
             [
              0.5555555555555556,
              "#d8576b"
             ],
             [
              0.6666666666666666,
              "#ed7953"
             ],
             [
              0.7777777777777778,
              "#fb9f3a"
             ],
             [
              0.8888888888888888,
              "#fdca26"
             ],
             [
              1,
              "#f0f921"
             ]
            ],
            "type": "surface"
           }
          ],
          "table": [
           {
            "cells": {
             "fill": {
              "color": "#EBF0F8"
             },
             "line": {
              "color": "white"
             }
            },
            "header": {
             "fill": {
              "color": "#C8D4E3"
             },
             "line": {
              "color": "white"
             }
            },
            "type": "table"
           }
          ]
         },
         "layout": {
          "annotationdefaults": {
           "arrowcolor": "#2a3f5f",
           "arrowhead": 0,
           "arrowwidth": 1
          },
          "autotypenumbers": "strict",
          "coloraxis": {
           "colorbar": {
            "outlinewidth": 0,
            "ticks": ""
           }
          },
          "colorscale": {
           "diverging": [
            [
             0,
             "#8e0152"
            ],
            [
             0.1,
             "#c51b7d"
            ],
            [
             0.2,
             "#de77ae"
            ],
            [
             0.3,
             "#f1b6da"
            ],
            [
             0.4,
             "#fde0ef"
            ],
            [
             0.5,
             "#f7f7f7"
            ],
            [
             0.6,
             "#e6f5d0"
            ],
            [
             0.7,
             "#b8e186"
            ],
            [
             0.8,
             "#7fbc41"
            ],
            [
             0.9,
             "#4d9221"
            ],
            [
             1,
             "#276419"
            ]
           ],
           "sequential": [
            [
             0,
             "#0d0887"
            ],
            [
             0.1111111111111111,
             "#46039f"
            ],
            [
             0.2222222222222222,
             "#7201a8"
            ],
            [
             0.3333333333333333,
             "#9c179e"
            ],
            [
             0.4444444444444444,
             "#bd3786"
            ],
            [
             0.5555555555555556,
             "#d8576b"
            ],
            [
             0.6666666666666666,
             "#ed7953"
            ],
            [
             0.7777777777777778,
             "#fb9f3a"
            ],
            [
             0.8888888888888888,
             "#fdca26"
            ],
            [
             1,
             "#f0f921"
            ]
           ],
           "sequentialminus": [
            [
             0,
             "#0d0887"
            ],
            [
             0.1111111111111111,
             "#46039f"
            ],
            [
             0.2222222222222222,
             "#7201a8"
            ],
            [
             0.3333333333333333,
             "#9c179e"
            ],
            [
             0.4444444444444444,
             "#bd3786"
            ],
            [
             0.5555555555555556,
             "#d8576b"
            ],
            [
             0.6666666666666666,
             "#ed7953"
            ],
            [
             0.7777777777777778,
             "#fb9f3a"
            ],
            [
             0.8888888888888888,
             "#fdca26"
            ],
            [
             1,
             "#f0f921"
            ]
           ]
          },
          "colorway": [
           "#636efa",
           "#EF553B",
           "#00cc96",
           "#ab63fa",
           "#FFA15A",
           "#19d3f3",
           "#FF6692",
           "#B6E880",
           "#FF97FF",
           "#FECB52"
          ],
          "font": {
           "color": "#2a3f5f"
          },
          "geo": {
           "bgcolor": "white",
           "lakecolor": "white",
           "landcolor": "#E5ECF6",
           "showlakes": true,
           "showland": true,
           "subunitcolor": "white"
          },
          "hoverlabel": {
           "align": "left"
          },
          "hovermode": "closest",
          "mapbox": {
           "style": "light"
          },
          "paper_bgcolor": "white",
          "plot_bgcolor": "#E5ECF6",
          "polar": {
           "angularaxis": {
            "gridcolor": "white",
            "linecolor": "white",
            "ticks": ""
           },
           "bgcolor": "#E5ECF6",
           "radialaxis": {
            "gridcolor": "white",
            "linecolor": "white",
            "ticks": ""
           }
          },
          "scene": {
           "xaxis": {
            "backgroundcolor": "#E5ECF6",
            "gridcolor": "white",
            "gridwidth": 2,
            "linecolor": "white",
            "showbackground": true,
            "ticks": "",
            "zerolinecolor": "white"
           },
           "yaxis": {
            "backgroundcolor": "#E5ECF6",
            "gridcolor": "white",
            "gridwidth": 2,
            "linecolor": "white",
            "showbackground": true,
            "ticks": "",
            "zerolinecolor": "white"
           },
           "zaxis": {
            "backgroundcolor": "#E5ECF6",
            "gridcolor": "white",
            "gridwidth": 2,
            "linecolor": "white",
            "showbackground": true,
            "ticks": "",
            "zerolinecolor": "white"
           }
          },
          "shapedefaults": {
           "line": {
            "color": "#2a3f5f"
           }
          },
          "ternary": {
           "aaxis": {
            "gridcolor": "white",
            "linecolor": "white",
            "ticks": ""
           },
           "baxis": {
            "gridcolor": "white",
            "linecolor": "white",
            "ticks": ""
           },
           "bgcolor": "#E5ECF6",
           "caxis": {
            "gridcolor": "white",
            "linecolor": "white",
            "ticks": ""
           }
          },
          "title": {
           "x": 0.05
          },
          "xaxis": {
           "automargin": true,
           "gridcolor": "white",
           "linecolor": "white",
           "ticks": "",
           "title": {
            "standoff": 15
           },
           "zerolinecolor": "white",
           "zerolinewidth": 2
          },
          "yaxis": {
           "automargin": true,
           "gridcolor": "white",
           "linecolor": "white",
           "ticks": "",
           "title": {
            "standoff": 15
           },
           "zerolinecolor": "white",
           "zerolinewidth": 2
          }
         }
        },
        "yaxis": {
         "autorange": "reversed",
         "scaleanchor": "x"
        }
       }
      }
     },
     "metadata": {},
     "output_type": "display_data"
    }
   ],
   "source": [
    "import plotly.graph_objects as go\n",
    "import numpy as np\n",
    "\n",
    "fig = go.Figure()\n",
    "fig.update_layout(\n",
    "    yaxis_autorange=\"reversed\",\n",
    "    yaxis_sluteanchor=\"x\",\n",
    "\n",
    ")\n",
    "fig.add_heatmap(\n",
    "    z=np.ones((3,3)),\n",
    "    colorscale=\"inferno\",\n",
    "    zmin=0.5,\n",
    "    zmax=3,\n",
    "    )\n",
    "\n",
    "fig.update_layout(\n",
    "    dragmode=\"drawrect\",\n",
    ")\n",
    "\n",
    "#fig.update_traces(showscale=True)\n",
    "fig.show(\n",
    "    config={\n",
    "        \"modeBarButtonsToAdd\": [\"drawrect\"]\n",
    "    }\n",
    ")"
   ]
  },
  {
   "cell_type": "code",
   "execution_count": 34,
   "metadata": {},
   "outputs": [
    {
     "data": {
      "text/plain": [
       "{'template': {'data': {'histogram2dcontour': [{'type': 'histogram2dcontour',\n",
       "     'colorbar': {'outlinewidth': 0, 'ticks': ''},\n",
       "     'colorscale': [[0.0, '#0d0887'],\n",
       "      [0.1111111111111111, '#46039f'],\n",
       "      [0.2222222222222222, '#7201a8'],\n",
       "      [0.3333333333333333, '#9c179e'],\n",
       "      [0.4444444444444444, '#bd3786'],\n",
       "      [0.5555555555555556, '#d8576b'],\n",
       "      [0.6666666666666666, '#ed7953'],\n",
       "      [0.7777777777777778, '#fb9f3a'],\n",
       "      [0.8888888888888888, '#fdca26'],\n",
       "      [1.0, '#f0f921']]}],\n",
       "   'choropleth': [{'type': 'choropleth',\n",
       "     'colorbar': {'outlinewidth': 0, 'ticks': ''}}],\n",
       "   'histogram2d': [{'type': 'histogram2d',\n",
       "     'colorbar': {'outlinewidth': 0, 'ticks': ''},\n",
       "     'colorscale': [[0.0, '#0d0887'],\n",
       "      [0.1111111111111111, '#46039f'],\n",
       "      [0.2222222222222222, '#7201a8'],\n",
       "      [0.3333333333333333, '#9c179e'],\n",
       "      [0.4444444444444444, '#bd3786'],\n",
       "      [0.5555555555555556, '#d8576b'],\n",
       "      [0.6666666666666666, '#ed7953'],\n",
       "      [0.7777777777777778, '#fb9f3a'],\n",
       "      [0.8888888888888888, '#fdca26'],\n",
       "      [1.0, '#f0f921']]}],\n",
       "   'heatmap': [{'type': 'heatmap',\n",
       "     'colorbar': {'outlinewidth': 0, 'ticks': ''},\n",
       "     'colorscale': [[0.0, '#0d0887'],\n",
       "      [0.1111111111111111, '#46039f'],\n",
       "      [0.2222222222222222, '#7201a8'],\n",
       "      [0.3333333333333333, '#9c179e'],\n",
       "      [0.4444444444444444, '#bd3786'],\n",
       "      [0.5555555555555556, '#d8576b'],\n",
       "      [0.6666666666666666, '#ed7953'],\n",
       "      [0.7777777777777778, '#fb9f3a'],\n",
       "      [0.8888888888888888, '#fdca26'],\n",
       "      [1.0, '#f0f921']]}],\n",
       "   'heatmapgl': [{'type': 'heatmapgl',\n",
       "     'colorbar': {'outlinewidth': 0, 'ticks': ''},\n",
       "     'colorscale': [[0.0, '#0d0887'],\n",
       "      [0.1111111111111111, '#46039f'],\n",
       "      [0.2222222222222222, '#7201a8'],\n",
       "      [0.3333333333333333, '#9c179e'],\n",
       "      [0.4444444444444444, '#bd3786'],\n",
       "      [0.5555555555555556, '#d8576b'],\n",
       "      [0.6666666666666666, '#ed7953'],\n",
       "      [0.7777777777777778, '#fb9f3a'],\n",
       "      [0.8888888888888888, '#fdca26'],\n",
       "      [1.0, '#f0f921']]}],\n",
       "   'contourcarpet': [{'type': 'contourcarpet',\n",
       "     'colorbar': {'outlinewidth': 0, 'ticks': ''}}],\n",
       "   'contour': [{'type': 'contour',\n",
       "     'colorbar': {'outlinewidth': 0, 'ticks': ''},\n",
       "     'colorscale': [[0.0, '#0d0887'],\n",
       "      [0.1111111111111111, '#46039f'],\n",
       "      [0.2222222222222222, '#7201a8'],\n",
       "      [0.3333333333333333, '#9c179e'],\n",
       "      [0.4444444444444444, '#bd3786'],\n",
       "      [0.5555555555555556, '#d8576b'],\n",
       "      [0.6666666666666666, '#ed7953'],\n",
       "      [0.7777777777777778, '#fb9f3a'],\n",
       "      [0.8888888888888888, '#fdca26'],\n",
       "      [1.0, '#f0f921']]}],\n",
       "   'surface': [{'type': 'surface',\n",
       "     'colorbar': {'outlinewidth': 0, 'ticks': ''},\n",
       "     'colorscale': [[0.0, '#0d0887'],\n",
       "      [0.1111111111111111, '#46039f'],\n",
       "      [0.2222222222222222, '#7201a8'],\n",
       "      [0.3333333333333333, '#9c179e'],\n",
       "      [0.4444444444444444, '#bd3786'],\n",
       "      [0.5555555555555556, '#d8576b'],\n",
       "      [0.6666666666666666, '#ed7953'],\n",
       "      [0.7777777777777778, '#fb9f3a'],\n",
       "      [0.8888888888888888, '#fdca26'],\n",
       "      [1.0, '#f0f921']]}],\n",
       "   'mesh3d': [{'type': 'mesh3d',\n",
       "     'colorbar': {'outlinewidth': 0, 'ticks': ''}}],\n",
       "   'scatter': [{'fillpattern': {'fillmode': 'overlay',\n",
       "      'size': 10,\n",
       "      'solidity': 0.2},\n",
       "     'type': 'scatter'}],\n",
       "   'parcoords': [{'type': 'parcoords',\n",
       "     'line': {'colorbar': {'outlinewidth': 0, 'ticks': ''}}}],\n",
       "   'scatterpolargl': [{'type': 'scatterpolargl',\n",
       "     'marker': {'colorbar': {'outlinewidth': 0, 'ticks': ''}}}],\n",
       "   'bar': [{'error_x': {'color': '#2a3f5f'},\n",
       "     'error_y': {'color': '#2a3f5f'},\n",
       "     'marker': {'line': {'color': '#E5ECF6', 'width': 0.5},\n",
       "      'pattern': {'fillmode': 'overlay', 'size': 10, 'solidity': 0.2}},\n",
       "     'type': 'bar'}],\n",
       "   'scattergeo': [{'type': 'scattergeo',\n",
       "     'marker': {'colorbar': {'outlinewidth': 0, 'ticks': ''}}}],\n",
       "   'scatterpolar': [{'type': 'scatterpolar',\n",
       "     'marker': {'colorbar': {'outlinewidth': 0, 'ticks': ''}}}],\n",
       "   'histogram': [{'marker': {'pattern': {'fillmode': 'overlay',\n",
       "       'size': 10,\n",
       "       'solidity': 0.2}},\n",
       "     'type': 'histogram'}],\n",
       "   'scattergl': [{'type': 'scattergl',\n",
       "     'marker': {'colorbar': {'outlinewidth': 0, 'ticks': ''}}}],\n",
       "   'scatter3d': [{'type': 'scatter3d',\n",
       "     'line': {'colorbar': {'outlinewidth': 0, 'ticks': ''}},\n",
       "     'marker': {'colorbar': {'outlinewidth': 0, 'ticks': ''}}}],\n",
       "   'scattermapbox': [{'type': 'scattermapbox',\n",
       "     'marker': {'colorbar': {'outlinewidth': 0, 'ticks': ''}}}],\n",
       "   'scatterternary': [{'type': 'scatterternary',\n",
       "     'marker': {'colorbar': {'outlinewidth': 0, 'ticks': ''}}}],\n",
       "   'scattercarpet': [{'type': 'scattercarpet',\n",
       "     'marker': {'colorbar': {'outlinewidth': 0, 'ticks': ''}}}],\n",
       "   'carpet': [{'aaxis': {'endlinecolor': '#2a3f5f',\n",
       "      'gridcolor': 'white',\n",
       "      'linecolor': 'white',\n",
       "      'minorgridcolor': 'white',\n",
       "      'startlinecolor': '#2a3f5f'},\n",
       "     'baxis': {'endlinecolor': '#2a3f5f',\n",
       "      'gridcolor': 'white',\n",
       "      'linecolor': 'white',\n",
       "      'minorgridcolor': 'white',\n",
       "      'startlinecolor': '#2a3f5f'},\n",
       "     'type': 'carpet'}],\n",
       "   'table': [{'cells': {'fill': {'color': '#EBF0F8'},\n",
       "      'line': {'color': 'white'}},\n",
       "     'header': {'fill': {'color': '#C8D4E3'}, 'line': {'color': 'white'}},\n",
       "     'type': 'table'}],\n",
       "   'barpolar': [{'marker': {'line': {'color': '#E5ECF6', 'width': 0.5},\n",
       "      'pattern': {'fillmode': 'overlay', 'size': 10, 'solidity': 0.2}},\n",
       "     'type': 'barpolar'}],\n",
       "   'pie': [{'automargin': True, 'type': 'pie'}]},\n",
       "  'layout': {'autotypenumbers': 'strict',\n",
       "   'colorway': ['#636efa',\n",
       "    '#EF553B',\n",
       "    '#00cc96',\n",
       "    '#ab63fa',\n",
       "    '#FFA15A',\n",
       "    '#19d3f3',\n",
       "    '#FF6692',\n",
       "    '#B6E880',\n",
       "    '#FF97FF',\n",
       "    '#FECB52'],\n",
       "   'font': {'color': '#2a3f5f'},\n",
       "   'hovermode': 'closest',\n",
       "   'hoverlabel': {'align': 'left'},\n",
       "   'paper_bgcolor': 'white',\n",
       "   'plot_bgcolor': '#E5ECF6',\n",
       "   'polar': {'bgcolor': '#E5ECF6',\n",
       "    'angularaxis': {'gridcolor': 'white', 'linecolor': 'white', 'ticks': ''},\n",
       "    'radialaxis': {'gridcolor': 'white', 'linecolor': 'white', 'ticks': ''}},\n",
       "   'ternary': {'bgcolor': '#E5ECF6',\n",
       "    'aaxis': {'gridcolor': 'white', 'linecolor': 'white', 'ticks': ''},\n",
       "    'baxis': {'gridcolor': 'white', 'linecolor': 'white', 'ticks': ''},\n",
       "    'caxis': {'gridcolor': 'white', 'linecolor': 'white', 'ticks': ''}},\n",
       "   'coloraxis': {'colorbar': {'outlinewidth': 0, 'ticks': ''}},\n",
       "   'colorscale': {'sequential': [[0.0, '#0d0887'],\n",
       "     [0.1111111111111111, '#46039f'],\n",
       "     [0.2222222222222222, '#7201a8'],\n",
       "     [0.3333333333333333, '#9c179e'],\n",
       "     [0.4444444444444444, '#bd3786'],\n",
       "     [0.5555555555555556, '#d8576b'],\n",
       "     [0.6666666666666666, '#ed7953'],\n",
       "     [0.7777777777777778, '#fb9f3a'],\n",
       "     [0.8888888888888888, '#fdca26'],\n",
       "     [1.0, '#f0f921']],\n",
       "    'sequentialminus': [[0.0, '#0d0887'],\n",
       "     [0.1111111111111111, '#46039f'],\n",
       "     [0.2222222222222222, '#7201a8'],\n",
       "     [0.3333333333333333, '#9c179e'],\n",
       "     [0.4444444444444444, '#bd3786'],\n",
       "     [0.5555555555555556, '#d8576b'],\n",
       "     [0.6666666666666666, '#ed7953'],\n",
       "     [0.7777777777777778, '#fb9f3a'],\n",
       "     [0.8888888888888888, '#fdca26'],\n",
       "     [1.0, '#f0f921']],\n",
       "    'diverging': [[0, '#8e0152'],\n",
       "     [0.1, '#c51b7d'],\n",
       "     [0.2, '#de77ae'],\n",
       "     [0.3, '#f1b6da'],\n",
       "     [0.4, '#fde0ef'],\n",
       "     [0.5, '#f7f7f7'],\n",
       "     [0.6, '#e6f5d0'],\n",
       "     [0.7, '#b8e186'],\n",
       "     [0.8, '#7fbc41'],\n",
       "     [0.9, '#4d9221'],\n",
       "     [1, '#276419']]},\n",
       "   'xaxis': {'gridcolor': 'white',\n",
       "    'linecolor': 'white',\n",
       "    'ticks': '',\n",
       "    'title': {'standoff': 15},\n",
       "    'zerolinecolor': 'white',\n",
       "    'automargin': True,\n",
       "    'zerolinewidth': 2},\n",
       "   'yaxis': {'gridcolor': 'white',\n",
       "    'linecolor': 'white',\n",
       "    'ticks': '',\n",
       "    'title': {'standoff': 15},\n",
       "    'zerolinecolor': 'white',\n",
       "    'automargin': True,\n",
       "    'zerolinewidth': 2},\n",
       "   'scene': {'xaxis': {'backgroundcolor': '#E5ECF6',\n",
       "     'gridcolor': 'white',\n",
       "     'linecolor': 'white',\n",
       "     'showbackground': True,\n",
       "     'ticks': '',\n",
       "     'zerolinecolor': 'white',\n",
       "     'gridwidth': 2},\n",
       "    'yaxis': {'backgroundcolor': '#E5ECF6',\n",
       "     'gridcolor': 'white',\n",
       "     'linecolor': 'white',\n",
       "     'showbackground': True,\n",
       "     'ticks': '',\n",
       "     'zerolinecolor': 'white',\n",
       "     'gridwidth': 2},\n",
       "    'zaxis': {'backgroundcolor': '#E5ECF6',\n",
       "     'gridcolor': 'white',\n",
       "     'linecolor': 'white',\n",
       "     'showbackground': True,\n",
       "     'ticks': '',\n",
       "     'zerolinecolor': 'white',\n",
       "     'gridwidth': 2}},\n",
       "   'shapedefaults': {'line': {'color': '#2a3f5f'}},\n",
       "   'annotationdefaults': {'arrowcolor': '#2a3f5f',\n",
       "    'arrowhead': 0,\n",
       "    'arrowwidth': 1},\n",
       "   'geo': {'bgcolor': 'white',\n",
       "    'landcolor': '#E5ECF6',\n",
       "    'subunitcolor': 'white',\n",
       "    'showland': True,\n",
       "    'showlakes': True,\n",
       "    'lakecolor': 'white'},\n",
       "   'title': {'x': 0.05},\n",
       "   'mapbox': {'style': 'light'}}},\n",
       " 'yaxis': {'autorange': 'reversed', 'scaleanchor': 'x'},\n",
       " 'dragmode': 'drawrect'}"
      ]
     },
     "execution_count": 34,
     "metadata": {},
     "output_type": "execute_result"
    }
   ],
   "source": [
    "fig.to_dict().get(\"layout\")"
   ]
  },
  {
   "cell_type": "code",
   "execution_count": null,
   "metadata": {},
   "outputs": [
    {
     "data": {
      "application/vnd.plotly.v1+json": {
       "config": {
        "plotlyServerURL": "https://plot.ly"
       },
       "data": [
        {
         "colorscale": [
          [
           0,
           "#000004"
          ],
          [
           0.1111111111111111,
           "#1b0c41"
          ],
          [
           0.2222222222222222,
           "#4a0c6b"
          ],
          [
           0.3333333333333333,
           "#781c6d"
          ],
          [
           0.4444444444444444,
           "#a52c60"
          ],
          [
           0.5555555555555556,
           "#cf4446"
          ],
          [
           0.6666666666666666,
           "#ed6925"
          ],
          [
           0.7777777777777778,
           "#fb9b06"
          ],
          [
           0.8888888888888888,
           "#f7d13d"
          ],
          [
           1,
           "#fcffa4"
          ]
         ],
         "type": "heatmap",
         "z": {
          "bdata": "AAAAAAAA8D8AAAAAAADwPwAAAAAAAPA/AAAAAAAA8D8AAAAAAADwPwAAAAAAAPA/AAAAAAAA8D8AAAAAAADwPwAAAAAAAPA/",
          "dtype": "f8",
          "shape": "3, 3"
         },
         "zmax": 3,
         "zmin": 0.5
        },
        {
         "colorscale": [
          [
           0,
           "#000004"
          ],
          [
           0.1111111111111111,
           "#1b0c41"
          ],
          [
           0.2222222222222222,
           "#4a0c6b"
          ],
          [
           0.3333333333333333,
           "#781c6d"
          ],
          [
           0.4444444444444444,
           "#a52c60"
          ],
          [
           0.5555555555555556,
           "#cf4446"
          ],
          [
           0.6666666666666666,
           "#ed6925"
          ],
          [
           0.7777777777777778,
           "#fb9b06"
          ],
          [
           0.8888888888888888,
           "#f7d13d"
          ],
          [
           1,
           "#fcffa4"
          ]
         ],
         "type": "heatmap",
         "z": {
          "bdata": "AAAAAAAA8D8AAAAAAADwPwAAAAAAAPA/AAAAAAAA8D8AAAAAAADwPwAAAAAAAPA/AAAAAAAA8D8AAAAAAADwPwAAAAAAAPA/",
          "dtype": "f8",
          "shape": "3, 3"
         },
         "zmax": 3,
         "zmin": 0.5
        }
       ],
       "layout": {
        "dragmode": "drawrect",
        "template": {
         "data": {
          "bar": [
           {
            "error_x": {
             "color": "#2a3f5f"
            },
            "error_y": {
             "color": "#2a3f5f"
            },
            "marker": {
             "line": {
              "color": "#E5ECF6",
              "width": 0.5
             },
             "pattern": {
              "fillmode": "overlay",
              "size": 10,
              "solidity": 0.2
             }
            },
            "type": "bar"
           }
          ],
          "barpolar": [
           {
            "marker": {
             "line": {
              "color": "#E5ECF6",
              "width": 0.5
             },
             "pattern": {
              "fillmode": "overlay",
              "size": 10,
              "solidity": 0.2
             }
            },
            "type": "barpolar"
           }
          ],
          "carpet": [
           {
            "aaxis": {
             "endlinecolor": "#2a3f5f",
             "gridcolor": "white",
             "linecolor": "white",
             "minorgridcolor": "white",
             "startlinecolor": "#2a3f5f"
            },
            "baxis": {
             "endlinecolor": "#2a3f5f",
             "gridcolor": "white",
             "linecolor": "white",
             "minorgridcolor": "white",
             "startlinecolor": "#2a3f5f"
            },
            "type": "carpet"
           }
          ],
          "choropleth": [
           {
            "colorbar": {
             "outlinewidth": 0,
             "ticks": ""
            },
            "type": "choropleth"
           }
          ],
          "contour": [
           {
            "colorbar": {
             "outlinewidth": 0,
             "ticks": ""
            },
            "colorscale": [
             [
              0,
              "#0d0887"
             ],
             [
              0.1111111111111111,
              "#46039f"
             ],
             [
              0.2222222222222222,
              "#7201a8"
             ],
             [
              0.3333333333333333,
              "#9c179e"
             ],
             [
              0.4444444444444444,
              "#bd3786"
             ],
             [
              0.5555555555555556,
              "#d8576b"
             ],
             [
              0.6666666666666666,
              "#ed7953"
             ],
             [
              0.7777777777777778,
              "#fb9f3a"
             ],
             [
              0.8888888888888888,
              "#fdca26"
             ],
             [
              1,
              "#f0f921"
             ]
            ],
            "type": "contour"
           }
          ],
          "contourcarpet": [
           {
            "colorbar": {
             "outlinewidth": 0,
             "ticks": ""
            },
            "type": "contourcarpet"
           }
          ],
          "heatmap": [
           {
            "colorbar": {
             "outlinewidth": 0,
             "ticks": ""
            },
            "colorscale": [
             [
              0,
              "#0d0887"
             ],
             [
              0.1111111111111111,
              "#46039f"
             ],
             [
              0.2222222222222222,
              "#7201a8"
             ],
             [
              0.3333333333333333,
              "#9c179e"
             ],
             [
              0.4444444444444444,
              "#bd3786"
             ],
             [
              0.5555555555555556,
              "#d8576b"
             ],
             [
              0.6666666666666666,
              "#ed7953"
             ],
             [
              0.7777777777777778,
              "#fb9f3a"
             ],
             [
              0.8888888888888888,
              "#fdca26"
             ],
             [
              1,
              "#f0f921"
             ]
            ],
            "type": "heatmap"
           }
          ],
          "histogram": [
           {
            "marker": {
             "pattern": {
              "fillmode": "overlay",
              "size": 10,
              "solidity": 0.2
             }
            },
            "type": "histogram"
           }
          ],
          "histogram2d": [
           {
            "colorbar": {
             "outlinewidth": 0,
             "ticks": ""
            },
            "colorscale": [
             [
              0,
              "#0d0887"
             ],
             [
              0.1111111111111111,
              "#46039f"
             ],
             [
              0.2222222222222222,
              "#7201a8"
             ],
             [
              0.3333333333333333,
              "#9c179e"
             ],
             [
              0.4444444444444444,
              "#bd3786"
             ],
             [
              0.5555555555555556,
              "#d8576b"
             ],
             [
              0.6666666666666666,
              "#ed7953"
             ],
             [
              0.7777777777777778,
              "#fb9f3a"
             ],
             [
              0.8888888888888888,
              "#fdca26"
             ],
             [
              1,
              "#f0f921"
             ]
            ],
            "type": "histogram2d"
           }
          ],
          "histogram2dcontour": [
           {
            "colorbar": {
             "outlinewidth": 0,
             "ticks": ""
            },
            "colorscale": [
             [
              0,
              "#0d0887"
             ],
             [
              0.1111111111111111,
              "#46039f"
             ],
             [
              0.2222222222222222,
              "#7201a8"
             ],
             [
              0.3333333333333333,
              "#9c179e"
             ],
             [
              0.4444444444444444,
              "#bd3786"
             ],
             [
              0.5555555555555556,
              "#d8576b"
             ],
             [
              0.6666666666666666,
              "#ed7953"
             ],
             [
              0.7777777777777778,
              "#fb9f3a"
             ],
             [
              0.8888888888888888,
              "#fdca26"
             ],
             [
              1,
              "#f0f921"
             ]
            ],
            "type": "histogram2dcontour"
           }
          ],
          "mesh3d": [
           {
            "colorbar": {
             "outlinewidth": 0,
             "ticks": ""
            },
            "type": "mesh3d"
           }
          ],
          "parcoords": [
           {
            "line": {
             "colorbar": {
              "outlinewidth": 0,
              "ticks": ""
             }
            },
            "type": "parcoords"
           }
          ],
          "pie": [
           {
            "automargin": true,
            "type": "pie"
           }
          ],
          "scatter": [
           {
            "fillpattern": {
             "fillmode": "overlay",
             "size": 10,
             "solidity": 0.2
            },
            "type": "scatter"
           }
          ],
          "scatter3d": [
           {
            "line": {
             "colorbar": {
              "outlinewidth": 0,
              "ticks": ""
             }
            },
            "marker": {
             "colorbar": {
              "outlinewidth": 0,
              "ticks": ""
             }
            },
            "type": "scatter3d"
           }
          ],
          "scattercarpet": [
           {
            "marker": {
             "colorbar": {
              "outlinewidth": 0,
              "ticks": ""
             }
            },
            "type": "scattercarpet"
           }
          ],
          "scattergeo": [
           {
            "marker": {
             "colorbar": {
              "outlinewidth": 0,
              "ticks": ""
             }
            },
            "type": "scattergeo"
           }
          ],
          "scattergl": [
           {
            "marker": {
             "colorbar": {
              "outlinewidth": 0,
              "ticks": ""
             }
            },
            "type": "scattergl"
           }
          ],
          "scattermap": [
           {
            "marker": {
             "colorbar": {
              "outlinewidth": 0,
              "ticks": ""
             }
            },
            "type": "scattermap"
           }
          ],
          "scattermapbox": [
           {
            "marker": {
             "colorbar": {
              "outlinewidth": 0,
              "ticks": ""
             }
            },
            "type": "scattermapbox"
           }
          ],
          "scatterpolar": [
           {
            "marker": {
             "colorbar": {
              "outlinewidth": 0,
              "ticks": ""
             }
            },
            "type": "scatterpolar"
           }
          ],
          "scatterpolargl": [
           {
            "marker": {
             "colorbar": {
              "outlinewidth": 0,
              "ticks": ""
             }
            },
            "type": "scatterpolargl"
           }
          ],
          "scatterternary": [
           {
            "marker": {
             "colorbar": {
              "outlinewidth": 0,
              "ticks": ""
             }
            },
            "type": "scatterternary"
           }
          ],
          "surface": [
           {
            "colorbar": {
             "outlinewidth": 0,
             "ticks": ""
            },
            "colorscale": [
             [
              0,
              "#0d0887"
             ],
             [
              0.1111111111111111,
              "#46039f"
             ],
             [
              0.2222222222222222,
              "#7201a8"
             ],
             [
              0.3333333333333333,
              "#9c179e"
             ],
             [
              0.4444444444444444,
              "#bd3786"
             ],
             [
              0.5555555555555556,
              "#d8576b"
             ],
             [
              0.6666666666666666,
              "#ed7953"
             ],
             [
              0.7777777777777778,
              "#fb9f3a"
             ],
             [
              0.8888888888888888,
              "#fdca26"
             ],
             [
              1,
              "#f0f921"
             ]
            ],
            "type": "surface"
           }
          ],
          "table": [
           {
            "cells": {
             "fill": {
              "color": "#EBF0F8"
             },
             "line": {
              "color": "white"
             }
            },
            "header": {
             "fill": {
              "color": "#C8D4E3"
             },
             "line": {
              "color": "white"
             }
            },
            "type": "table"
           }
          ]
         },
         "layout": {
          "annotationdefaults": {
           "arrowcolor": "#2a3f5f",
           "arrowhead": 0,
           "arrowwidth": 1
          },
          "autotypenumbers": "strict",
          "coloraxis": {
           "colorbar": {
            "outlinewidth": 0,
            "ticks": ""
           }
          },
          "colorscale": {
           "diverging": [
            [
             0,
             "#8e0152"
            ],
            [
             0.1,
             "#c51b7d"
            ],
            [
             0.2,
             "#de77ae"
            ],
            [
             0.3,
             "#f1b6da"
            ],
            [
             0.4,
             "#fde0ef"
            ],
            [
             0.5,
             "#f7f7f7"
            ],
            [
             0.6,
             "#e6f5d0"
            ],
            [
             0.7,
             "#b8e186"
            ],
            [
             0.8,
             "#7fbc41"
            ],
            [
             0.9,
             "#4d9221"
            ],
            [
             1,
             "#276419"
            ]
           ],
           "sequential": [
            [
             0,
             "#0d0887"
            ],
            [
             0.1111111111111111,
             "#46039f"
            ],
            [
             0.2222222222222222,
             "#7201a8"
            ],
            [
             0.3333333333333333,
             "#9c179e"
            ],
            [
             0.4444444444444444,
             "#bd3786"
            ],
            [
             0.5555555555555556,
             "#d8576b"
            ],
            [
             0.6666666666666666,
             "#ed7953"
            ],
            [
             0.7777777777777778,
             "#fb9f3a"
            ],
            [
             0.8888888888888888,
             "#fdca26"
            ],
            [
             1,
             "#f0f921"
            ]
           ],
           "sequentialminus": [
            [
             0,
             "#0d0887"
            ],
            [
             0.1111111111111111,
             "#46039f"
            ],
            [
             0.2222222222222222,
             "#7201a8"
            ],
            [
             0.3333333333333333,
             "#9c179e"
            ],
            [
             0.4444444444444444,
             "#bd3786"
            ],
            [
             0.5555555555555556,
             "#d8576b"
            ],
            [
             0.6666666666666666,
             "#ed7953"
            ],
            [
             0.7777777777777778,
             "#fb9f3a"
            ],
            [
             0.8888888888888888,
             "#fdca26"
            ],
            [
             1,
             "#f0f921"
            ]
           ]
          },
          "colorway": [
           "#636efa",
           "#EF553B",
           "#00cc96",
           "#ab63fa",
           "#FFA15A",
           "#19d3f3",
           "#FF6692",
           "#B6E880",
           "#FF97FF",
           "#FECB52"
          ],
          "font": {
           "color": "#2a3f5f"
          },
          "geo": {
           "bgcolor": "white",
           "lakecolor": "white",
           "landcolor": "#E5ECF6",
           "showlakes": true,
           "showland": true,
           "subunitcolor": "white"
          },
          "hoverlabel": {
           "align": "left"
          },
          "hovermode": "closest",
          "mapbox": {
           "style": "light"
          },
          "paper_bgcolor": "white",
          "plot_bgcolor": "#E5ECF6",
          "polar": {
           "angularaxis": {
            "gridcolor": "white",
            "linecolor": "white",
            "ticks": ""
           },
           "bgcolor": "#E5ECF6",
           "radialaxis": {
            "gridcolor": "white",
            "linecolor": "white",
            "ticks": ""
           }
          },
          "scene": {
           "xaxis": {
            "backgroundcolor": "#E5ECF6",
            "gridcolor": "white",
            "gridwidth": 2,
            "linecolor": "white",
            "showbackground": true,
            "ticks": "",
            "zerolinecolor": "white"
           },
           "yaxis": {
            "backgroundcolor": "#E5ECF6",
            "gridcolor": "white",
            "gridwidth": 2,
            "linecolor": "white",
            "showbackground": true,
            "ticks": "",
            "zerolinecolor": "white"
           },
           "zaxis": {
            "backgroundcolor": "#E5ECF6",
            "gridcolor": "white",
            "gridwidth": 2,
            "linecolor": "white",
            "showbackground": true,
            "ticks": "",
            "zerolinecolor": "white"
           }
          },
          "shapedefaults": {
           "line": {
            "color": "#2a3f5f"
           }
          },
          "ternary": {
           "aaxis": {
            "gridcolor": "white",
            "linecolor": "white",
            "ticks": ""
           },
           "baxis": {
            "gridcolor": "white",
            "linecolor": "white",
            "ticks": ""
           },
           "bgcolor": "#E5ECF6",
           "caxis": {
            "gridcolor": "white",
            "linecolor": "white",
            "ticks": ""
           }
          },
          "title": {
           "x": 0.05
          },
          "xaxis": {
           "automargin": true,
           "gridcolor": "white",
           "linecolor": "white",
           "ticks": "",
           "title": {
            "standoff": 15
           },
           "zerolinecolor": "white",
           "zerolinewidth": 2
          },
          "yaxis": {
           "automargin": true,
           "gridcolor": "white",
           "linecolor": "white",
           "ticks": "",
           "title": {
            "standoff": 15
           },
           "zerolinecolor": "white",
           "zerolinewidth": 2
          }
         }
        },
        "yaxis": {
         "autorange": "reversed",
         "scaleanchor": "x"
        }
       }
      }
     },
     "metadata": {},
     "output_type": "display_data"
    }
   ],
   "source": []
  },
  {
   "cell_type": "code",
   "execution_count": 3,
   "metadata": {},
   "outputs": [
    {
     "ename": "ModuleNotFoundError",
     "evalue": "No module named 'Dosepy'",
     "output_type": "error",
     "traceback": [
      "\u001b[0;31m---------------------------------------------------------------------------\u001b[0m",
      "\u001b[0;31mModuleNotFoundError\u001b[0m                       Traceback (most recent call last)",
      "Cell \u001b[0;32mIn[3], line 1\u001b[0m\n\u001b[0;32m----> 1\u001b[0m \u001b[38;5;28;01mfrom\u001b[39;00m\u001b[38;5;250m \u001b[39m\u001b[38;5;21;01mDosepy\u001b[39;00m\u001b[38;5;21;01m.\u001b[39;00m\u001b[38;5;21;01mimage\u001b[39;00m\u001b[38;5;250m \u001b[39m\u001b[38;5;28;01mimport\u001b[39;00m load_multiples\n\u001b[1;32m      2\u001b[0m \u001b[38;5;28;01mfrom\u001b[39;00m\u001b[38;5;250m \u001b[39m\u001b[38;5;21;01mDosepy\u001b[39;00m\u001b[38;5;21;01m.\u001b[39;00m\u001b[38;5;21;01mcalibration\u001b[39;00m\u001b[38;5;250m \u001b[39m\u001b[38;5;28;01mimport\u001b[39;00m LUT\n\u001b[1;32m      3\u001b[0m \u001b[38;5;28;01mimport\u001b[39;00m\u001b[38;5;250m \u001b[39m\u001b[38;5;21;01mlogging\u001b[39;00m\n",
      "\u001b[0;31mModuleNotFoundError\u001b[0m: No module named 'Dosepy'"
     ]
    }
   ],
   "source": [
    "from Dosepy.image import load_multiples\n",
    "from Dosepy.calibration import LUT\n",
    "import logging\n",
    "\n",
    "logging.basicConfig(\n",
    "    format=\"{name} - {levelname} - {message} - {asctime}\",\n",
    "    style=\"{\",\n",
    "    datefmt=\"%Y-%m-%d %H:%M\",\n",
    "    level=logging.INFO,\n",
    "    filename=\"tiff2dose_test.log\",\n",
    "    filemode=\"a\",\n",
    "    )\n",
    "\n",
    "logger = logging.getLogger(__name__)\n",
    "\n",
    "# Load the images\n",
    "\n",
    "files = [\n",
    "    \"/media/luis/TOMO/Tiff Films/EBT4/6NOV24_CAL/CAL20241106_001.tif\",\n",
    "    \"/media/luis/TOMO/Tiff Films/EBT4/6NOV24_CAL/CAL20241106_002.tif\",\n",
    "    \"/media/luis/TOMO/Tiff Films/EBT4/6NOV24_CAL/CAL20241106_003.tif\",\n",
    "]\n",
    "\n",
    "cal_image = load_multiples(files)\n",
    "\n",
    "lut = LUT(cal_image)\n",
    "\n",
    "lut.set_central_rois(size = (180, 8))\n",
    "lut.set_doses([0, 0.5, 1, 2, 4, 6, 8, 10])\n",
    "\n",
    "lut.set_beam_profile(\"/media/luis/TOMO/Tiff Films//BeamProfile.csv\")\n",
    "\n",
    "lut.compute_lateral_lut(filter = 5)"
   ]
  }
 ],
 "metadata": {
  "kernelspec": {
   "display_name": ".venv",
   "language": "python",
   "name": "python3"
  },
  "language_info": {
   "codemirror_mode": {
    "name": "ipython",
    "version": 3
   },
   "file_extension": ".py",
   "mimetype": "text/x-python",
   "name": "python",
   "nbconvert_exporter": "python",
   "pygments_lexer": "ipython3",
   "version": "3.11.11"
  }
 },
 "nbformat": 4,
 "nbformat_minor": 2
}
