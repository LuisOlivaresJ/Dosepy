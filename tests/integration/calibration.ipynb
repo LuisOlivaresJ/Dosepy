{
 "cells": [
  {
   "cell_type": "code",
   "execution_count": 11,
   "metadata": {},
   "outputs": [],
   "source": [
    "from Dosepy.image import load\n",
    "from Dosepy.calibration import LUT\n",
    "from pathlib import Path\n",
    "import os\n",
    "import numpy as np"
   ]
  },
  {
   "cell_type": "markdown",
   "metadata": {},
   "source": [
    "Handle the tif image"
   ]
  },
  {
   "cell_type": "code",
   "execution_count": 12,
   "metadata": {},
   "outputs": [],
   "source": [
    "cwd = Path(os.getcwd()).parent\n",
    "tif_path = cwd / \"unit\" / \"fixtures\" / \"CAL20241106_001.tif\"\n",
    "img = load(tif_path)"
   ]
  },
  {
   "cell_type": "markdown",
   "metadata": {},
   "source": [
    "Create the calibration object"
   ]
  },
  {
   "cell_type": "code",
   "execution_count": 13,
   "metadata": {},
   "outputs": [
    {
     "name": "stdout",
     "output_type": "stream",
     "text": [
      "Object num. 1\n",
      "Object num. 2\n",
      "Object num. 3\n",
      "Object num. 4\n",
      "Object num. 5\n",
      "Object num. 6\n",
      "Object num. 7\n",
      "Object num. 8\n",
      "Object num. 9\n",
      "Object num. 10\n",
      "Object num. 11\n",
      "/home/luis/Documents/GitHub/Dosepy/tests/unit/fixtures/CAL/BeamProfile.csv\n"
     ]
    }
   ],
   "source": [
    "cal = LUT(img)\n",
    "cal.set_central_rois()\n",
    "cal.set_doses([0, 0.5, 1, 2, 4, 6, 8, 10])\n",
    "\n",
    "beam_profile_path = cwd / \"unit\" / \"fixtures\" / \"CAL\" / \"BeamProfile.csv\"\n",
    "print(beam_profile_path)\n",
    "cal.set_beam_profile(beam_profile_path)\n",
    "cal.compute_lateral_lut(filter=3)"
   ]
  },
  {
   "cell_type": "code",
   "execution_count": 14,
   "metadata": {},
   "outputs": [
    {
     "data": {
      "text/plain": [
       "[np.float64(9345.80223463687),\n",
       " np.float64(13276.548317046689),\n",
       " np.float64(20716.026652452027)]"
      ]
     },
     "execution_count": 14,
     "metadata": {},
     "output_type": "execute_result"
    }
   ],
   "source": [
    "cal.get_intensities_of_optical_filters()"
   ]
  },
  {
   "cell_type": "markdown",
   "metadata": {},
   "source": [
    "Load another image with optical filters"
   ]
  },
  {
   "cell_type": "code",
   "execution_count": 15,
   "metadata": {},
   "outputs": [
    {
     "name": "stdout",
     "output_type": "stream",
     "text": [
      "Object num. 1\n",
      "Object num. 2\n",
      "Object num. 3\n",
      "Object num. 4\n",
      "Object num. 5\n"
     ]
    }
   ],
   "source": [
    "# Verification img\n",
    "file_path = cwd / \"unit\" / \"fixtures\" / \"Ver_050dpi20241106_001.tif\"\n",
    "\n",
    "img = load(file_path)\n",
    "#img.set_labeled_films_and_filters()\n",
    "\n",
    "optical_filters = img.get_optical_filters()"
   ]
  },
  {
   "cell_type": "code",
   "execution_count": 16,
   "metadata": {},
   "outputs": [
    {
     "data": {
      "text/plain": [
       "[{'x': 405, 'y': 603, 'radius': 17},\n",
       " {'x': 406, 'y': 458, 'radius': 17},\n",
       " {'x': 408, 'y': 311, 'radius': 16}]"
      ]
     },
     "execution_count": 16,
     "metadata": {},
     "output_type": "execute_result"
    }
   ],
   "source": [
    "optical_filters[\"rois_for_optical_filters\"]"
   ]
  },
  {
   "cell_type": "code",
   "execution_count": 17,
   "metadata": {},
   "outputs": [
    {
     "data": {
      "text/plain": [
       "[np.float64(9335.516201117318),\n",
       " np.float64(13275.740499457112),\n",
       " np.float64(20734.8141025641)]"
      ]
     },
     "execution_count": 17,
     "metadata": {},
     "output_type": "execute_result"
    }
   ],
   "source": [
    "optical_filters[\"intensities_of_optical_filters\"]"
   ]
  },
  {
   "cell_type": "code",
   "execution_count": 18,
   "metadata": {},
   "outputs": [
    {
     "data": {
      "text/plain": [
       "True"
      ]
     },
     "execution_count": 18,
     "metadata": {},
     "output_type": "execute_result"
    }
   ],
   "source": [
    "all(np.isclose(\n",
    "    optical_filters[\"intensities_of_optical_filters\"],\n",
    "    cal.get_intensities_of_optical_filters(),\n",
    "    rtol=1e-2,\n",
    "    ).tolist())"
   ]
  },
  {
   "cell_type": "code",
   "execution_count": 19,
   "metadata": {},
   "outputs": [
    {
     "name": "stdout",
     "output_type": "stream",
     "text": [
      "QC not peformed. There is not optical filter in the image.\n"
     ]
    },
    {
     "data": {
      "text/plain": [
       "False"
      ]
     },
     "execution_count": 19,
     "metadata": {},
     "output_type": "execute_result"
    }
   ],
   "source": [
    "from Dosepy.calibration import passed_QC\n",
    "\n",
    "passed_QC(img, cal)"
   ]
  }
 ],
 "metadata": {
  "kernelspec": {
   "display_name": "dp",
   "language": "python",
   "name": "python3"
  },
  "language_info": {
   "codemirror_mode": {
    "name": "ipython",
    "version": 3
   },
   "file_extension": ".py",
   "mimetype": "text/x-python",
   "name": "python",
   "nbconvert_exporter": "python",
   "pygments_lexer": "ipython3",
   "version": "3.11.9"
  }
 },
 "nbformat": 4,
 "nbformat_minor": 2
}
