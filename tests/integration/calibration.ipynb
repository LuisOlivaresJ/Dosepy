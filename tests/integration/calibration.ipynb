{
 "cells": [
  {
   "cell_type": "code",
   "execution_count": 11,
   "metadata": {},
   "outputs": [],
   "source": [
    "from Dosepy.image import load\n",
    "from Dosepy.calibration import LUT\n",
    "from pathlib import Path\n",
    "import os\n",
    "import numpy as np"
   ]
  },
  {
   "cell_type": "code",
   "execution_count": 2,
   "metadata": {},
   "outputs": [],
   "source": [
    "cwd = Path(os.getcwd()).parent\n",
    "\n",
    "tif_path = cwd / \"unit\" / \"fixtures\" / \"CAL20241106_001.tif\"\n",
    "\n",
    "img = load(tif_path)"
   ]
  },
  {
   "cell_type": "code",
   "execution_count": 3,
   "metadata": {},
   "outputs": [
    {
     "name": "stdout",
     "output_type": "stream",
     "text": [
      "Object num. 1\n",
      "Object num. 2\n",
      "Object num. 3\n",
      "Object num. 4\n",
      "Object num. 5\n",
      "Object num. 6\n",
      "Object num. 7\n",
      "Object num. 8\n",
      "Object num. 9\n",
      "Object num. 10\n",
      "Object num. 11\n",
      "/home/luis/Documents/GitHub/Dosepy/tests/unit/fixtures/CAL/BeamProfile.csv\n"
     ]
    }
   ],
   "source": [
    "cal = LUT(img)\n",
    "cal.set_central_rois()\n",
    "cal.set_doses([0, 0.5, 1, 2, 4, 6, 8, 10])\n",
    "\n",
    "beam_profile_path = cwd / \"unit\" / \"fixtures\" / \"CAL\" / \"BeamProfile.csv\"\n",
    "print(beam_profile_path)\n",
    "cal.set_beam_profile(beam_profile_path)\n",
    "cal.compute_lateral_lut(filter=3)"
   ]
  },
  {
   "cell_type": "code",
   "execution_count": 4,
   "metadata": {},
   "outputs": [
    {
     "data": {
      "text/plain": [
       "[np.float64(9345.80223463687),\n",
       " np.float64(13276.548317046689),\n",
       " np.float64(20716.026652452027)]"
      ]
     },
     "execution_count": 4,
     "metadata": {},
     "output_type": "execute_result"
    }
   ],
   "source": [
    "cal.get_intensities_of_optical_filters()"
   ]
  },
  {
   "cell_type": "code",
   "execution_count": 9,
   "metadata": {},
   "outputs": [
    {
     "name": "stdout",
     "output_type": "stream",
     "text": [
      "Object num. 1\n",
      "Object num. 2\n",
      "Object num. 3\n",
      "Object num. 4\n",
      "Object num. 5\n"
     ]
    }
   ],
   "source": [
    "# Verification img\n",
    "file_path = cwd / \"unit\" / \"fixtures\" / \"Ver_050dpi20241106_001.tif\"\n",
    "\n",
    "img = load(file_path)\n",
    "#img.set_labeled_films_and_filters()\n",
    "\n",
    "optical_filters = img.get_optical_filters()"
   ]
  },
  {
   "cell_type": "code",
   "execution_count": 7,
   "metadata": {},
   "outputs": [
    {
     "data": {
      "text/plain": [
       "[{'x': 405, 'y': 603, 'radius': 17},\n",
       " {'x': 406, 'y': 458, 'radius': 17},\n",
       " {'x': 408, 'y': 311, 'radius': 16}]"
      ]
     },
     "execution_count": 7,
     "metadata": {},
     "output_type": "execute_result"
    }
   ],
   "source": [
    "optical_filters[\"rois_for_optical_filters\"]"
   ]
  },
  {
   "cell_type": "code",
   "execution_count": 10,
   "metadata": {},
   "outputs": [
    {
     "data": {
      "text/plain": [
       "list"
      ]
     },
     "execution_count": 10,
     "metadata": {},
     "output_type": "execute_result"
    }
   ],
   "source": [
    "type(optical_filters[\"intensities_of_optical_filters\"])"
   ]
  },
  {
   "cell_type": "code",
   "execution_count": 18,
   "metadata": {},
   "outputs": [
    {
     "data": {
      "text/plain": [
       "True"
      ]
     },
     "execution_count": 18,
     "metadata": {},
     "output_type": "execute_result"
    }
   ],
   "source": [
    "all(np.isclose(\n",
    "    optical_filters[\"intensities_of_optical_filters\"],\n",
    "    cal.get_intensities_of_optical_filters(),\n",
    "    rtol=1e-2,\n",
    "    ).tolist())"
   ]
  }
 ],
 "metadata": {
  "kernelspec": {
   "display_name": "dp",
   "language": "python",
   "name": "python3"
  },
  "language_info": {
   "codemirror_mode": {
    "name": "ipython",
    "version": 3
   },
   "file_extension": ".py",
   "mimetype": "text/x-python",
   "name": "python",
   "nbconvert_exporter": "python",
   "pygments_lexer": "ipython3",
   "version": "3.11.9"
  }
 },
 "nbformat": 4,
 "nbformat_minor": 2
}
