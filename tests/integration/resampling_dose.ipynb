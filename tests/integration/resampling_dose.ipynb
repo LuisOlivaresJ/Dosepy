{
 "cells": [
  {
   "cell_type": "markdown",
   "id": "16a0ee1d",
   "metadata": {},
   "source": [
    "# Get a dose plane 2D from 3D given a z coordinate"
   ]
  },
  {
   "cell_type": "code",
   "execution_count": 102,
   "id": "e547d7e4",
   "metadata": {},
   "outputs": [],
   "source": [
    "from Dosepy.bed import load_dose\n",
    "import SimpleITK as sitk"
   ]
  },
  {
   "cell_type": "code",
   "execution_count": null,
   "id": "214cb3dd",
   "metadata": {},
   "outputs": [
    {
     "name": "stdout",
     "output_type": "stream",
     "text": [
      "(102, 90, 60)\n",
      "(-92.9, -328.3, -59.0)\n",
      "9\n",
      "(1.0, 0.0, 0.0, 0.0, 1.0, 0.0, 0.0, 0.0, 1.0)\n"
     ]
    }
   ],
   "source": [
    "dose = load_dose(path_to_file = \"/media/luis/TOMO/Dosepy/Hombro20en1/RD_3D_arc1y2.dcm\")\n",
    "print(dose.GetSize())\n",
    "print(dose.GetOrigin())\n",
    "print(dose.GetPixelIDValue())\n",
    "print(dose.GetDirection())"
   ]
  },
  {
   "cell_type": "code",
   "execution_count": 104,
   "id": "52f462ce",
   "metadata": {},
   "outputs": [
    {
     "name": "stdout",
     "output_type": "stream",
     "text": [
      "(-92.9, -328.3, -59.0)\n",
      "(-92.9, -328.3, 0.0)\n"
     ]
    }
   ],
   "source": [
    "# A 3D Image with one slice\n",
    "reference_img = sitk.Image(\n",
    "    (dose.GetSize()[0], dose.GetSize()[1], 1),\n",
    "    dose.GetPixelIDValue()\n",
    ")\n",
    "\n",
    "dose_origin = dose.GetOrigin()\n",
    "print(dose_origin)\n",
    "\n",
    "reference_img.SetOrigin((dose_origin[0], dose_origin[1], 0))\n",
    "reference_img.SetDirection(dose.GetDirection())\n",
    "reference_img.SetSpacing(dose.GetSpacing())\n",
    "\n",
    "print(reference_img.GetOrigin())"
   ]
  },
  {
   "cell_type": "code",
   "execution_count": 105,
   "id": "453c530f",
   "metadata": {},
   "outputs": [
    {
     "data": {
      "text/plain": [
       "(2.0, 2.0, 2.0)"
      ]
     },
     "execution_count": 105,
     "metadata": {},
     "output_type": "execute_result"
    }
   ],
   "source": [
    "interpolator = sitk.sitkLinear\n",
    "identity = sitk.Transform(3, sitk.sitkIdentity)\n",
    "#identity = identity.GetInverse()\n",
    "\n",
    "interpolated_dose = sitk.Resample(\n",
    "    dose,\n",
    "    reference_img,\n",
    "    identity,\n",
    "    interpolator,\n",
    ")\n",
    "\n",
    "dose.GetSpacing()"
   ]
  },
  {
   "cell_type": "code",
   "execution_count": 106,
   "id": "2325c8da",
   "metadata": {},
   "outputs": [
    {
     "data": {
      "text/plain": [
       "(102, 90, 60)"
      ]
     },
     "execution_count": 106,
     "metadata": {},
     "output_type": "execute_result"
    }
   ],
   "source": [
    "dose.GetSize()"
   ]
  },
  {
   "cell_type": "code",
   "execution_count": 107,
   "id": "a482ce3a",
   "metadata": {},
   "outputs": [
    {
     "data": {
      "text/plain": [
       "(102, 90, 1)"
      ]
     },
     "execution_count": 107,
     "metadata": {},
     "output_type": "execute_result"
    }
   ],
   "source": [
    "interpolated_dose.GetSize()"
   ]
  },
  {
   "cell_type": "code",
   "execution_count": 108,
   "id": "3c44366f",
   "metadata": {},
   "outputs": [],
   "source": [
    "import matplotlib.pyplot as plt"
   ]
  },
  {
   "cell_type": "code",
   "execution_count": 109,
   "id": "36029391",
   "metadata": {},
   "outputs": [
    {
     "data": {
      "text/plain": [
       "<matplotlib.image.AxesImage at 0x77b9dbb9ead0>"
      ]
     },
     "execution_count": 109,
     "metadata": {},
     "output_type": "execute_result"
    },
    {
     "data": {
      "image/png": "[encoded data removed]",
      "text/plain": [
       "<Figure size 640x480 with 1 Axes>"
      ]
     },
     "metadata": {},
     "output_type": "display_data"
    }
   ],
   "source": [
    "plt.imshow(sitk.GetArrayFromImage(dose[40:60,40:60,30]))"
   ]
  },
  {
   "cell_type": "code",
   "execution_count": 110,
   "id": "3cb80c52",
   "metadata": {},
   "outputs": [
    {
     "data": {
      "text/plain": [
       "<matplotlib.image.AxesImage at 0x77b9dba11c90>"
      ]
     },
     "execution_count": 110,
     "metadata": {},
     "output_type": "execute_result"
    },
    {
     "data": {
      "image/png": "[encoded data removed]",
      "text/plain": [
       "<Figure size 640x480 with 1 Axes>"
      ]
     },
     "metadata": {},
     "output_type": "display_data"
    }
   ],
   "source": [
    "plt.imshow(sitk.GetArrayFromImage(interpolated_dose[40:60, 40:60, 0]))"
   ]
  },
  {
   "cell_type": "code",
   "execution_count": 113,
   "id": "1ceb1eeb",
   "metadata": {},
   "outputs": [
    {
     "data": {
      "text/plain": [
       "array([[13.62561442, 13.30531094, 13.21116659, 12.63343493, 11.90616691,\n",
       "        10.73696907,  9.56608521,  8.67929447,  7.76791388,  6.99358018],\n",
       "       [13.34446534, 13.15535957, 13.01373452, 12.45890669, 11.53670968,\n",
       "        10.37499514,  9.32324752,  8.45977563,  7.71210687,  6.94692951],\n",
       "       [13.3265547 , 13.17617534, 13.0945464 , 12.30271707, 11.15391998,\n",
       "        10.08759484,  8.93629466,  8.27816614,  7.53257247,  6.86487258],\n",
       "       [12.99166072, 12.82754685, 12.56762856, 11.77662927, 10.65866027,\n",
       "         9.59815836,  8.64221516,  7.99451397,  7.36596848,  6.7124311 ],\n",
       "       [12.94416704, 12.68258868, 12.33187212, 11.4138253 , 10.1975488 ,\n",
       "         9.31783931,  8.41687309,  7.92119837,  7.25308346,  6.57913235],\n",
       "       [12.524311  , 12.30520718, 11.82327994, 10.92731989,  9.82767654,\n",
       "         8.94836911,  8.22776733,  7.73126256,  7.00815771,  6.36836781],\n",
       "       [12.38434602, 11.99697815, 11.33093833, 10.48038389,  9.39489008,\n",
       "         8.70012321,  7.96285585,  7.47009922,  6.74740938,  6.18468322],\n",
       "       [11.87868491, 11.49380715, 10.83901174,  9.99345049,  9.07208352,\n",
       "         8.38897607,  7.62879191,  7.13187212,  6.62329291,  6.05597562],\n",
       "       [11.41800143, 11.04395305, 10.24587251,  9.58566889,  8.63889501,\n",
       "         7.93328578,  7.20518773,  6.8602944 ,  6.40168601,  5.97183062],\n",
       "       [10.8440179 , 10.43748136,  9.65981454,  9.02543285,  8.11738538,\n",
       "         7.42344854,  6.84946502,  6.53040659,  6.23425199,  5.79980546]])"
      ]
     },
     "execution_count": 113,
     "metadata": {},
     "output_type": "execute_result"
    }
   ],
   "source": [
    "sitk.GetArrayFromImage(dose[50:60, 50:60, 29])"
   ]
  },
  {
   "cell_type": "code",
   "execution_count": 111,
   "id": "86a479d2",
   "metadata": {},
   "outputs": [
    {
     "data": {
      "text/plain": [
       "array([[13.15784969, 13.24157966, 13.11036898, 12.57262175, 11.87659685,\n",
       "        10.95980805,  9.82018027,  8.77634395,  7.94161209,  7.10605019],\n",
       "       [13.39527916, 13.36070294, 13.23116529, 12.70341742, 11.8386875 ,\n",
       "        10.92773491,  9.7476947 ,  8.69803515,  7.96618896,  7.12979703],\n",
       "       [13.46275858, 13.40443551, 13.20159523, 12.58428117, 11.63959536,\n",
       "        10.64449776,  9.50193891,  8.55766811,  7.86788146,  7.01274885],\n",
       "       [13.44317489, 13.36987225, 13.04622268, 12.42142533, 11.46506712,\n",
       "        10.46913948,  9.40530445,  8.4672719 ,  7.78666753,  6.92777381],\n",
       "       [13.42027106, 13.25489916, 12.80796317, 12.11735944, 11.19765255,\n",
       "        10.24253939,  9.30825498,  8.42687245,  7.69127813,  6.81155567],\n",
       "       [13.20700344, 13.05121587, 12.58220608, 11.89409247, 10.87108488,\n",
       "         9.9159847 ,  9.12331237,  8.23776668,  7.48426172,  6.62578302],\n",
       "       [13.03372025, 12.81212632, 12.25563841, 11.5008884 , 10.61075157,\n",
       "         9.62898645,  8.84465339,  8.06074833,  7.24933532,  6.55331042],\n",
       "       [12.70258738, 12.50222424, 11.85661111, 11.08435251, 10.16797873,\n",
       "         9.19621296,  8.42521237,  7.64587251,  7.15187083,  6.4516698 ],\n",
       "       [12.27938525, 12.09361261, 11.38717333, 10.61867583,  9.75895208,\n",
       "         8.77468387,  7.99451397,  7.52466118,  7.02357824,  6.46500227],\n",
       "       [11.65083976, 11.41508333, 10.67282277,  9.90515531,  9.03001102,\n",
       "         8.06615654,  7.57215485,  7.1172946 ,  6.75699371,  6.20758706]])"
      ]
     },
     "execution_count": 111,
     "metadata": {},
     "output_type": "execute_result"
    }
   ],
   "source": [
    "sitk.GetArrayFromImage(dose[50:60, 50:60, 30])"
   ]
  },
  {
   "cell_type": "code",
   "execution_count": 112,
   "id": "49bdf7b3",
   "metadata": {},
   "outputs": [
    {
     "data": {
      "text/plain": [
       "array([[[13.39173205, 13.2734453 , 13.16076778, 12.60302834,\n",
       "         11.89138188, 10.84838856,  9.69313274,  8.72781921,\n",
       "          7.85476299,  7.04981519],\n",
       "        [13.36987225, 13.25803126, 13.12244991, 12.58116205,\n",
       "         11.68769859, 10.65136502,  9.53547111,  8.57890539,\n",
       "          7.83914791,  7.03836327],\n",
       "        [13.39465664, 13.29030543, 13.14807081, 12.44349912,\n",
       "         11.39675767, 10.3660463 ,  9.21911679,  8.41791713,\n",
       "          7.70022696,  6.93881071],\n",
       "        [13.21741781, 13.09870955, 12.80692562, 12.0990273 ,\n",
       "         11.06186369, 10.03364892,  9.02375981,  8.23089294,\n",
       "          7.57631801,  6.82010246],\n",
       "        [13.18221905, 12.96874392, 12.56991764, 11.76559237,\n",
       "         10.69760067,  9.78018935,  8.86256404,  8.17403541,\n",
       "          7.47218079,  6.69534401],\n",
       "        [12.86565722, 12.67821153, 12.20274301, 11.41070618,\n",
       "         10.34938071,  9.4321769 ,  8.67553985,  7.98451462,\n",
       "          7.24620971,  6.49707542],\n",
       "        [12.70903314, 12.40455223, 11.79328837, 10.99063615,\n",
       "         10.00282083,  9.16455483,  8.40375462,  7.76542377,\n",
       "          6.99837235,  6.36899682],\n",
       "        [12.29063615, 11.99801569, 11.34781143, 10.5389015 ,\n",
       "          9.62003113,  8.79259451,  8.02700214,  7.38887232,\n",
       "          6.88758187,  6.25382271],\n",
       "        [11.84869334, 11.56878283, 10.81652292, 10.10217236,\n",
       "          9.19892355,  8.35398483,  7.59985085,  7.19247779,\n",
       "          6.71263212,  6.21841644],\n",
       "        [11.24742883, 10.92628234, 10.16631866,  9.46529408,\n",
       "          8.5736982 ,  7.74480254,  7.21080993,  6.82385059,\n",
       "          6.49562285,  6.00369626]]])"
      ]
     },
     "execution_count": 112,
     "metadata": {},
     "output_type": "execute_result"
    }
   ],
   "source": [
    "sitk.GetArrayFromImage(interpolated_dose[50:60, 50:60])"
   ]
  },
  {
   "cell_type": "markdown",
   "id": "f360cd88",
   "metadata": {},
   "source": [
    "# Check if a fiven z coordinate is between the coordinates of a dose distrubution"
   ]
  },
  {
   "cell_type": "code",
   "execution_count": 114,
   "id": "ab86e86b",
   "metadata": {},
   "outputs": [
    {
     "data": {
      "text/plain": [
       "(-92.9, -328.3, -59.0)"
      ]
     },
     "execution_count": 114,
     "metadata": {},
     "output_type": "execute_result"
    }
   ],
   "source": [
    "dose.GetOrigin()"
   ]
  },
  {
   "cell_type": "code",
   "execution_count": 115,
   "id": "dd92625e",
   "metadata": {},
   "outputs": [
    {
     "data": {
      "text/plain": [
       "60"
      ]
     },
     "execution_count": 115,
     "metadata": {},
     "output_type": "execute_result"
    }
   ],
   "source": [
    "dose.GetDepth()"
   ]
  },
  {
   "cell_type": "code",
   "execution_count": 116,
   "id": "e6f32ce1",
   "metadata": {},
   "outputs": [
    {
     "data": {
      "text/plain": [
       "(102, 90, 60)"
      ]
     },
     "execution_count": 116,
     "metadata": {},
     "output_type": "execute_result"
    }
   ],
   "source": [
    "dose.GetSize()"
   ]
  },
  {
   "cell_type": "code",
   "execution_count": 117,
   "id": "703b5472",
   "metadata": {},
   "outputs": [
    {
     "data": {
      "text/plain": [
       "(2.0, 2.0, 2.0)"
      ]
     },
     "execution_count": 117,
     "metadata": {},
     "output_type": "execute_result"
    }
   ],
   "source": [
    "dose.GetSpacing()"
   ]
  },
  {
   "cell_type": "code",
   "execution_count": 119,
   "id": "b46262f2",
   "metadata": {},
   "outputs": [
    {
     "data": {
      "text/plain": [
       "61.0"
      ]
     },
     "execution_count": 119,
     "metadata": {},
     "output_type": "execute_result"
    }
   ],
   "source": [
    "z_max = dose.GetOrigin()[2] + dose.GetDepth()*dose.GetSpacing()[2]\n",
    "z_max"
   ]
  },
  {
   "cell_type": "code",
   "execution_count": 120,
   "id": "77427547",
   "metadata": {},
   "outputs": [
    {
     "data": {
      "text/plain": [
       "True"
      ]
     },
     "execution_count": 120,
     "metadata": {},
     "output_type": "execute_result"
    }
   ],
   "source": [
    "1 < 3 < 5"
   ]
  },
  {
   "cell_type": "markdown",
   "id": "9ec22e62",
   "metadata": {},
   "source": [
    "# Anonimizar RTDose"
   ]
  },
  {
   "cell_type": "code",
   "execution_count": 121,
   "id": "f13db58c",
   "metadata": {},
   "outputs": [],
   "source": [
    "import pydicom\n",
    "\n",
    "ds = pydicom.dcmread(\"/media/luis/TOMO/Dosepy/Hombro20en1/RD_3D_arc1y2.dcm\")"
   ]
  },
  {
   "cell_type": "code",
   "execution_count": 122,
   "id": "f8763bbb",
   "metadata": {},
   "outputs": [
    {
     "data": {
      "text/plain": [
       "Dataset.file_meta -------------------------------\n",
       "(0002,0000) File Meta Information Group Length  UL: 188\n",
       "(0002,0001) File Meta Information Version       OB: b'\\x00\\x01'\n",
       "(0002,0002) Media Storage SOP Class UID         UI: RT Dose Storage\n",
       "(0002,0003) Media Storage SOP Instance UID      UI: 1.2.246.352.71.7.855512968882.125929.20250616082327\n",
       "(0002,0010) Transfer Syntax UID                 UI: Implicit VR Little Endian\n",
       "(0002,0012) Implementation Class UID            UI: 1.2.246.352.70.2.1.160.3\n",
       "(0002,0013) Implementation Version Name         SH: 'DCIE 16.1'\n",
       "-------------------------------------------------\n",
       "(0008,0005) Specific Character Set              CS: 'ISO_IR 192'\n",
       "(0008,0012) Instance Creation Date              DA: '20250616'\n",
       "(0008,0013) Instance Creation Time              TM: '084226'\n",
       "(0008,0016) SOP Class UID                       UI: RT Dose Storage\n",
       "(0008,0018) SOP Instance UID                    UI: 1.2.246.352.71.7.855512968882.125929.20250616082327\n",
       "(0008,0020) Study Date                          DA: '20250603'\n",
       "(0008,0021) Series Date                         DA: '20250616'\n",
       "(0008,0023) Content Date                        DA: '20250616'\n",
       "(0008,0030) Study Time                          TM: '102145.997'\n",
       "(0008,0031) Series Time                         TM: '082205.597'\n",
       "(0008,0033) Content Time                        TM: '082205.567'\n",
       "(0008,0050) Accession Number                    SH: ''\n",
       "(0008,0060) Modality                            CS: 'RTDOSE'\n",
       "(0008,0070) Manufacturer                        LO: 'Varian Medical Systems'\n",
       "(0008,0080) Institution Name                    LO: 'Centro Estatal de Oncologia'\n",
       "(0008,0090) Referring Physician's Name          PN: ''\n",
       "(0008,1010) Station Name                        SH: 'VARIANDB16'\n",
       "(0008,1030) Study Description                   LO: 'Privado^CyC (Adulto)'\n",
       "(0008,103E) Series Description                  LO: 'Eclipse Doses'\n",
       "(0008,1040) Institutional Department Name       LO: 'Radioterapia'\n",
       "(0008,1048) Physician(s) of Record              PN: 'Aguero^fabiola'\n",
       "(0008,1070) Operators' Name                     PN: 'LUIS ALFONSO OLIVARES JIMENEZ'\n",
       "(0008,1090) Manufacturer's Model Name           LO: 'ARIA RadOnc'\n",
       "(0010,0010) Patient's Name                      PN: 'BERTRAND ROCHA^OSCAR EUGENIO'\n",
       "(0010,0020) Patient ID                          LO: '58356'\n",
       "(0010,0030) Patient's Birth Date                DA: '19601031'\n",
       "(0010,0032) Patient's Birth Time                TM: '000000'\n",
       "(0010,0040) Patient's Sex                       CS: 'M'\n",
       "(0018,0050) Slice Thickness                     DS: None\n",
       "(0018,1000) Device Serial Number                LO: '855512968882'\n",
       "(0018,1020) Software Versions                   LO: '16.1.5'\n",
       "(0020,000D) Study Instance UID                  UI: 1.3.12.2.1107.5.1.4.96965.30000025060315361610800000019\n",
       "(0020,000E) Series Instance UID                 UI: 1.2.246.352.71.2.855512968882.250675.20250616082205\n",
       "(0020,0010) Study ID                            SH: '2'\n",
       "(0020,0011) Series Number                       IS: '16'\n",
       "(0020,0032) Image Position (Patient)            DS: [-92.9, -328.3, -59]\n",
       "(0020,0037) Image Orientation (Patient)         DS: [1, 0, 0, 0, 1, 0]\n",
       "(0020,0052) Frame of Reference UID              UI: 1.3.12.2.1107.5.1.4.96965.30000020072215585240400000001\n",
       "(0020,1040) Position Reference Indicator        LO: ''\n",
       "(0028,0002) Samples per Pixel                   US: 1\n",
       "(0028,0004) Photometric Interpretation          CS: 'MONOCHROME2'\n",
       "(0028,0008) Number of Frames                    IS: '60'\n",
       "(0028,0009) Frame Increment Pointer             AT: (3004,000C)\n",
       "(0028,0010) Rows                                US: 90\n",
       "(0028,0011) Columns                             US: 102\n",
       "(0028,0030) Pixel Spacing                       DS: [2, 2]\n",
       "(0028,0100) Bits Allocated                      US: 32\n",
       "(0028,0101) Bits Stored                         US: 32\n",
       "(0028,0102) High Bit                            US: 31\n",
       "(0028,0103) Pixel Representation                US: 0\n",
       "(3004,0002) Dose Units                          CS: 'GY'\n",
       "(3004,0004) Dose Type                           CS: 'PHYSICAL'\n",
       "(3004,000A) Dose Summation Type                 CS: 'PLAN'\n",
       "(3004,000C) Grid Frame Offset Vector            DS: Array of 60 elements\n",
       "(3004,000E) Dose Grid Scaling                   DS: '1.296932754e-05'\n",
       "(3004,0050)  DVH Sequence  4 item(s) ---- \n",
       "   (3004,0001) DVH Type                            CS: 'CUMULATIVE'\n",
       "   (3004,0002) Dose Units                          CS: 'GY'\n",
       "   (3004,0004) Dose Type                           CS: 'PHYSICAL'\n",
       "   (3004,0052) DVH Dose Scaling                    DS: '1'\n",
       "   (3004,0054) DVH Volume Units                    CS: 'CM3'\n",
       "   (3004,0056) DVH Number of Bins                  IS: '1366'\n",
       "   (3004,0058) DVH Data                            DS: Array of 2732 elements\n",
       "   (3004,0060)  DVH Referenced ROI Sequence  1 item(s) ---- \n",
       "      (3004,0062) DVH ROI Contribution Type           CS: 'INCLUDED'\n",
       "      (3006,0084) Referenced ROI Number               IS: '1'\n",
       "      ---------\n",
       "   (3004,0070) DVH Minimum Dose                    DS: '0.00416459517685'\n",
       "   (3004,0072) DVH Maximum Dose                    DS: '13.6477011866935'\n",
       "   (3004,0074) DVH Mean Dose                       DS: '0.67001201391328'\n",
       "   ---------\n",
       "   (3004,0001) DVH Type                            CS: 'CUMULATIVE'\n",
       "   (3004,0002) Dose Units                          CS: 'GY'\n",
       "   (3004,0004) Dose Type                           CS: 'PHYSICAL'\n",
       "   (3004,0052) DVH Dose Scaling                    DS: '1'\n",
       "   (3004,0054) DVH Volume Units                    CS: 'CM3'\n",
       "   (3004,0056) DVH Number of Bins                  IS: '1348'\n",
       "   (3004,0058) DVH Data                            DS: Array of 2696 elements\n",
       "   (3004,0060)  DVH Referenced ROI Sequence  1 item(s) ---- \n",
       "      (3004,0062) DVH ROI Contribution Type           CS: 'INCLUDED'\n",
       "      (3006,0084) Referenced ROI Number               IS: '2'\n",
       "      ---------\n",
       "   (3004,0070) DVH Minimum Dose                    DS: '0.46549917584448'\n",
       "   (3004,0072) DVH Maximum Dose                    DS: '13.4627585759678'\n",
       "   (3004,0074) DVH Mean Dose                       DS: '2.80136473634766'\n",
       "   ---------\n",
       "   (3004,0001) DVH Type                            CS: 'CUMULATIVE'\n",
       "   (3004,0002) Dose Units                          CS: 'GY'\n",
       "   (3004,0004) Dose Type                           CS: 'PHYSICAL'\n",
       "   (3004,0052) DVH Dose Scaling                    DS: '1'\n",
       "   (3004,0054) DVH Volume Units                    CS: 'CM3'\n",
       "   (3004,0056) DVH Number of Bins                  IS: '41'\n",
       "   (3004,0058) DVH Data                            DS: Array of 82 elements\n",
       "   (3004,0060)  DVH Referenced ROI Sequence  1 item(s) ---- \n",
       "      (3004,0062) DVH ROI Contribution Type           CS: 'INCLUDED'\n",
       "      (3006,0084) Referenced ROI Number               IS: '3'\n",
       "      ---------\n",
       "   (3004,0070) DVH Minimum Dose                    DS: '0'\n",
       "   (3004,0072) DVH Maximum Dose                    DS: '0.39945528824331'\n",
       "   (3004,0074) DVH Mean Dose                       DS: '0.02131995430006'\n",
       "   ---------\n",
       "   (3004,0001) DVH Type                            CS: 'CUMULATIVE'\n",
       "   (3004,0002) Dose Units                          CS: 'GY'\n",
       "   (3004,0004) Dose Type                           CS: 'PHYSICAL'\n",
       "   (3004,0052) DVH Dose Scaling                    DS: '1'\n",
       "   (3004,0054) DVH Volume Units                    CS: 'CM3'\n",
       "   (3004,0056) DVH Number of Bins                  IS: '28'\n",
       "   (3004,0058) DVH Data                            DS: Array of 56 elements\n",
       "   (3004,0060)  DVH Referenced ROI Sequence  1 item(s) ---- \n",
       "      (3004,0062) DVH ROI Contribution Type           CS: 'INCLUDED'\n",
       "      (3006,0084) Referenced ROI Number               IS: '4'\n",
       "      ---------\n",
       "   (3004,0070) DVH Minimum Dose                    DS: '0'\n",
       "   (3004,0072) DVH Maximum Dose                    DS: '0.26630352549554'\n",
       "   (3004,0074) DVH Mean Dose                       DS: '0.01435945181617'\n",
       "   ---------\n",
       "(300C,0002)  Referenced RT Plan Sequence  1 item(s) ---- \n",
       "   (0008,1150) Referenced SOP Class UID            UI: RT Plan Storage\n",
       "   (0008,1155) Referenced SOP Instance UID         UI: 1.2.246.352.71.5.855512968882.79529.20250616082250\n",
       "   ---------\n",
       "(300C,0060)  Referenced Structure Set Sequence  1 item(s) ---- \n",
       "   (0008,1150) Referenced SOP Class UID            UI: RT Structure Set Storage\n",
       "   (0008,1155) Referenced SOP Instance UID         UI: 1.2.246.352.71.4.855512968882.26286.20250616082205\n",
       "   ---------\n",
       "(7FE0,0010) Pixel Data                          OW: Array of 2203200 elements"
      ]
     },
     "execution_count": 122,
     "metadata": {},
     "output_type": "execute_result"
    }
   ],
   "source": [
    "ds"
   ]
  },
  {
   "cell_type": "code",
   "execution_count": 125,
   "id": "dd4a85f4",
   "metadata": {},
   "outputs": [],
   "source": [
    "\n",
    "\n",
    "ds.InstitutionName = \"Anonymous\"\n",
    "ds.PhysiciansOfRecord = \"Anonymous\"\n",
    "ds.PatientName = \"Anonymous\"\n",
    "ds.PatientBirthDate = \"20000101\"\n",
    "ds.PatientID = \"12345\"\n",
    "\n",
    "ds.save_as(\"RTDose_3D.dcm\")"
   ]
  },
  {
   "cell_type": "markdown",
   "id": "f203599b",
   "metadata": {},
   "source": [
    "# Get dose using a mask"
   ]
  },
  {
   "cell_type": "code",
   "execution_count": 129,
   "id": "744b4586",
   "metadata": {},
   "outputs": [
    {
     "data": {
      "text/plain": [
       "array([1, 2, 3, 4])"
      ]
     },
     "execution_count": 129,
     "metadata": {},
     "output_type": "execute_result"
    }
   ],
   "source": [
    "import numpy as np\n",
    "\n",
    "dose = np.array([[1,2,3], [4,5,6],[7,8,9]])\n",
    "mask = np.array([[1,1,1],[1,0,0],[0,0,0]])\n",
    "\n",
    "data = dose[mask==1]\n",
    "data"
   ]
  },
  {
   "cell_type": "code",
   "execution_count": null,
   "id": "24bb09e7",
   "metadata": {},
   "outputs": [],
   "source": []
  }
 ],
 "metadata": {
  "kernelspec": {
   "display_name": "dosepy",
   "language": "python",
   "name": "python3"
  },
  "language_info": {
   "codemirror_mode": {
    "name": "ipython",
    "version": 3
   },
   "file_extension": ".py",
   "mimetype": "text/x-python",
   "name": "python",
   "nbconvert_exporter": "python",
   "pygments_lexer": "ipython3",
   "version": "3.11.11"
  }
 },
 "nbformat": 4,
 "nbformat_minor": 5
}
