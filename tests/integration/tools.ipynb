{
 "cells": [
  {
   "cell_type": "markdown",
   "metadata": {
    "vscode": {
     "languageId": "plaintext"
    }
   },
   "source": [
    "# Testing average"
   ]
  },
  {
   "cell_type": "code",
   "execution_count": 8,
   "metadata": {},
   "outputs": [],
   "source": [
    "from Dosepy.tools.files_to_image import average\n",
    "from Dosepy.image import load"
   ]
  },
  {
   "cell_type": "code",
   "execution_count": 12,
   "metadata": {},
   "outputs": [
    {
     "data": {
      "text/plain": [
       "\" # Ejemplo de uso\\ndirectorio = '/ruta/al/directorio'\\nlista_rutas = obtener_rutas_archivos(directorio)\\n\\n# Imprime la lista de rutas\\nfor ruta in lista_rutas:\\n    print(ruta) \""
      ]
     },
     "execution_count": 12,
     "metadata": {},
     "output_type": "execute_result"
    }
   ],
   "source": [
    "import os\n",
    "\n",
    "# Función de ayuda\n",
    "\n",
    "def obtener_rutas_archivos(directorio) -> list[str]:\n",
    "    # Lista para almacenar las rutas de los archivos\n",
    "    rutas_archivos = []\n",
    "\n",
    "    # Recorre todos los archivos en el directorio\n",
    "    for nombre_archivo in os.listdir(directorio):\n",
    "        # Obtén la ruta completa del archivo\n",
    "        ruta_completa = os.path.join(directorio, nombre_archivo)\n",
    "        \n",
    "        # Verifica si es un archivo (y no un directorio)\n",
    "        if os.path.isfile(ruta_completa):\n",
    "            rutas_archivos.append(ruta_completa)\n",
    "\n",
    "    return rutas_archivos\n",
    "\n",
    "# Ejemplo de uso\n",
    "#directorio = '/ruta/al/directorio'\n",
    "#lista_rutas = obtener_rutas_archivos(directorio)\n",
    "\n",
    "# Imprime la lista de rutas\n",
    "#for ruta in lista_rutas:\n",
    "#    print(ruta)"
   ]
  },
  {
   "cell_type": "code",
   "execution_count": 5,
   "metadata": {},
   "outputs": [
    {
     "name": "stdout",
     "output_type": "stream",
     "text": [
      "/media/luis/TOMO/Dosepy/BQT_INCAN/Cal_Der/Cal200_D001.tif\n",
      "/media/luis/TOMO/Dosepy/BQT_INCAN/Cal_Der/Cal200_D002.tif\n",
      "/media/luis/TOMO/Dosepy/BQT_INCAN/Cal_Der/Cal400_D001.tif\n",
      "/media/luis/TOMO/Dosepy/BQT_INCAN/Cal_Der/Cal400_D002.tif\n",
      "/media/luis/TOMO/Dosepy/BQT_INCAN/Cal_Der/Cal500_D001.tif\n",
      "/media/luis/TOMO/Dosepy/BQT_INCAN/Cal_Der/Cal500_D002.tif\n",
      "/media/luis/TOMO/Dosepy/BQT_INCAN/Cal_Der/Cal600D001.tif\n",
      "/media/luis/TOMO/Dosepy/BQT_INCAN/Cal_Der/Cal600D002.tif\n",
      "/media/luis/TOMO/Dosepy/BQT_INCAN/Cal_Der/Cal700D001.tif\n",
      "/media/luis/TOMO/Dosepy/BQT_INCAN/Cal_Der/Cal700D002.tif\n",
      "/media/luis/TOMO/Dosepy/BQT_INCAN/Cal_Der/Cal800D001.tif\n",
      "/media/luis/TOMO/Dosepy/BQT_INCAN/Cal_Der/Cal800D002.tif\n",
      "/media/luis/TOMO/Dosepy/BQT_INCAN/Cal_Der/Cal900D001.tif\n",
      "/media/luis/TOMO/Dosepy/BQT_INCAN/Cal_Der/Cal900D002.tif\n",
      "/media/luis/TOMO/Dosepy/BQT_INCAN/Cal_Der/Cal1000D001.tif\n",
      "/media/luis/TOMO/Dosepy/BQT_INCAN/Cal_Der/Cal1000D002.tif\n",
      "/media/luis/TOMO/Dosepy/BQT_INCAN/Cal_Der/sumergidaD001.tif\n",
      "/media/luis/TOMO/Dosepy/BQT_INCAN/Cal_Der/sumergidaD002.tif\n"
     ]
    }
   ],
   "source": [
    "path_to_folder = \"/media/luis/TOMO/Dosepy/BQT_INCAN/Cal_Der/\"\n",
    "\n",
    "# Colocar en una lista el path a los archivos en el folder\n",
    "path_to_files = obtener_rutas_archivos(path_to_folder)\n",
    "\n",
    "for path in path_to_files:\n",
    "    print(path)"
   ]
  },
  {
   "cell_type": "code",
   "execution_count": 9,
   "metadata": {},
   "outputs": [],
   "source": [
    "# Average\n",
    "imgs = []\n",
    "for path in path_to_files:\n",
    "    imgs.append(load(path))\n",
    "\n",
    "img = average(path_to_files, imgs)"
   ]
  },
  {
   "cell_type": "code",
   "execution_count": 11,
   "metadata": {},
   "outputs": [
    {
     "data": {
      "text/plain": [
       "18"
      ]
     },
     "execution_count": 11,
     "metadata": {},
     "output_type": "execute_result"
    }
   ],
   "source": [
    "len(img)\n",
    "len(path_to_files)"
   ]
  },
  {
   "cell_type": "code",
   "execution_count": 14,
   "metadata": {},
   "outputs": [
    {
     "name": "stdout",
     "output_type": "stream",
     "text": [
      "<class 'pathlib.PosixPath'>\n"
     ]
    }
   ],
   "source": [
    "from pathlib import Path\n",
    "\n",
    "path = Path(\"/home\")\n",
    "\n",
    "print(type(path))"
   ]
  }
 ],
 "metadata": {
  "kernelspec": {
   "display_name": "dp",
   "language": "python",
   "name": "python3"
  },
  "language_info": {
   "codemirror_mode": {
    "name": "ipython",
    "version": 3
   },
   "file_extension": ".py",
   "mimetype": "text/x-python",
   "name": "python",
   "nbconvert_exporter": "python",
   "pygments_lexer": "ipython3",
   "version": "3.11.9"
  }
 },
 "nbformat": 4,
 "nbformat_minor": 2
}
