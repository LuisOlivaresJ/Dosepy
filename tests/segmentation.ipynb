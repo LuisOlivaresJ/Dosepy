{
 "cells": [
  {
   "cell_type": "markdown",
   "metadata": {},
   "source": [
    "# Film segmentation"
   ]
  },
  {
   "cell_type": "code",
   "execution_count": 2,
   "metadata": {},
   "outputs": [],
   "source": [
    "import imageio.v3 as iio\n",
    "import matplotlib.pyplot as plt\n",
    "import numpy as np\n",
    "\n",
    "from skimage.color import rgb2gray\n",
    "\n",
    "img_path = \"/media/luis/TOMO/Dosepy/BQT_INCAN/Tiff/fondo001.tif\"\n",
    "img = iio.imread(img_path)\n",
    "\n",
    "from mpl_toolkits import mplot3d\n",
    "from matplotlib import cm\n",
    "from matplotlib import colors\n",
    "\n",
    "r = img[:,:,0]\n",
    "g = img[:,:,1]\n",
    "b = img[:,:,2]"
   ]
  },
  {
   "cell_type": "code",
   "execution_count": 3,
   "metadata": {},
   "outputs": [],
   "source": [
    "pixel_colors = img.reshape((np.shape(img)[0]*np.shape(img)[1], 3))\n",
    "norm = colors.Normalize(vmin=-1, vmax=1)\n",
    "norm.autoscale(pixel_colors)\n",
    "pixel_colors = norm(pixel_colors).tolist()"
   ]
  },
  {
   "cell_type": "code",
   "execution_count": null,
   "metadata": {},
   "outputs": [],
   "source": [
    "fig = plt.figure()\n",
    "axis = fig.add_subplot(1, 1, 1, projection=\"3d\")\n",
    "axis.scatter3D(r.flatten(), g.flatten(), b.flatten(), facecolors=pixel_colors, marker=\".\")\n",
    "plt.show()"
   ]
  },
  {
   "cell_type": "code",
   "execution_count": null,
   "metadata": {},
   "outputs": [],
   "source": [
    "from skimage.color import rgb2hsv\n",
    "\n",
    "hsv_img = rgb2hsv(img)\n",
    "\n",
    "h = hsv_img[:,:,0]\n",
    "s = hsv_img[:,:,1]\n",
    "v = hsv_img[:,:,2]\n",
    "\n",
    "fig = plt.figure()\n",
    "axis = fig.add_subplot(1, 1, 1, projection=\"3d\")\n",
    "\n",
    "axis.scatter(h.flatten(), s.flatten(), v.flatten(), facecolors=pixel_colors, marker=\".\")\n",
    "axis.set_xlabel(\"Hue\")\n",
    "axis.set_ylabel(\"Saturation\")\n",
    "axis.set_zlabel(\"Value\")\n",
    "plt.show()"
   ]
  },
  {
   "cell_type": "markdown",
   "metadata": {},
   "source": [
    "## Segmentation based on HSV "
   ]
  },
  {
   "cell_type": "code",
   "execution_count": 6,
   "metadata": {},
   "outputs": [],
   "source": [
    "import numpy.ma as ma\n",
    "\n",
    "mask_h = ma.masked_less(h, 0.32)\n",
    "mask_s = ma.masked_less(s, 0.35)\n",
    "mask_v = ma.masked_less(v, 0.75)\n",
    "\n",
    "film = 0*np.zeros(img.shape)\n",
    "\n",
    "film[:,:,0]=mask_h.mask\n",
    "film[:,:,1]=mask_s.mask\n",
    "film[:,:,2]=mask_v.mask"
   ]
  },
  {
   "cell_type": "code",
   "execution_count": null,
   "metadata": {},
   "outputs": [],
   "source": [
    "plt.imshow(film)"
   ]
  },
  {
   "cell_type": "code",
   "execution_count": null,
   "metadata": {},
   "outputs": [],
   "source": [
    "mask_binary = np.logical_and(film[:,:,0], film[:,:,1], film[:,:,2])\n",
    "plt.imshow(mask_binary)"
   ]
  },
  {
   "cell_type": "code",
   "execution_count": null,
   "metadata": {},
   "outputs": [],
   "source": [
    "mask_binary"
   ]
  },
  {
   "cell_type": "code",
   "execution_count": null,
   "metadata": {},
   "outputs": [],
   "source": [
    "plt.imshow(img/np.max(img))"
   ]
  },
  {
   "cell_type": "code",
   "execution_count": null,
   "metadata": {},
   "outputs": [],
   "source": [
    "fig = plt.figure(tight_layout=True)\n",
    "ax1 = fig.add_subplot(231)\n",
    "ax2 = fig.add_subplot(232)\n",
    "ax3 = fig.add_subplot(233)\n",
    "ax4 = fig.add_subplot(234)\n",
    "ax5 = fig.add_subplot(235)\n",
    "ax6 = fig.add_subplot(236)\n",
    "\n",
    "ax1.hist(h.ravel(), 512)\n",
    "ax1.set_title(\"Hue\")\n",
    "ax2.hist(s.ravel(), 512)\n",
    "ax2.set_title(\"Saturation\")\n",
    "ax3.hist(v.ravel(), 512)\n",
    "ax3.set_title(\"Value\")\n",
    "ax4.imshow(h)\n",
    "ax5.imshow(s)\n",
    "ax6.imshow(v)"
   ]
  },
  {
   "cell_type": "code",
   "execution_count": 12,
   "metadata": {},
   "outputs": [],
   "source": [
    "hue_after_thresh = np.logical_and(h > 0.05, h < 0.29)\n",
    "sat_after_thresh = s > 0.1\n",
    "val_after_thresh = np.logical_and(v > 0.40, v < 0.9)\n",
    "binary_img = np.logical_and(hue_after_thresh, sat_after_thresh, val_after_thresh)"
   ]
  },
  {
   "cell_type": "code",
   "execution_count": null,
   "metadata": {},
   "outputs": [],
   "source": [
    "plt.imshow(binary_img)"
   ]
  },
  {
   "cell_type": "code",
   "execution_count": 2,
   "metadata": {},
   "outputs": [],
   "source": [
    "import skimage\n",
    "from skimage.morphology import square\n",
    "from skimage.measure import label, regionprops\n",
    "from numpy import ndarray\n",
    "import imageio.v3 as iio\n",
    "import matplotlib.pyplot as plt\n",
    "from skimage.color import rgb2hsv\n",
    "import numpy as np"
   ]
  },
  {
   "cell_type": "code",
   "execution_count": 15,
   "metadata": {},
   "outputs": [],
   "source": [
    "\n",
    "bi_img_filtered = skimage.morphology.binary_erosion(binary_img, mode=\"min\", footprint=square(5))"
   ]
  },
  {
   "cell_type": "code",
   "execution_count": null,
   "metadata": {},
   "outputs": [],
   "source": [
    "plt.imshow(bi_img_filtered)"
   ]
  },
  {
   "cell_type": "code",
   "execution_count": 6,
   "metadata": {},
   "outputs": [],
   "source": [
    "def get_labeled_objects(\n",
    "        img: ndarray,\n",
    "        return_num: bool = False,\n",
    "        show: bool = False,\n",
    "        threshold: tuple[float, float] = (0.1, 0.8),\n",
    "        min_area: float = 100\n",
    "        ):\n",
    "    \"\"\"\n",
    "    Get an array of labeled connected regions of an Image.\n",
    "\n",
    "    Bright and black regions and also regions with an area less than a given value, are excluded.\n",
    "\n",
    "    Parameters\n",
    "    ----------\n",
    "\n",
    "    Returns\n",
    "    -------\n",
    "    labeled_img : ndarray\n",
    "        Image with labeled regions\n",
    "    num_labels : int\n",
    "        Number of labeled regions if return_num is True\n",
    "\n",
    "    \"\"\"\n",
    "    # Convert to HSV\n",
    "    hsv_img = rgb2hsv(img)\n",
    "    #h = hsv_img[:, :, 0]\n",
    "    #s = hsv_img[:, :, 1]\n",
    "    v = hsv_img[:, :, 2]\n",
    "\n",
    "    # Get binary with thresholding\n",
    "    ## If v is LOW, it is a DARK region\n",
    "    ## If v is HIGH, it is a BRIGHT region\n",
    "    binary_img = np.logical_and(v > threshold[0], v < threshold[1])\n",
    "\n",
    "    # Filter for small bright spots\n",
    "    bi_img_filtered = skimage.morphology.binary_erosion(\n",
    "        binary_img,\n",
    "        mode=\"min\",\n",
    "        footprint=square(3)\n",
    "        )\n",
    "\n",
    "    # Get labeled regions and properties\n",
    "    labeled_img = label(bi_img_filtered)\n",
    "    properties = regionprops(label_image = labeled_img)\n",
    "\n",
    "    # Remove objects with area less than 10 x 10 mm^2\n",
    "\n",
    "    ## What is the number of pixels in 10 x 10 mm^2?\n",
    "    ## [10 mm (1 inch / 25.4 mm) (300 pixels / 1 inch)]**2\n",
    "    ##               ^- mm to inch       ^- inch to pixels\n",
    "\n",
    "    minimum_area = int(min_area * (1/25.4)**2 * (75)**2)\n",
    "    print(f\"The minimum area in pixels is: {minimum_area}\")\n",
    "\n",
    "    film_counter = 0  # Used to reset label number\n",
    "\n",
    "    for n, p in enumerate(properties, start = 1):\n",
    "        \n",
    "        if p.area < minimum_area:  # Remove small regions\n",
    "            labeled_img[labeled_img == n] = 0\n",
    "\n",
    "        else:\n",
    "            film_counter += 1\n",
    "            print(f\"Object num. {film_counter}\")\n",
    "            labeled_img[labeled_img == n] = film_counter\n",
    "            \n",
    "\n",
    "    # Plot histogram if show is True\n",
    "    if show:\n",
    "        fig = plt.figure(tight_layout=True)\n",
    "        ax1 = fig.add_subplot(121)\n",
    "        ax2 = fig.add_subplot(122)\n",
    "\n",
    "        ax1.imshow(v)\n",
    "        ax1.set_title(\"Value\")\n",
    "        ax2.hist(v.ravel(), 512)\n",
    "\n",
    "    if return_num:\n",
    "        return (labeled_img, film_counter)\n",
    "    else:\n",
    "        return labeled_img"
   ]
  },
  {
   "cell_type": "markdown",
   "metadata": {},
   "source": [
    "# Testing the get_labeled_function"
   ]
  },
  {
   "cell_type": "code",
   "execution_count": null,
   "metadata": {},
   "outputs": [],
   "source": [
    "cal_file_path = \"/home/luis/Documents/GitHub/Dosepy/docs/Jupyter/cal_48h.tif\"\n",
    "#cal_file_path = \"/home/luis/Dosepy/docs/Jupyter/cal_48h.tif\"\n",
    "img = iio.imread(cal_file_path)\n",
    "\n",
    "fig = plt.figure()\n",
    "axes = fig.subplots(1, 2)\n",
    "\n",
    "labels, num = get_labeled_objects(img, show=True, return_num=True)\n",
    "print(f\"Number of detected films: {num}\")\n",
    "axes[0].imshow(labels)\n",
    "axes[1].imshow(img/np.max(img))"
   ]
  },
  {
   "cell_type": "code",
   "execution_count": null,
   "metadata": {},
   "outputs": [],
   "source": [
    "cal_file_path = \"/home/luis/Documents/GitHub/Dosepy/docs/Jupyter/Calibracion_Post.tif\"\n",
    "#cal_file_path = \"/home/luis/Dosepy/docs/Jupyter/Calibracion_Post.tif\"\n",
    "img = iio.imread(cal_file_path)\n",
    "\n",
    "fig = plt.figure()\n",
    "axes = fig.subplots(1, 2)\n",
    "\n",
    "labels, num = get_labeled_objects(img, show=True, return_num=True)\n",
    "print(f\"Number of detected films: {num}\")\n",
    "axes[0].imshow(labels)\n",
    "axes[1].imshow(img/np.max(img))"
   ]
  },
  {
   "cell_type": "code",
   "execution_count": null,
   "metadata": {},
   "outputs": [],
   "source": [
    "cal_file_path = \"/media/luis/TOMO/Tiff Films/EBT4/6NOV24_CAL/CAL20241106_001.tif\"\n",
    "\n",
    "img = iio.imread(cal_file_path)\n",
    "\n",
    "fig = plt.figure()\n",
    "axes = fig.subplots(1, 2)\n",
    "\n",
    "labels, num = get_labeled_objects(img, show=True, return_num=True)\n",
    "print(f\"Number of detected films: {num}\")\n",
    "axes[0].imshow(labels)\n",
    "axes[1].imshow(img/np.max(img))"
   ]
  },
  {
   "cell_type": "code",
   "execution_count": null,
   "metadata": {},
   "outputs": [],
   "source": [
    "\n",
    "cal_file_path = \"/media/luis/TOMO/Dosepy/BQT_INCAN/Tiff/fondo001.tif\"\n",
    "\n",
    "img = iio.imread(cal_file_path)\n",
    "\n",
    "fig = plt.figure()\n",
    "axes = fig.subplots(1, 2)\n",
    "\n",
    "labels, num = get_labeled_objects(img, show=True, return_num=True)\n",
    "print(f\"Number of detected objects: {num}\")\n",
    "axes[0].imshow(labels)\n",
    "axes[1].imshow(img/np.max(img))"
   ]
  },
  {
   "cell_type": "code",
   "execution_count": null,
   "metadata": {},
   "outputs": [],
   "source": [
    "plt.hist(img.ravel())"
   ]
  },
  {
   "cell_type": "code",
   "execution_count": null,
   "metadata": {},
   "outputs": [],
   "source": [
    "\n",
    "cal_file_path = \"/home/luis/Dosepy/tests/unit/fixtures/CAL/film20240620_002.tif\"\n",
    "\n",
    "img = iio.imread(cal_file_path)\n",
    "\n",
    "fig = plt.figure()\n",
    "axes = fig.subplots(1, 2)\n",
    "\n",
    "labels, num = get_labeled_objects(img, show=True, return_num=True)\n",
    "print(f\"Number of detected films: {num}\")\n",
    "axes[0].imshow(labels)\n",
    "axes[1].imshow(img/np.max(img))"
   ]
  },
  {
   "cell_type": "markdown",
   "metadata": {},
   "source": [
    "# Uso del método set_labeled_films_and_filters"
   ]
  },
  {
   "cell_type": "code",
   "execution_count": 1,
   "metadata": {},
   "outputs": [
    {
     "name": "stdout",
     "output_type": "stream",
     "text": [
      "The minimum area in pixels is: 871\n",
      "Object num. 1\n",
      "Object num. 2\n",
      "Object num. 3\n",
      "Object num. 4\n",
      "Object num. 5\n",
      "Object num. 6\n",
      "Object num. 7\n",
      "Object num. 8\n",
      "Object num. 9\n",
      "Object num. 10\n",
      "Object num. 11\n"
     ]
    }
   ],
   "source": [
    "from Dosepy.image import load\n",
    "\n",
    "file_path = \"/home/luis/Documents/GitHub/Dosepy/tests/unit/fixtures/CAL20241106_001.tif\"\n",
    "img = load(file_path)\n",
    "img.set_labeled_films_and_filters()"
   ]
  },
  {
   "cell_type": "code",
   "execution_count": 5,
   "metadata": {},
   "outputs": [
    {
     "data": {
      "text/plain": [
       "<matplotlib.image.AxesImage at 0x729d31b0b810>"
      ]
     },
     "execution_count": 5,
     "metadata": {},
     "output_type": "execute_result"
    },
    {
     "data": {
      "image/png": "[encoded data removed]",
      "text/plain": [
       "<Figure size 640x480 with 2 Axes>"
      ]
     },
     "metadata": {},
     "output_type": "display_data"
    }
   ],
   "source": [
    "import matplotlib.pyplot as plt\n",
    "\n",
    "fig, axes = plt.subplots(1, 2)\n",
    "axes[0].imshow(img.labeled_optical_filters)\n",
    "axes[1].imshow(img.labeled_films)"
   ]
  }
 ],
 "metadata": {
  "kernelspec": {
   "display_name": "dp",
   "language": "python",
   "name": "python3"
  },
  "language_info": {
   "codemirror_mode": {
    "name": "ipython",
    "version": 3
   },
   "file_extension": ".py",
   "mimetype": "text/x-python",
   "name": "python",
   "nbconvert_exporter": "python",
   "pygments_lexer": "ipython3",
   "version": "3.11.9"
  }
 },
 "nbformat": 4,
 "nbformat_minor": 2
}
