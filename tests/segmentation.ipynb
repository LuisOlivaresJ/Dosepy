{
 "cells": [
  {
   "cell_type": "markdown",
   "metadata": {},
   "source": [
    "# Film segmentation"
   ]
  },
  {
   "cell_type": "code",
   "execution_count": 2,
   "metadata": {},
   "outputs": [],
   "source": [
    "import imageio.v3 as iio\n",
    "import matplotlib.pyplot as plt\n",
    "import numpy as np\n",
    "\n",
    "from skimage.color import rgb2gray\n",
    "\n",
    "img_path = \"/media/luis/TOMO/Dosepy/BQT_INCAN/Tiff/fondo001.tif\"\n",
    "img = iio.imread(img_path)\n",
    "\n",
    "from mpl_toolkits import mplot3d\n",
    "from matplotlib import cm\n",
    "from matplotlib import colors\n",
    "\n",
    "r = img[:,:,0]\n",
    "g = img[:,:,1]\n",
    "b = img[:,:,2]"
   ]
  },
  {
   "cell_type": "code",
   "execution_count": 3,
   "metadata": {},
   "outputs": [],
   "source": [
    "pixel_colors = img.reshape((np.shape(img)[0]*np.shape(img)[1], 3))\n",
    "norm = colors.Normalize(vmin=-1, vmax=1)\n",
    "norm.autoscale(pixel_colors)\n",
    "pixel_colors = norm(pixel_colors).tolist()"
   ]
  },
  {
   "cell_type": "code",
   "execution_count": null,
   "metadata": {},
   "outputs": [],
   "source": [
    "fig = plt.figure()\n",
    "axis = fig.add_subplot(1, 1, 1, projection=\"3d\")\n",
    "axis.scatter3D(r.flatten(), g.flatten(), b.flatten(), facecolors=pixel_colors, marker=\".\")\n",
    "plt.show()"
   ]
  },
  {
   "cell_type": "code",
   "execution_count": null,
   "metadata": {},
   "outputs": [],
   "source": [
    "from skimage.color import rgb2hsv\n",
    "\n",
    "hsv_img = rgb2hsv(img)\n",
    "\n",
    "h = hsv_img[:,:,0]\n",
    "s = hsv_img[:,:,1]\n",
    "v = hsv_img[:,:,2]\n",
    "\n",
    "fig = plt.figure()\n",
    "axis = fig.add_subplot(1, 1, 1, projection=\"3d\")\n",
    "\n",
    "axis.scatter(h.flatten(), s.flatten(), v.flatten(), facecolors=pixel_colors, marker=\".\")\n",
    "axis.set_xlabel(\"Hue\")\n",
    "axis.set_ylabel(\"Saturation\")\n",
    "axis.set_zlabel(\"Value\")\n",
    "plt.show()"
   ]
  },
  {
   "cell_type": "markdown",
   "metadata": {},
   "source": [
    "## Segmentation based on HSV "
   ]
  },
  {
   "cell_type": "code",
   "execution_count": 6,
   "metadata": {},
   "outputs": [],
   "source": [
    "import numpy.ma as ma\n",
    "\n",
    "mask_h = ma.masked_less(h, 0.32)\n",
    "mask_s = ma.masked_less(s, 0.35)\n",
    "mask_v = ma.masked_less(v, 0.75)\n",
    "\n",
    "film = 0*np.zeros(img.shape)\n",
    "\n",
    "film[:,:,0]=mask_h.mask\n",
    "film[:,:,1]=mask_s.mask\n",
    "film[:,:,2]=mask_v.mask"
   ]
  },
  {
   "cell_type": "code",
   "execution_count": null,
   "metadata": {},
   "outputs": [],
   "source": [
    "plt.imshow(film)"
   ]
  },
  {
   "cell_type": "code",
   "execution_count": null,
   "metadata": {},
   "outputs": [],
   "source": [
    "mask_binary = np.logical_and(film[:,:,0], film[:,:,1], film[:,:,2])\n",
    "plt.imshow(mask_binary)"
   ]
  },
  {
   "cell_type": "code",
   "execution_count": null,
   "metadata": {},
   "outputs": [],
   "source": [
    "mask_binary"
   ]
  },
  {
   "cell_type": "code",
   "execution_count": null,
   "metadata": {},
   "outputs": [],
   "source": [
    "plt.imshow(img/np.max(img))"
   ]
  },
  {
   "cell_type": "code",
   "execution_count": null,
   "metadata": {},
   "outputs": [],
   "source": [
    "fig = plt.figure(tight_layout=True)\n",
    "ax1 = fig.add_subplot(231)\n",
    "ax2 = fig.add_subplot(232)\n",
    "ax3 = fig.add_subplot(233)\n",
    "ax4 = fig.add_subplot(234)\n",
    "ax5 = fig.add_subplot(235)\n",
    "ax6 = fig.add_subplot(236)\n",
    "\n",
    "ax1.hist(h.ravel(), 512)\n",
    "ax1.set_title(\"Hue\")\n",
    "ax2.hist(s.ravel(), 512)\n",
    "ax2.set_title(\"Saturation\")\n",
    "ax3.hist(v.ravel(), 512)\n",
    "ax3.set_title(\"Value\")\n",
    "ax4.imshow(h)\n",
    "ax5.imshow(s)\n",
    "ax6.imshow(v)"
   ]
  },
  {
   "cell_type": "code",
   "execution_count": 12,
   "metadata": {},
   "outputs": [],
   "source": [
    "hue_after_thresh = np.logical_and(h > 0.05, h < 0.29)\n",
    "sat_after_thresh = s > 0.1\n",
    "val_after_thresh = np.logical_and(v > 0.40, v < 0.9)\n",
    "binary_img = np.logical_and(hue_after_thresh, sat_after_thresh, val_after_thresh)"
   ]
  },
  {
   "cell_type": "code",
   "execution_count": null,
   "metadata": {},
   "outputs": [],
   "source": [
    "plt.imshow(binary_img)"
   ]
  },
  {
   "cell_type": "code",
   "execution_count": 2,
   "metadata": {},
   "outputs": [],
   "source": [
    "import skimage\n",
    "from skimage.morphology import square\n",
    "from skimage.measure import label, regionprops\n",
    "from numpy import ndarray\n",
    "import imageio.v3 as iio\n",
    "import matplotlib.pyplot as plt\n",
    "from skimage.color import rgb2hsv\n",
    "import numpy as np"
   ]
  },
  {
   "cell_type": "code",
   "execution_count": 15,
   "metadata": {},
   "outputs": [],
   "source": [
    "\n",
    "bi_img_filtered = skimage.morphology.binary_erosion(binary_img, mode=\"min\", footprint=square(5))"
   ]
  },
  {
   "cell_type": "code",
   "execution_count": null,
   "metadata": {},
   "outputs": [],
   "source": [
    "plt.imshow(bi_img_filtered)"
   ]
  },
  {
   "cell_type": "code",
   "execution_count": 6,
   "metadata": {},
   "outputs": [],
   "source": [
    "def get_labeled_objects(\n",
    "        img: ndarray,\n",
    "        return_num: bool = False,\n",
    "        show: bool = False,\n",
    "        threshold: tuple[float, float] = (0.1, 0.8),\n",
    "        min_area: float = 100\n",
    "        ):\n",
    "    \"\"\"\n",
    "    Get an array of labeled connected regions of an Image.\n",
    "\n",
    "    Bright and black regions and also regions with an area less than a given value, are excluded.\n",
    "\n",
    "    Parameters\n",
    "    ----------\n",
    "\n",
    "    Returns\n",
    "    -------\n",
    "    labeled_img : ndarray\n",
    "        Image with labeled regions\n",
    "    num_labels : int\n",
    "        Number of labeled regions if return_num is True\n",
    "\n",
    "    \"\"\"\n",
    "    # Convert to HSV\n",
    "    hsv_img = rgb2hsv(img)\n",
    "    #h = hsv_img[:, :, 0]\n",
    "    #s = hsv_img[:, :, 1]\n",
    "    v = hsv_img[:, :, 2]\n",
    "\n",
    "    # Get binary with thresholding\n",
    "    ## If v is LOW, it is a DARK region\n",
    "    ## If v is HIGH, it is a BRIGHT region\n",
    "    binary_img = np.logical_and(v > threshold[0], v < threshold[1])\n",
    "\n",
    "    # Filter for small bright spots\n",
    "    bi_img_filtered = skimage.morphology.binary_erosion(\n",
    "        binary_img,\n",
    "        mode=\"min\",\n",
    "        footprint=square(3)\n",
    "        )\n",
    "\n",
    "    # Get labeled regions and properties\n",
    "    labeled_img = label(bi_img_filtered)\n",
    "    properties = regionprops(label_image = labeled_img)\n",
    "\n",
    "    # Remove objects with area less than 10 x 10 mm^2\n",
    "\n",
    "    ## What is the number of pixels in 10 x 10 mm^2?\n",
    "    ## [10 mm (1 inch / 25.4 mm) (300 pixels / 1 inch)]**2\n",
    "    ##               ^- mm to inch       ^- inch to pixels\n",
    "\n",
    "    minimum_area = int(min_area * (1/25.4)**2 * (75)**2)\n",
    "    print(f\"The minimum area in pixels is: {minimum_area}\")\n",
    "\n",
    "    film_counter = 0  # Used to reset label number\n",
    "\n",
    "    for n, p in enumerate(properties, start = 1):\n",
    "        \n",
    "        if p.area < minimum_area:  # Remove small regions\n",
    "            labeled_img[labeled_img == n] = 0\n",
    "\n",
    "        else:\n",
    "            film_counter += 1\n",
    "            print(f\"Object num. {film_counter}\")\n",
    "            labeled_img[labeled_img == n] = film_counter\n",
    "            \n",
    "\n",
    "    # Plot histogram if show is True\n",
    "    if show:\n",
    "        fig = plt.figure(tight_layout=True)\n",
    "        ax1 = fig.add_subplot(121)\n",
    "        ax2 = fig.add_subplot(122)\n",
    "\n",
    "        ax1.imshow(v)\n",
    "        ax1.set_title(\"Value\")\n",
    "        ax2.hist(v.ravel(), 512)\n",
    "\n",
    "    if return_num:\n",
    "        return (labeled_img, film_counter)\n",
    "    else:\n",
    "        return labeled_img"
   ]
  },
  {
   "cell_type": "markdown",
   "metadata": {},
   "source": [
    "# Testing the get_labeled_function"
   ]
  },
  {
   "cell_type": "code",
   "execution_count": null,
   "metadata": {},
   "outputs": [],
   "source": [
    "cal_file_path = \"/home/luis/Documents/GitHub/Dosepy/docs/Jupyter/cal_48h.tif\"\n",
    "#cal_file_path = \"/home/luis/Dosepy/docs/Jupyter/cal_48h.tif\"\n",
    "img = iio.imread(cal_file_path)\n",
    "\n",
    "fig = plt.figure()\n",
    "axes = fig.subplots(1, 2)\n",
    "\n",
    "labels, num = get_labeled_objects(img, show=True, return_num=True)\n",
    "print(f\"Number of detected films: {num}\")\n",
    "axes[0].imshow(labels)\n",
    "axes[1].imshow(img/np.max(img))"
   ]
  },
  {
   "cell_type": "code",
   "execution_count": null,
   "metadata": {},
   "outputs": [],
   "source": [
    "cal_file_path = \"/home/luis/Documents/GitHub/Dosepy/docs/Jupyter/Calibracion_Post.tif\"\n",
    "#cal_file_path = \"/home/luis/Dosepy/docs/Jupyter/Calibracion_Post.tif\"\n",
    "img = iio.imread(cal_file_path)\n",
    "\n",
    "fig = plt.figure()\n",
    "axes = fig.subplots(1, 2)\n",
    "\n",
    "labels, num = get_labeled_objects(img, show=True, return_num=True)\n",
    "print(f\"Number of detected films: {num}\")\n",
    "axes[0].imshow(labels)\n",
    "axes[1].imshow(img/np.max(img))"
   ]
  },
  {
   "cell_type": "code",
   "execution_count": null,
   "metadata": {},
   "outputs": [],
   "source": [
    "cal_file_path = \"/media/luis/TOMO/Tiff Films/EBT4/6NOV24_CAL/CAL20241106_001.tif\"\n",
    "\n",
    "img = iio.imread(cal_file_path)\n",
    "\n",
    "fig = plt.figure()\n",
    "axes = fig.subplots(1, 2)\n",
    "\n",
    "labels, num = get_labeled_objects(img, show=True, return_num=True)\n",
    "print(f\"Number of detected films: {num}\")\n",
    "axes[0].imshow(labels)\n",
    "axes[1].imshow(img/np.max(img))"
   ]
  },
  {
   "cell_type": "code",
   "execution_count": null,
   "metadata": {},
   "outputs": [],
   "source": [
    "\n",
    "cal_file_path = \"/media/luis/TOMO/Dosepy/BQT_INCAN/Tiff/fondo001.tif\"\n",
    "\n",
    "img = iio.imread(cal_file_path)\n",
    "\n",
    "fig = plt.figure()\n",
    "axes = fig.subplots(1, 2)\n",
    "\n",
    "labels, num = get_labeled_objects(img, show=True, return_num=True)\n",
    "print(f\"Number of detected objects: {num}\")\n",
    "axes[0].imshow(labels)\n",
    "axes[1].imshow(img/np.max(img))"
   ]
  },
  {
   "cell_type": "code",
   "execution_count": null,
   "metadata": {},
   "outputs": [],
   "source": [
    "plt.hist(img.ravel())"
   ]
  },
  {
   "cell_type": "code",
   "execution_count": null,
   "metadata": {},
   "outputs": [],
   "source": [
    "\n",
    "cal_file_path = \"/home/luis/Dosepy/tests/unit/fixtures/CAL/film20240620_002.tif\"\n",
    "\n",
    "img = iio.imread(cal_file_path)\n",
    "\n",
    "fig = plt.figure()\n",
    "axes = fig.subplots(1, 2)\n",
    "\n",
    "labels, num = get_labeled_objects(img, show=True, return_num=True)\n",
    "print(f\"Number of detected films: {num}\")\n",
    "axes[0].imshow(labels)\n",
    "axes[1].imshow(img/np.max(img))"
   ]
  },
  {
   "cell_type": "markdown",
   "metadata": {},
   "source": [
    "# Uso del método set_labeled_films_and_filters\n",
    "## 10 ENE 2025"
   ]
  },
  {
   "cell_type": "markdown",
   "metadata": {},
   "source": [
    "### Calibration file"
   ]
  },
  {
   "cell_type": "code",
   "execution_count": null,
   "metadata": {},
   "outputs": [
    {
     "ename": "FileNotFoundError",
     "evalue": "[Errno 2] No such file or directory: '/home/luis/Documents/GitHub/Dosepy/tests/unit/fixtures/CAL20241106_001.tif'",
     "output_type": "error",
     "traceback": [
      "\u001b[0;31m---------------------------------------------------------------------------\u001b[0m",
      "\u001b[0;31mFileNotFoundError\u001b[0m                         Traceback (most recent call last)",
      "Cell \u001b[0;32mIn[2], line 6\u001b[0m\n\u001b[1;32m      3\u001b[0m \u001b[38;5;28;01mimport\u001b[39;00m \u001b[38;5;21;01mmatplotlib\u001b[39;00m\u001b[38;5;21;01m.\u001b[39;00m\u001b[38;5;21;01mpyplot\u001b[39;00m \u001b[38;5;28;01mas\u001b[39;00m \u001b[38;5;21;01mplt\u001b[39;00m\n\u001b[1;32m      5\u001b[0m file_path \u001b[38;5;241m=\u001b[39m \u001b[38;5;124m\"\u001b[39m\u001b[38;5;124m/home/luis/Documents/GitHub/Dosepy/tests/unit/fixtures/CAL20241106_001.tif\u001b[39m\u001b[38;5;124m\"\u001b[39m\n\u001b[0;32m----> 6\u001b[0m img \u001b[38;5;241m=\u001b[39m \u001b[43mload\u001b[49m\u001b[43m(\u001b[49m\u001b[43mfile_path\u001b[49m\u001b[43m)\u001b[49m\n\u001b[1;32m      7\u001b[0m img\u001b[38;5;241m.\u001b[39mset_labeled_films_and_filters()\n\u001b[1;32m      9\u001b[0m fig, axes \u001b[38;5;241m=\u001b[39m plt\u001b[38;5;241m.\u001b[39msubplots(\u001b[38;5;241m1\u001b[39m, \u001b[38;5;241m2\u001b[39m)\n",
      "File \u001b[0;32m~/miniconda3/envs/dp/lib/python3.11/site-packages/Dosepy/image.py:93\u001b[0m, in \u001b[0;36mload\u001b[0;34m(path, for_calib, filter, **kwargs)\u001b[0m\n\u001b[1;32m     90\u001b[0m         array_image\u001b[38;5;241m.\u001b[39marray \u001b[38;5;241m=\u001b[39m mean(array_image\u001b[38;5;241m.\u001b[39marray, footprint\u001b[38;5;241m=\u001b[39msquare(\u001b[38;5;28mfilter\u001b[39m))\n\u001b[1;32m     91\u001b[0m     \u001b[38;5;28;01mreturn\u001b[39;00m array_image\n\u001b[0;32m---> 93\u001b[0m \u001b[38;5;28;01melif\u001b[39;00m \u001b[43m_is_dicom\u001b[49m\u001b[43m(\u001b[49m\u001b[43mpath\u001b[49m\u001b[43m)\u001b[49m:\n\u001b[1;32m     94\u001b[0m     ds \u001b[38;5;241m=\u001b[39m retrieve_dicom_file(path)\n\u001b[1;32m     96\u001b[0m     array \u001b[38;5;241m=\u001b[39m ds\u001b[38;5;241m.\u001b[39mpixel_array\n",
      "File \u001b[0;32m~/miniconda3/envs/dp/lib/python3.11/site-packages/Dosepy/image.py:165\u001b[0m, in \u001b[0;36m_is_dicom\u001b[0;34m(path)\u001b[0m\n\u001b[1;32m    163\u001b[0m \u001b[38;5;28;01mdef\u001b[39;00m \u001b[38;5;21m_is_dicom\u001b[39m(path: \u001b[38;5;28mstr\u001b[39m \u001b[38;5;241m|\u001b[39m Path) \u001b[38;5;241m-\u001b[39m\u001b[38;5;241m>\u001b[39m \u001b[38;5;28mbool\u001b[39m:\n\u001b[1;32m    164\u001b[0m \u001b[38;5;250m    \u001b[39m\u001b[38;5;124;03m\"\"\"Whether the file is a readable DICOM file via pydicom.\"\"\"\u001b[39;00m\n\u001b[0;32m--> 165\u001b[0m     \u001b[38;5;28;01mreturn\u001b[39;00m \u001b[43mis_dicom_image\u001b[49m\u001b[43m(\u001b[49m\u001b[43mfile\u001b[49m\u001b[38;5;241;43m=\u001b[39;49m\u001b[43mpath\u001b[49m\u001b[43m)\u001b[49m\n",
      "File \u001b[0;32m~/miniconda3/envs/dp/lib/python3.11/site-packages/Dosepy/i_o.py:128\u001b[0m, in \u001b[0;36mis_dicom_image\u001b[0;34m(file)\u001b[0m\n\u001b[1;32m    126\u001b[0m result \u001b[38;5;241m=\u001b[39m \u001b[38;5;28;01mFalse\u001b[39;00m\n\u001b[1;32m    127\u001b[0m \u001b[38;5;28;01mtry\u001b[39;00m:\n\u001b[0;32m--> 128\u001b[0m     \u001b[43mpydicom\u001b[49m\u001b[38;5;241;43m.\u001b[39;49m\u001b[43mdcmread\u001b[49m\u001b[43m(\u001b[49m\u001b[43mfile\u001b[49m\u001b[43m)\u001b[49m\n\u001b[1;32m    129\u001b[0m     result \u001b[38;5;241m=\u001b[39m \u001b[38;5;28;01mTrue\u001b[39;00m\n\u001b[1;32m    130\u001b[0m \u001b[38;5;28;01mexcept\u001b[39;00m InvalidDicomError \u001b[38;5;28;01mas\u001b[39;00m error:\n\u001b[1;32m    131\u001b[0m     \u001b[38;5;66;03m#print(f\"A {type(error).__name__} has occurred.\")\u001b[39;00m\n",
      "File \u001b[0;32m~/miniconda3/envs/dp/lib/python3.11/site-packages/pydicom/filereader.py:1042\u001b[0m, in \u001b[0;36mdcmread\u001b[0;34m(fp, defer_size, stop_before_pixels, force, specific_tags)\u001b[0m\n\u001b[1;32m   1040\u001b[0m     caller_owns_file \u001b[38;5;241m=\u001b[39m \u001b[38;5;28;01mFalse\u001b[39;00m\n\u001b[1;32m   1041\u001b[0m     logger\u001b[38;5;241m.\u001b[39mdebug(\u001b[38;5;124mf\u001b[39m\u001b[38;5;124m\"\u001b[39m\u001b[38;5;124mReading file \u001b[39m\u001b[38;5;124m'\u001b[39m\u001b[38;5;132;01m{\u001b[39;00mfp\u001b[38;5;132;01m}\u001b[39;00m\u001b[38;5;124m'\u001b[39m\u001b[38;5;124m\"\u001b[39m)\n\u001b[0;32m-> 1042\u001b[0m     fp \u001b[38;5;241m=\u001b[39m \u001b[38;5;28;43mopen\u001b[39;49m\u001b[43m(\u001b[49m\u001b[43mfp\u001b[49m\u001b[43m,\u001b[49m\u001b[43m \u001b[49m\u001b[38;5;124;43m\"\u001b[39;49m\u001b[38;5;124;43mrb\u001b[39;49m\u001b[38;5;124;43m\"\u001b[39;49m\u001b[43m)\u001b[49m\n\u001b[1;32m   1043\u001b[0m \u001b[38;5;28;01melif\u001b[39;00m (\n\u001b[1;32m   1044\u001b[0m     fp \u001b[38;5;129;01mis\u001b[39;00m \u001b[38;5;28;01mNone\u001b[39;00m\n\u001b[1;32m   1045\u001b[0m     \u001b[38;5;129;01mor\u001b[39;00m \u001b[38;5;129;01mnot\u001b[39;00m \u001b[38;5;28mhasattr\u001b[39m(fp, \u001b[38;5;124m\"\u001b[39m\u001b[38;5;124mread\u001b[39m\u001b[38;5;124m\"\u001b[39m)\n\u001b[1;32m   1046\u001b[0m     \u001b[38;5;129;01mor\u001b[39;00m \u001b[38;5;129;01mnot\u001b[39;00m \u001b[38;5;28mhasattr\u001b[39m(fp, \u001b[38;5;124m\"\u001b[39m\u001b[38;5;124mseek\u001b[39m\u001b[38;5;124m\"\u001b[39m)\n\u001b[1;32m   1047\u001b[0m     \u001b[38;5;129;01mor\u001b[39;00m \u001b[38;5;129;01mnot\u001b[39;00m \u001b[38;5;28mhasattr\u001b[39m(fp, \u001b[38;5;124m\"\u001b[39m\u001b[38;5;124mtell\u001b[39m\u001b[38;5;124m\"\u001b[39m)\n\u001b[1;32m   1048\u001b[0m ):\n\u001b[1;32m   1049\u001b[0m     \u001b[38;5;28;01mraise\u001b[39;00m \u001b[38;5;167;01mTypeError\u001b[39;00m(\n\u001b[1;32m   1050\u001b[0m         \u001b[38;5;124m\"\u001b[39m\u001b[38;5;124mdcmread: Expected a file path, file-like or readable buffer, \u001b[39m\u001b[38;5;124m\"\u001b[39m\n\u001b[1;32m   1051\u001b[0m         \u001b[38;5;124mf\u001b[39m\u001b[38;5;124m\"\u001b[39m\u001b[38;5;124mbut got \u001b[39m\u001b[38;5;132;01m{\u001b[39;00m\u001b[38;5;28mtype\u001b[39m(fp)\u001b[38;5;241m.\u001b[39m\u001b[38;5;18m__name__\u001b[39m\u001b[38;5;132;01m}\u001b[39;00m\u001b[38;5;124m\"\u001b[39m\n\u001b[1;32m   1052\u001b[0m     )\n",
      "\u001b[0;31mFileNotFoundError\u001b[0m: [Errno 2] No such file or directory: '/home/luis/Documents/GitHub/Dosepy/tests/unit/fixtures/CAL20241106_001.tif'"
     ]
    }
   ],
   "source": [
    "from Dosepy.image import load\n",
    "from skimage.measure import label, regionprops\n",
    "import matplotlib.pyplot as plt\n",
    "\n",
    "file_path = \"/home/luis/Documents/GitHub/Dosepy/tests/unit/fixtures/CAL20241106_001.tif\"\n",
    "file_path = \"/home/luis/Dosepy/tests/unit/fixtures/Ver_050dpi20241106_001.tif\"\n",
    "img = load(file_path)\n",
    "img.set_labeled_films_and_filters()\n",
    "\n",
    "fig, axes = plt.subplots(1, 2)\n",
    "axes[0].imshow(img.labeled_optical_filters)\n",
    "axes[1].imshow(img.labeled_films)\n",
    "\n",
    "labeled_filters = label(img.labeled_optical_filters)\n",
    "properties = regionprops(labeled_filters, intensity_image=img.array[:,:,0])\n",
    "\n",
    "for p in properties:\n",
    "    print(f\"Mean: {int(p.intensity_mean)}\")\n",
    "    print(f\"STD: {int(p.intensity_std)}\")"
   ]
  },
  {
   "cell_type": "markdown",
   "metadata": {},
   "source": [
    "### Verification file"
   ]
  },
  {
   "cell_type": "code",
   "execution_count": 1,
   "metadata": {},
   "outputs": [
    {
     "ename": "NameError",
     "evalue": "name 'load' is not defined",
     "output_type": "error",
     "traceback": [
      "\u001b[0;31m---------------------------------------------------------------------------\u001b[0m",
      "\u001b[0;31mNameError\u001b[0m                                 Traceback (most recent call last)",
      "Cell \u001b[0;32mIn[1], line 2\u001b[0m\n\u001b[1;32m      1\u001b[0m file_path \u001b[38;5;241m=\u001b[39m \u001b[38;5;124m\"\u001b[39m\u001b[38;5;124m/home/luis/Documents/GitHub/Dosepy/tests/unit/fixtures/Ver_050dpi20241106_001.tif\u001b[39m\u001b[38;5;124m\"\u001b[39m\n\u001b[0;32m----> 2\u001b[0m img \u001b[38;5;241m=\u001b[39m \u001b[43mload\u001b[49m(file_path)\n\u001b[1;32m      3\u001b[0m img\u001b[38;5;241m.\u001b[39mset_labeled_films_and_filters()\n\u001b[1;32m      5\u001b[0m fig, axes \u001b[38;5;241m=\u001b[39m plt\u001b[38;5;241m.\u001b[39msubplots(\u001b[38;5;241m1\u001b[39m, \u001b[38;5;241m2\u001b[39m)\n",
      "\u001b[0;31mNameError\u001b[0m: name 'load' is not defined"
     ]
    }
   ],
   "source": [
    "file_path = \"/home/luis/Documents/GitHub/Dosepy/tests/unit/fixtures/Ver_050dpi20241106_001.tif\"\n",
    "img = load(file_path)\n",
    "img.set_labeled_films_and_filters()\n",
    "\n",
    "fig, axes = plt.subplots(1, 2)\n",
    "axes[0].imshow(img.labeled_optical_filters)\n",
    "axes[1].imshow(img.labeled_films)\n",
    "\n",
    "labeled_filters = label(img.labeled_optical_filters)\n",
    "properties = regionprops(labeled_filters, intensity_image=img.array[:,:,0])\n",
    "\n",
    "for p in properties:\n",
    "    print(f\"Mean: {int(p.intensity_mean)}\")\n",
    "    print(f\"STD: {int(p.intensity_std)}\")\n",
    "\n"
   ]
  },
  {
   "cell_type": "code",
   "execution_count": 13,
   "metadata": {},
   "outputs": [
    {
     "ename": "ValueError",
     "evalue": "<Dosepy.image.TiffImage object at 0x72b3db318e10>",
     "output_type": "error",
     "traceback": [
      "\u001b[0;31m---------------------------------------------------------------------------\u001b[0m",
      "\u001b[0;31mValueError\u001b[0m                                Traceback (most recent call last)",
      "Cell \u001b[0;32mIn[13], line 10\u001b[0m\n\u001b[1;32m      7\u001b[0m img \u001b[38;5;241m=\u001b[39m load(file_path)\n\u001b[1;32m      9\u001b[0m dose_converter \u001b[38;5;241m=\u001b[39m Tiff2DoseM()\n\u001b[0;32m---> 10\u001b[0m \u001b[43mdose_converter\u001b[49m\u001b[38;5;241;43m.\u001b[39;49m\u001b[43mget_dose\u001b[49m\u001b[43m(\u001b[49m\u001b[43mimg\u001b[49m\u001b[43m,\u001b[49m\u001b[43m \u001b[49m\u001b[38;5;124;43m\"\u001b[39;49m\u001b[38;5;124;43mRP\u001b[39;49m\u001b[38;5;124;43m\"\u001b[39;49m\u001b[43m,\u001b[49m\u001b[43m \u001b[49m\u001b[38;5;124;43m\"\u001b[39;49m\u001b[38;5;124;43mlut\u001b[39;49m\u001b[38;5;124;43m\"\u001b[39;49m\u001b[43m)\u001b[49m\n",
      "File \u001b[0;32m~/miniconda3/envs/dp/lib/python3.11/site-packages/Dosepy/tiff2dose.py:25\u001b[0m, in \u001b[0;36mTiff2DoseM.get_dose\u001b[0;34m(img, format, lut, img_zero)\u001b[0m\n\u001b[1;32m     18\u001b[0m \u001b[38;5;28;01mclass\u001b[39;00m \u001b[38;5;21;01mTiff2DoseM\u001b[39;00m:\n\u001b[1;32m     19\u001b[0m \u001b[38;5;250m    \u001b[39m\u001b[38;5;124;03m\"\"\"\u001b[39;00m\n\u001b[1;32m     20\u001b[0m \u001b[38;5;124;03m    Converts a tiff image to dose map.\u001b[39;00m\n\u001b[1;32m     21\u001b[0m \n\u001b[1;32m     22\u001b[0m \u001b[38;5;124;03m    This class implements the Factory Method Pattern.\u001b[39;00m\n\u001b[1;32m     23\u001b[0m \u001b[38;5;124;03m    \"\"\"\u001b[39;00m\n\u001b[1;32m     24\u001b[0m     \u001b[38;5;28;01mdef\u001b[39;00m \u001b[38;5;21mget_dose\u001b[39m(\n\u001b[0;32m---> 25\u001b[0m             img: TiffImage,\n\u001b[1;32m     26\u001b[0m             \u001b[38;5;28mformat\u001b[39m: \u001b[38;5;28mstr\u001b[39m,\n\u001b[1;32m     27\u001b[0m             lut: LUT\n\u001b[1;32m     28\u001b[0m             ):\n\u001b[1;32m     29\u001b[0m         dose_converter \u001b[38;5;241m=\u001b[39m dose_converter_factory\u001b[38;5;241m.\u001b[39mget_dose_converter(\u001b[38;5;28mformat\u001b[39m)\n\u001b[1;32m     30\u001b[0m         \u001b[38;5;28;01mreturn\u001b[39;00m dose_converter\u001b[38;5;241m.\u001b[39mget_dose(img, lut)\n",
      "File \u001b[0;32m~/miniconda3/envs/dp/lib/python3.11/site-packages/Dosepy/tiff2dose.py:259\u001b[0m, in \u001b[0;36mget_dose_converter\u001b[0;34m(self, format)\u001b[0m\n\u001b[1;32m      0\u001b[0m <Error retrieving source code with stack_data see ipython/ipython#13598>\n",
      "\u001b[0;31mValueError\u001b[0m: <Dosepy.image.TiffImage object at 0x72b3db318e10>"
     ]
    }
   ],
   "source": [
    "from Dosepy.tiff2dose import Tiff2DoseM, Tiff2DoseFactory, RedPolynomialDoseConverter\n",
    "\n",
    "dose_converter_factory = Tiff2DoseFactory()\n",
    "dose_converter_factory.register_method(\"RP\", RedPolynomialDoseConverter)\n",
    "\n",
    "file_path = \"/home/luis/Documents/GitHub/Dosepy/tests/unit/fixtures/Ver_050dpi20241106_001.tif\"\n",
    "img = load(file_path)\n",
    "\n",
    "dose_converter = Tiff2DoseM()\n",
    "dose_converter.get_dose(img, \"RP\", \"lut\")\n",
    "\n"
   ]
  }
 ],
 "metadata": {
  "kernelspec": {
   "display_name": "dp",
   "language": "python",
   "name": "python3"
  },
  "language_info": {
   "codemirror_mode": {
    "name": "ipython",
    "version": 3
   },
   "file_extension": ".py",
   "mimetype": "text/x-python",
   "name": "python",
   "nbconvert_exporter": "python",
   "pygments_lexer": "ipython3",
   "version": "3.11.9"
  }
 },
 "nbformat": 4,
 "nbformat_minor": 2
}
