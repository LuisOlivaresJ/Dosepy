{
 "cells": [
  {
   "cell_type": "code",
   "execution_count": 2,
   "metadata": {},
   "outputs": [],
   "source": [
    "# In serializer_demo.py\n",
    "\n",
    "import json\n",
    "import xml.etree.ElementTree as et\n",
    "\n",
    "# Implementar interface Serializable\n",
    "#* .start_object\n",
    "#* .add_property\n",
    "\n",
    "class Song:\n",
    "    def __init__(self, song_id, title, artist):\n",
    "        self.song_id = song_id\n",
    "        self.title = title\n",
    "        self.artist = artist\n",
    "\n",
    "    def serialize(self, serializer):\n",
    "        serializer.start_object(\"song\", self.song_id)\n",
    "        serializer.add_property(\"title\", self.title)\n",
    "        serializer.add_property(\"artist\", self.artist)\n",
    "\n",
    "\n",
    "class SongSerializer:\n",
    "    def serialize(self, song, format):  # The client component of the pattern.\n",
    "        serializer = self._get_serializer(format)\n",
    "        return serializer(song)\n",
    "\n",
    "    def _get_serializer(self, format):  # The product component or creactor component. WORKER\n",
    "        if format == 'JSON':\n",
    "            return self._serialize_to_json\n",
    "        elif format == 'XML':\n",
    "            return self._serialize_to_xml\n",
    "        else:\n",
    "            raise ValueError(format)\n",
    "\n",
    "    def _serialize_to_json(self, song):  # Concrete implementations of the product.\n",
    "        payload = {\n",
    "            'id': song.song_id,\n",
    "            'title': song.title,\n",
    "            'artist': song.artist\n",
    "        }\n",
    "        return json.dumps(payload)\n",
    "\n",
    "    def _serialize_to_xml(self, song):  # Concrete implementations of the product.\n",
    "        song_element = et.Element('song', attrib={'id': song.song_id})\n",
    "        title = et.SubElement(song_element, 'title')\n",
    "        title.text = song.title\n",
    "        artist = et.SubElement(song_element, 'artist')\n",
    "        artist.text = song.artist\n",
    "        return et.tostring(song_element, encoding='unicode')\n"
   ]
  },
  {
   "cell_type": "markdown",
   "metadata": {},
   "source": [
    "## Ejemplo de la aplicación de una interface, \n",
    "\n",
    "Las clases que implementen la interface, deberán contener los siguientes métodos:\n",
    "\n",
    "* .start_object(object_name, object_id)\n",
    "* .add_property(name, value)\n",
    "* .to_str()"
   ]
  },
  {
   "cell_type": "code",
   "execution_count": 8,
   "metadata": {},
   "outputs": [],
   "source": [
    "    \n",
    "class ObjectSerializer:\n",
    "    def serialize(self, serializable, format):\n",
    "        serializer = factory.get_serializer(format)\n",
    "        serializable.serialize(serializer)\n",
    "        return serializer.to_str()\n",
    "    \n",
    "\n",
    "class SerializerFactory:\n",
    "    def get_serializer(self, format):\n",
    "        if format == \"JSON\":\n",
    "            return JsonSerializer()\n",
    "        elif format == \"XML\":\n",
    "            return XmlSerializer()\n",
    "        else:\n",
    "            return ValueError(format)\n",
    "        \n",
    "factory = SerializerFactory()\n",
    "\n",
    "\n",
    "class JsonSerializer:\n",
    "    def __init__(self):\n",
    "        self._current_object = None\n",
    "    \n",
    "\n",
    "    def start_object(self, object_name):\n",
    "        self._current_object = {\n",
    "            \"id\": object_name\n",
    "        }\n",
    "\n",
    "\n",
    "    def add_property(self, name, value):\n",
    "        self._current_object[name] = value\n",
    "\n",
    "\n",
    "    def to_str(self):\n",
    "        return json.dumps(self._current_object)\n",
    "    \n",
    "    \n",
    "class XmlSerializer:\n",
    "    def __init__(self):\n",
    "        self._element = None\n",
    "\n",
    "    def start_object(self, object_name, object_id):\n",
    "        self._element = et.Element(object_name, attrib={'id': object_id})\n",
    "\n",
    "    def add_property(self, name, value):\n",
    "        prop = et.SubElement(self._element, name)\n",
    "        prop.text = value\n",
    "\n",
    "    def to_str(self):\n",
    "        return et.tostring(self._element, encoding='unicode')"
   ]
  },
  {
   "cell_type": "code",
   "execution_count": 3,
   "metadata": {},
   "outputs": [],
   "source": [
    "song = Song('1', 'Water of Love', 'Dire Straits')\n",
    "serializer = SongSerializer()"
   ]
  },
  {
   "cell_type": "code",
   "execution_count": 4,
   "metadata": {},
   "outputs": [
    {
     "data": {
      "text/plain": [
       "'{\"id\": \"1\", \"title\": \"Water of Love\", \"artist\": \"Dire Straits\"}'"
      ]
     },
     "execution_count": 4,
     "metadata": {},
     "output_type": "execute_result"
    }
   ],
   "source": [
    "serializer.serialize(song, 'JSON')"
   ]
  }
 ],
 "metadata": {
  "kernelspec": {
   "display_name": "dp",
   "language": "python",
   "name": "python3"
  },
  "language_info": {
   "codemirror_mode": {
    "name": "ipython",
    "version": 3
   },
   "file_extension": ".py",
   "mimetype": "text/x-python",
   "name": "python",
   "nbconvert_exporter": "python",
   "pygments_lexer": "ipython3",
   "version": "3.11.9"
  }
 },
 "nbformat": 4,
 "nbformat_minor": 2
}
