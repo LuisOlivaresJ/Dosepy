{
 "cells": [
  {
   "cell_type": "code",
   "execution_count": 9,
   "metadata": {},
   "outputs": [],
   "source": [
    "# In serializer_demo.py\n",
    "\n",
    "import json\n",
    "import xml.etree.ElementTree as et\n",
    "\n",
    "\n",
    "class Song:\n",
    "    def __init__(self, song_id, title, artist):\n",
    "        self.song_id = song_id\n",
    "        self.title = title\n",
    "        self.artist = artist\n",
    "\n",
    "    def serialize(self, serializer):\n",
    "        serializer.start_object(\"song\", self.song_id)\n",
    "        serializer.add_property(\"title\", self.title)\n",
    "        serializer.add_property(\"artist\", self.artist)\n"
   ]
  },
  {
   "cell_type": "markdown",
   "metadata": {},
   "source": [
    "## Ejemplo de la aplicación de una interface, \n",
    "\n",
    "Las clases que implementen la interface, deberán contener los siguientes métodos:\n",
    "\n",
    "* .start_object(object_name, object_id)\n",
    "* .add_property(name, value)\n",
    "* .to_str()"
   ]
  },
  {
   "cell_type": "code",
   "execution_count": 10,
   "metadata": {},
   "outputs": [],
   "source": [
    "    \n",
    "class ObjectSerializer:\n",
    "\n",
    "    def serialize(self, serializable, format):\n",
    "        serializer = factory.get_serializer(format)\n",
    "        serializable.serialize(serializer)\n",
    "        return serializer.to_str()\n",
    "    \n",
    "\n",
    "class SerializerFactory:\n",
    "\n",
    "    def __init__(self):\n",
    "        self._creators = {}\n",
    "\n",
    "\n",
    "    def register_format(self, format, creator):\n",
    "        self._creators[format] = creator\n",
    "\n",
    "\n",
    "    def get_serializer(self, format):\n",
    "        creator = self._creators.get(format)\n",
    "        if not creator:\n",
    "            raise ValueError(format)\n",
    "        return creator()\n",
    "\n",
    "\n",
    "class JsonSerializer:\n",
    "    def __init__(self):\n",
    "        self._current_object = None\n",
    "    \n",
    "\n",
    "    def start_object(self, object_name, object_id):\n",
    "        self._current_object = {\n",
    "            \"id\": object_id,\n",
    "        }\n",
    "\n",
    "\n",
    "    def add_property(self, name, value):\n",
    "        self._current_object[name] = value\n",
    "\n",
    "\n",
    "    def to_str(self):\n",
    "        return json.dumps(self._current_object)\n",
    "    \n",
    "    \n",
    "class XmlSerializer:\n",
    "    def __init__(self):\n",
    "        self._element = None\n",
    "\n",
    "    def start_object(self, object_name, object_id):\n",
    "        self._element = et.Element(object_name, attrib={'id': object_id})\n",
    "\n",
    "    def add_property(self, name, value):\n",
    "        prop = et.SubElement(self._element, name)\n",
    "        prop.text = value\n",
    "\n",
    "    def to_str(self):\n",
    "        return et.tostring(self._element, encoding='unicode')\n",
    "    \n",
    "\n",
    "factory = SerializerFactory()\n",
    "factory.register_format(\"JSON\", JsonSerializer)\n",
    "factory.register_format(\"XML\", XmlSerializer)"
   ]
  },
  {
   "cell_type": "code",
   "execution_count": 11,
   "metadata": {},
   "outputs": [
    {
     "data": {
      "text/plain": [
       "'{\"id\": \"1\", \"title\": \"Water of Love\", \"artist\": \"Dire Straits\"}'"
      ]
     },
     "execution_count": 11,
     "metadata": {},
     "output_type": "execute_result"
    }
   ],
   "source": [
    "song = Song('1', 'Water of Love', 'Dire Straits')\n",
    "serializer = ObjectSerializer()\n",
    "serializer.serialize(song, \"JSON\")"
   ]
  },
  {
   "cell_type": "code",
   "execution_count": 4,
   "metadata": {},
   "outputs": [
    {
     "data": {
      "text/plain": [
       "'{\"id\": \"1\", \"title\": \"Water of Love\", \"artist\": \"Dire Straits\"}'"
      ]
     },
     "execution_count": 4,
     "metadata": {},
     "output_type": "execute_result"
    }
   ],
   "source": [
    "serializer.serialize(song, 'JSON')"
   ]
  }
 ],
 "metadata": {
  "kernelspec": {
   "display_name": "dp",
   "language": "python",
   "name": "python3"
  },
  "language_info": {
   "codemirror_mode": {
    "name": "ipython",
    "version": 3
   },
   "file_extension": ".py",
   "mimetype": "text/x-python",
   "name": "python",
   "nbconvert_exporter": "python",
   "pygments_lexer": "ipython3",
   "version": "3.11.9"
  }
 },
 "nbformat": 4,
 "nbformat_minor": 2
}
