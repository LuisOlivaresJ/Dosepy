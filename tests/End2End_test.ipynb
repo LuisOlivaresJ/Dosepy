{
 "cells": [
  {
   "cell_type": "markdown",
   "id": "3a501289-6d7e-4e0d-ab76-e85eca296d50",
   "metadata": {},
   "source": [
    "## Calibración de película y aplicación a un archivo tiff \n",
    "Dosepy versión 0.6.0"
   ]
  },
  {
   "cell_type": "markdown",
   "id": "e08b5a51-de07-4317-88db-e104a3240ae3",
   "metadata": {},
   "source": [
    "### Importar librerias"
   ]
  },
  {
   "cell_type": "code",
   "execution_count": 1,
   "id": "af2c510f-3190-4d6a-80ca-025904a65db7",
   "metadata": {},
   "outputs": [
    {
     "ename": "ModuleNotFoundError",
     "evalue": "No module named 'calibration'",
     "output_type": "error",
     "traceback": [
      "\u001b[0;31m---------------------------------------------------------------------------\u001b[0m",
      "\u001b[0;31mModuleNotFoundError\u001b[0m                       Traceback (most recent call last)",
      "Cell \u001b[0;32mIn[1], line 1\u001b[0m\n\u001b[0;32m----> 1\u001b[0m \u001b[38;5;28;01mfrom\u001b[39;00m \u001b[38;5;21;01mDosepy\u001b[39;00m\u001b[38;5;21;01m.\u001b[39;00m\u001b[38;5;21;01mtools\u001b[39;00m\u001b[38;5;21;01m.\u001b[39;00m\u001b[38;5;21;01mimage\u001b[39;00m \u001b[38;5;28;01mimport\u001b[39;00m load\n\u001b[1;32m      2\u001b[0m \u001b[38;5;28;01mfrom\u001b[39;00m \u001b[38;5;21;01mpathlib\u001b[39;00m \u001b[38;5;28;01mimport\u001b[39;00m Path\n",
      "File \u001b[0;32m~/miniconda3/envs/dp/lib/python3.10/site-packages/Dosepy/tools/image.py:31\u001b[0m\n\u001b[1;32m     28\u001b[0m \u001b[38;5;28;01mfrom\u001b[39;00m \u001b[38;5;21;01mskimage\u001b[39;00m\u001b[38;5;21;01m.\u001b[39;00m\u001b[38;5;21;01mfilters\u001b[39;00m\u001b[38;5;21;01m.\u001b[39;00m\u001b[38;5;21;01mrank\u001b[39;00m \u001b[38;5;28;01mimport\u001b[39;00m mean\n\u001b[1;32m     30\u001b[0m \u001b[38;5;66;03m#from Dosepy.tools.calibration import polynomial_g3, rational_func, Calibration\u001b[39;00m\n\u001b[0;32m---> 31\u001b[0m \u001b[38;5;28;01mfrom\u001b[39;00m \u001b[38;5;21;01mcalibration\u001b[39;00m \u001b[38;5;28;01mimport\u001b[39;00m polynomial_g3, rational_func, Calibration\n\u001b[1;32m     33\u001b[0m MM_PER_INCH \u001b[38;5;241m=\u001b[39m \u001b[38;5;241m25.4\u001b[39m\n\u001b[1;32m     35\u001b[0m ImageLike \u001b[38;5;241m=\u001b[39m Union[\u001b[38;5;124m\"\u001b[39m\u001b[38;5;124mArrayImage\u001b[39m\u001b[38;5;124m\"\u001b[39m, \u001b[38;5;124m\"\u001b[39m\u001b[38;5;124mTiffImage\u001b[39m\u001b[38;5;124m\"\u001b[39m, \u001b[38;5;124m\"\u001b[39m\u001b[38;5;124mCalibImage\u001b[39m\u001b[38;5;124m\"\u001b[39m]\n",
      "\u001b[0;31mModuleNotFoundError\u001b[0m: No module named 'calibration'"
     ]
    }
   ],
   "source": [
    "from Dosepy.tools.image import load\n",
    "from pathlib import Path"
   ]
  },
  {
   "cell_type": "markdown",
   "id": "db552020-1ec0-4516-9c09-7b6c5165c69e",
   "metadata": {},
   "source": [
    "### Definir las dosis usadas para calibración"
   ]
  },
  {
   "cell_type": "code",
   "execution_count": null,
   "id": "49b88b41-aac0-4c21-bc08-3a4d97521fc0",
   "metadata": {},
   "outputs": [],
   "source": [
    "imparted_doses = [0, 0.5, 1, 1.5, 2, 3, 5, 8, 10]"
   ]
  },
  {
   "cell_type": "markdown",
   "id": "96479326-4be1-427d-8b9c-1ab4c823767c",
   "metadata": {},
   "source": [
    "### Lectura de archivo\n",
    "\n",
    "Archivo tiff con películas irradiadas a los valores de dosis previos."
   ]
  },
  {
   "cell_type": "code",
   "execution_count": null,
   "id": "f4781cf1-42b7-4144-8b97-8263c0332160",
   "metadata": {},
   "outputs": [],
   "source": [
    "#file_path = Path(\"/home/luis/Downloads\") / \"POS48_1.tif\"  # Office PC\n",
    "file_path = Path(\"/home/luis/Descargas\") / \"POS48_1.tif\" # Personal laptop\n",
    "cal_image = load(file_path, for_calib = True)"
   ]
  },
  {
   "cell_type": "markdown",
   "id": "ec60e9cc-a1a6-404e-8c54-2cccd07e5a62",
   "metadata": {},
   "source": [
    "### Generar curva de calibración\n",
    "Se utilizará el canal rojo, una ROI rectangular de 16 mm x 8 mm y un ajuste a una función racional."
   ]
  },
  {
   "cell_type": "code",
   "execution_count": null,
   "id": "e90e811d-eafa-4795-af00-6b72cd25e09a",
   "metadata": {},
   "outputs": [],
   "source": [
    "cal = cal_image.get_calibration(doses = imparted_doses, channel = \"R\", roi = (16, 8), func = \"RF\")\n",
    "cal.plot(color = 'red')"
   ]
  },
  {
   "cell_type": "markdown",
   "id": "fc0b2fb1-26c3-4b75-a00d-c62afee5ad4e",
   "metadata": {},
   "source": [
    "### Mostrar ROIs y valores medios de pixel."
   ]
  },
  {
   "cell_type": "code",
   "execution_count": null,
   "id": "3b493587-49f4-45b0-b168-011f51e8932d",
   "metadata": {},
   "outputs": [],
   "source": [
    "cal_image.get_stat(ch = 'B', roi = (16, 8), show = True)"
   ]
  },
  {
   "cell_type": "markdown",
   "id": "f8f90576-c6c5-47a5-947e-b2dc36da70c7",
   "metadata": {},
   "source": [
    "## Aplicar curva a un nuevo archivo tiff\n"
   ]
  },
  {
   "cell_type": "markdown",
   "id": "b08c518d-a53d-488c-a5fe-52fcd20cb238",
   "metadata": {},
   "source": [
    "### Lectura de archivo"
   ]
  },
  {
   "cell_type": "code",
   "execution_count": null,
   "id": "83436763-e7e9-4245-a182-d948ae21544c",
   "metadata": {},
   "outputs": [],
   "source": [
    "#verif_path = Path(\"/home/luis/Downloads\") / \"VERIFICACION_1.tif\"  # Office PC\n",
    "verif_path = Path(\"/home/luis/Descargas\") / \"VERIFICACION_1.tif\" # Personal laptop\n",
    "verif = load(verif_path)\n",
    "\n",
    "verif.plot()"
   ]
  },
  {
   "cell_type": "markdown",
   "id": "84398884-8dbb-4809-a31e-b7b91500f5cd",
   "metadata": {},
   "source": [
    "### Aplicar curva "
   ]
  },
  {
   "cell_type": "code",
   "execution_count": null,
   "id": "d7af5793-f883-4521-9fe0-62a58312301e",
   "metadata": {},
   "outputs": [],
   "source": [
    "dose_img = verif.to_dose(cal)"
   ]
  },
  {
   "cell_type": "markdown",
   "id": "74a974e2-660d-4fe3-a6cf-f100f45fe32c",
   "metadata": {},
   "source": [
    "### Mostrar distribución"
   ]
  },
  {
   "cell_type": "code",
   "execution_count": null,
   "id": "8eff59f8-b7d2-432d-a03f-604edc5536dd",
   "metadata": {},
   "outputs": [],
   "source": [
    "\n",
    "import matplotlib.pyplot as plt\n",
    "import numpy as np\n",
    "fig, ax = plt.subplots(ncols=1)\n",
    "\n",
    "# plot and save the\n",
    "# color \"mappable\" object returned by ax.imshow\n",
    "max_dose = np.percentile(dose_img.array, [99.9])[0]\n",
    "#pos = ax.imshow(dose_img.array, cmap='turbo')\n",
    "pos = ax.imshow(dose_img.array, cmap='nipy_spectral')\n",
    "#pos = ax.imshow(dose_img.array)\n",
    "pos.set_clim(-.05, max_dose)\n",
    "#pos.set_clim(0, max_dose)\n",
    "\n",
    "# add the colorbar using the figure's method,\n",
    "# telling which mappable we're talking about and\n",
    "# which axes object it should be near\n",
    "fig.colorbar(pos, ax=ax)\n"
   ]
  },
  {
   "cell_type": "markdown",
   "id": "0ec8aad7-e659-458f-9e61-6314995e6bf4",
   "metadata": {},
   "source": [
    "## Guardar como archivo tiff (de utilidad para análisis con ImageJ)"
   ]
  },
  {
   "cell_type": "markdown",
   "id": "5a9244a8-e8dd-427c-9584-44acf5c72e99",
   "metadata": {},
   "source": [
    "### Numpy to bytes and cGy"
   ]
  },
  {
   "cell_type": "code",
   "execution_count": null,
   "id": "859239af-deb2-415b-8d00-2df6744bea58",
   "metadata": {},
   "outputs": [],
   "source": [
    "import imageio.v3 as iio\n",
    "#%matplotlib qt\n",
    "\n",
    "data = np.int64(dose_img.array*100) # Gy to cGy\n",
    "\n",
    "np_tif = data.astype(np.uint16)\n",
    "png_encoded = iio.imwrite(\"<bytes>\", np_tif, extension=\".tif\")\n"
   ]
  },
  {
   "cell_type": "markdown",
   "id": "2e5c7be5-71d0-437d-9424-ae91b9e74b2e",
   "metadata": {},
   "source": [
    "### Guardar como tiff"
   ]
  },
  {
   "cell_type": "code",
   "execution_count": null,
   "id": "516b4775-2544-44ea-8da0-7352e38a3c82",
   "metadata": {},
   "outputs": [],
   "source": [
    "with open('test.tif', 'wb') as f: \n",
    "    f.write(png_encoded)"
   ]
  },
  {
   "cell_type": "markdown",
   "id": "3a1dae34-03a8-4dc5-a35c-0a22fbd0f53d",
   "metadata": {},
   "source": [
    "### Mostrar dosis promedio en ROI (...en desarrollo)"
   ]
  },
  {
   "cell_type": "code",
   "execution_count": null,
   "id": "2dc63bd5-efde-4e4a-ac68-10c45f934593",
   "metadata": {},
   "outputs": [],
   "source": [
    "import numpy as np\n",
    "from tools.calibration import polynomial_g3, rational_func\n",
    "\n",
    "mean_pixel, _ = verif.get_stat(ch = \"R\", roi = (30, 10), show = True)\n",
    "mean_pixel = sorted(mean_pixel, reverse = True)\n",
    "\n",
    "# Pixel normalization \n",
    "norm_pixel = np.array(mean_pixel)/mean_pixel[0]\n",
    "dose_from_rational = rational_func(norm_pixel, *cal.popt)\n",
    "print(f\"Dosis por ajuste racional: {dose_from_rational}\")\n"
   ]
  },
  {
   "cell_type": "code",
   "execution_count": null,
   "id": "ec5b6197-6a00-404c-8d0b-d63a1676da24",
   "metadata": {},
   "outputs": [],
   "source": [
    "doses_in_central_rois = verif.doses_in_central_rois(cal, roi = (20, 8), show=True)\n",
    "print(doses_in_central_rois)"
   ]
  },
  {
   "cell_type": "code",
   "execution_count": null,
   "id": "763ad3ac-ad67-4c1d-8399-356f2378c0c4",
   "metadata": {},
   "outputs": [],
   "source": [
    "type(doses_in_central_rois)"
   ]
  },
  {
   "cell_type": "code",
   "execution_count": null,
   "id": "1a918512-fca6-428c-b862-b4cdb6c058d0",
   "metadata": {},
   "outputs": [],
   "source": [
    "dose_img.save_as_tif(\"tif_from_function\")"
   ]
  },
  {
   "cell_type": "code",
   "execution_count": null,
   "id": "16918514-cf0f-4570-ad9c-da764c4ff403",
   "metadata": {},
   "outputs": [],
   "source": [
    "%matplotlib qt"
   ]
  },
  {
   "cell_type": "code",
   "execution_count": null,
   "id": "39379ae3-3aab-476b-9581-cd68a0979dff",
   "metadata": {},
   "outputs": [],
   "source": [
    "plt.imshow(dose_img.array)"
   ]
  },
  {
   "cell_type": "markdown",
   "id": "fee433c6-fd31-4ba6-85b2-2ae97a651f05",
   "metadata": {},
   "source": [
    "## Calibración con vidrio y tapa"
   ]
  },
  {
   "cell_type": "code",
   "execution_count": null,
   "id": "5e8cdb56-0c20-4567-a911-4aa9e38a5e1d",
   "metadata": {},
   "outputs": [],
   "source": [
    "#file_path_3 = Path(\"/home/luis/Downloads\") / \"POS48_3.tif\"  # Office PC\n",
    "file_path_3 = Path(\"/home/luis/Descargas\") / \"POS48_3.tif\" # Personal laptop\n",
    "cal_image_3 = load(file_path_3, for_calib = True)"
   ]
  },
  {
   "cell_type": "code",
   "execution_count": null,
   "id": "38562950-a2da-44fa-a30f-6ee385666ecf",
   "metadata": {},
   "outputs": [],
   "source": [
    "cal_3 = cal_image_3.get_calibration(doses = imparted_doses, channel = \"B\", roi = (16, 8), func = \"P3\")\n",
    "cal_3.plot(color = 'blue')"
   ]
  },
  {
   "cell_type": "code",
   "execution_count": null,
   "id": "4a08839d-e820-46bd-8899-8277818bd620",
   "metadata": {},
   "outputs": [],
   "source": [
    "cal_image_3.get_stat(ch = 'B', roi = (16, 8), show = True)"
   ]
  },
  {
   "cell_type": "code",
   "execution_count": null,
   "id": "1637a277-be52-4943-91d0-fe73fb60fcf6",
   "metadata": {},
   "outputs": [],
   "source": [
    "#verif_path_3 = Path(\"/home/luis/Downloads\") / \"VERIFICACION_3.tif\"  # Office PC\n",
    "verif_path_3 = Path(\"/home/luis/Descargas\") / \"VERIFICACION_3.tif\" # Personal laptop\n",
    "verif_3 = load(verif_path_3)"
   ]
  },
  {
   "cell_type": "code",
   "execution_count": null,
   "id": "7e34a013-cc7f-436d-a053-65d50e811f87",
   "metadata": {},
   "outputs": [],
   "source": [
    "mean_pixel_3, _ = verif_3.get_stat(ch = \"B\", roi = (30, 10), show = True)\n",
    "mean_pixel_3 = sorted(mean_pixel_3, reverse = True)\n",
    "#mean_pixel\n",
    "\n",
    "optical_density_3 = -np.log10(np.array(mean_pixel_3)/mean_pixel_3[0])\n",
    "\n",
    "dosis_from_fit_3 = polynomial_g3(optical_density_3, *cal_3.popt)\n",
    "dosis_from_fit_3[dosis_from_fit_3 < 0] = 0 # Remove doses < 0\n",
    "\n",
    "print(f\"Dosis por ajuste: {dosis_from_fit_3}\")\n"
   ]
  }
 ],
 "metadata": {
  "kernelspec": {
   "display_name": "Python 3 (ipykernel)",
   "language": "python",
   "name": "python3"
  },
  "language_info": {
   "codemirror_mode": {
    "name": "ipython",
    "version": 3
   },
   "file_extension": ".py",
   "mimetype": "text/x-python",
   "name": "python",
   "nbconvert_exporter": "python",
   "pygments_lexer": "ipython3",
   "version": "3.10.13"
  }
 },
 "nbformat": 4,
 "nbformat_minor": 5
}
