{
 "cells": [
  {
   "cell_type": "code",
   "execution_count": 6,
   "metadata": {},
   "outputs": [],
   "source": [
    "from omg_dosimetry.tiff2dose import Gaf\n",
    "from omg_dosimetry.calibration import load_lut_array\n",
    "from pathlib import Path\n",
    "from image import load"
   ]
  },
  {
   "cell_type": "markdown",
   "metadata": {},
   "source": [
    "### Is LUT from Dosepy compatible with OMG Gaf class?"
   ]
  },
  {
   "cell_type": "code",
   "execution_count": 7,
   "metadata": {},
   "outputs": [],
   "source": [
    "verif_path = Path(\"/home/luis/Descargas\") / \"VERIFICACION_1.tif\" # Personal laptop\n",
    "verif = load(verif_path)"
   ]
  },
  {
   "cell_type": "code",
   "execution_count": 8,
   "metadata": {},
   "outputs": [
    {
     "data": {
      "text/plain": [
       "<image.TiffImage at 0x7f3e5a7cb2b0>"
      ]
     },
     "execution_count": 8,
     "metadata": {},
     "output_type": "execute_result"
    }
   ],
   "source": [
    "verif"
   ]
  },
  {
   "cell_type": "code",
   "execution_count": 13,
   "metadata": {},
   "outputs": [
    {
     "data": {
      "text/plain": [
       "array([[    0.,    50.,   100.,   150.,   200.,   300.,   500.,   800.,\n",
       "         1000.],\n",
       "       [    0.,    50.,   100.,   150.,   200.,   300.,   500.,   800.,\n",
       "         1000.],\n",
       "       [37584., 30194., 26092., 23218., 21039., 18259., 14913., 12579.,\n",
       "        11700.],\n",
       "       [43683., 32512., 27007., 23535., 21151., 18356., 15515., 13682.,\n",
       "        12980.],\n",
       "       [42031., 33710., 28796., 25130., 22258., 18509., 13893., 10956.,\n",
       "         9956.],\n",
       "       [27037., 24361., 22472., 20990., 19708., 17912., 15330., 13098.,\n",
       "        12165.]])"
      ]
     },
     "execution_count": 13,
     "metadata": {},
     "output_type": "execute_result"
    }
   ],
   "source": [
    "from omg_dosimetry.calibration import save_lut\n",
    "import numpy as np\n",
    "\n",
    "# Load lut (./user/test_lut.npy)\n",
    "np.load(\"../user/calibration/test_lut.npy\")\n",
    "#save_lut(\"/home/luis/Descargas\")"
   ]
  },
  {
   "cell_type": "code",
   "execution_count": null,
   "metadata": {},
   "outputs": [],
   "source": [
    "gaf1 = Gaf(\n",
    "    path=demo_path,\n",
    "    lut_file=lut_file,\n",
    "    fit_type='rational',\n",
    "    clip=1100,\n",
    "    )"
   ]
  },
  {
   "cell_type": "markdown",
   "metadata": {},
   "source": [
    "#### No es compatible.\n",
    "Habría que modificar la clase Gaf para que lea el archivo LUT desde un array, así como modificar la función load."
   ]
  },
  {
   "cell_type": "markdown",
   "metadata": {},
   "source": [
    "#### ¿Cómo guardar una clase Dosepy.calibration.Calibration?\n",
    "https://realpython.com/python-pickle-module/"
   ]
  }
 ],
 "metadata": {
  "kernelspec": {
   "display_name": "dp",
   "language": "python",
   "name": "python3"
  },
  "language_info": {
   "codemirror_mode": {
    "name": "ipython",
    "version": 3
   },
   "file_extension": ".py",
   "mimetype": "text/x-python",
   "name": "python",
   "nbconvert_exporter": "python",
   "pygments_lexer": "ipython3",
   "version": "3.10.13"
  }
 },
 "nbformat": 4,
 "nbformat_minor": 2
}
