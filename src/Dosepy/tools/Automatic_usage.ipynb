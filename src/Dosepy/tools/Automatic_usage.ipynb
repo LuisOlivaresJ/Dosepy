{
 "cells": [
  {
   "cell_type": "markdown",
   "id": "4577531e-faa9-4dc4-b14a-99f1a2dfb91c",
   "metadata": {},
   "source": [
    "## Installation\n",
    "\n",
    "1. Open a terminal\n",
    "2. Create a conda environment\n",
    "\n",
    "   conda create -n myenv python=3.10\n",
    "   \n",
    "   conda activate myenv\n",
    "\n",
    "3. Intall Dosepy\n",
    "   \n",
    "   pip install -i https://test.pypi.org/simple/ Dosepy==0.4.1"
   ]
  },
  {
   "cell_type": "markdown",
   "id": "1b02f867-1f9a-48f2-8a09-32593b7c8269",
   "metadata": {},
   "source": [
    "## Load an image"
   ]
  },
  {
   "cell_type": "code",
   "execution_count": 1,
   "id": "9f127007-6df3-4899-bf9d-c5d5efdf02af",
   "metadata": {},
   "outputs": [
    {
     "ename": "TypeError",
     "evalue": "The argument `/home/luis/Documents/GitHub/Dosepy/src/Dosepy/data/PRUEBA_LUIS.tif` was not found to be a valid TIFF file or an array.",
     "output_type": "error",
     "traceback": [
      "\u001b[0;31m---------------------------------------------------------------------------\u001b[0m",
      "\u001b[0;31mTypeError\u001b[0m                                 Traceback (most recent call last)",
      "Cell \u001b[0;32mIn[1], line 10\u001b[0m\n\u001b[1;32m      6\u001b[0m file_path \u001b[38;5;241m=\u001b[39m Path(\u001b[38;5;124m\"\u001b[39m\u001b[38;5;124m/home/luis/Documents/GitHub/Dosepy/src/Dosepy/data\u001b[39m\u001b[38;5;124m\"\u001b[39m) \u001b[38;5;241m/\u001b[39m \u001b[38;5;124m\"\u001b[39m\u001b[38;5;124mPRUEBA_LUIS.tif\u001b[39m\u001b[38;5;124m\"\u001b[39m\n\u001b[1;32m      7\u001b[0m \u001b[38;5;66;03m# Personal laptop\u001b[39;00m\n\u001b[1;32m      8\u001b[0m \u001b[38;5;66;03m#file_path = Path(\"/home/luis/Dosepy/src/Dosepy/data\") / \"PRUEBA_LUIS.tif\"\u001b[39;00m\n\u001b[0;32m---> 10\u001b[0m cal_image \u001b[38;5;241m=\u001b[39m \u001b[43mload\u001b[49m\u001b[43m(\u001b[49m\u001b[43mfile_path\u001b[49m\u001b[43m,\u001b[49m\u001b[43m \u001b[49m\u001b[43mfor_calib\u001b[49m\u001b[43m \u001b[49m\u001b[38;5;241;43m=\u001b[39;49m\u001b[43m \u001b[49m\u001b[38;5;28;43;01mTrue\u001b[39;49;00m\u001b[43m)\u001b[49m\n\u001b[1;32m     12\u001b[0m cal_image\u001b[38;5;241m.\u001b[39mplot()\n",
      "File \u001b[0;32m~/miniconda3/envs/dp/lib/python3.10/site-packages/Dosepy/tools/image.py:84\u001b[0m, in \u001b[0;36mload\u001b[0;34m(path, for_calib, filter)\u001b[0m\n\u001b[1;32m     82\u001b[0m         \u001b[38;5;28;01mreturn\u001b[39;00m tiff_image\n\u001b[1;32m     83\u001b[0m \u001b[38;5;28;01melse\u001b[39;00m:\n\u001b[0;32m---> 84\u001b[0m     \u001b[38;5;28;01mraise\u001b[39;00m \u001b[38;5;167;01mTypeError\u001b[39;00m(\n\u001b[1;32m     85\u001b[0m         \u001b[38;5;124mf\u001b[39m\u001b[38;5;124m\"\u001b[39m\u001b[38;5;124mThe argument `\u001b[39m\u001b[38;5;132;01m{\u001b[39;00mpath\u001b[38;5;132;01m}\u001b[39;00m\u001b[38;5;124m` was not found to be a valid TIFF file or an array.\u001b[39m\u001b[38;5;124m\"\u001b[39m\n\u001b[1;32m     86\u001b[0m     )\n",
      "\u001b[0;31mTypeError\u001b[0m: The argument `/home/luis/Documents/GitHub/Dosepy/src/Dosepy/data/PRUEBA_LUIS.tif` was not found to be a valid TIFF file or an array."
     ]
    }
   ],
   "source": [
    "#from image import load\n",
    "from Dosepy.tools.image import load\n",
    "from pathlib import Path\n",
    "\n",
    "# PC office\n",
    "#file_path = Path(\"/home/luis/Documents/GitHub/Dosepy/src/Dosepy/data\") / \"PRUEBA_LUIS.tif\"\n",
    "# Personal laptop\n",
    "#file_path = Path(\"/home/luis/Dosepy/src/Dosepy/data\") / \"PRUEBA_LUIS.tif\"\n",
    "\n",
    "cal_image = load(file_path, for_calib = True)\n",
    "\n",
    "cal_image.plot()"
   ]
  },
  {
   "cell_type": "markdown",
   "id": "50aef79f-2bae-487e-9d41-b86032b9b837",
   "metadata": {},
   "source": [
    "### Get calibration"
   ]
  },
  {
   "cell_type": "code",
   "execution_count": null,
   "id": "82b61038-b8e7-42cb-a1a4-8c82d382442e",
   "metadata": {},
   "outputs": [],
   "source": [
    "cal = cal_image.get_calibration(doses = [0, 0.5, 1,1.5, 2, 3, 5, 8, 10], channel = \"G\", field_in_film = True)\n",
    "cal.plot(color = 'green')"
   ]
  },
  {
   "cell_type": "markdown",
   "id": "317dc27a-5af0-4a2a-b3e2-7079de2caed4",
   "metadata": {},
   "source": [
    "### Get statistics"
   ]
  },
  {
   "cell_type": "code",
   "execution_count": null,
   "id": "a7897270-3d7e-49c2-8a85-ee5cf0b42573",
   "metadata": {},
   "outputs": [],
   "source": [
    "mean, std = cal_image.get_stat(ch = 'G', field_in_film = True, ar = 0.4, show = True)\n",
    "print(\"mean, standar deviation\")\n",
    "list(zip(mean, std))"
   ]
  },
  {
   "cell_type": "markdown",
   "id": "f76a9e77-7d74-471c-9e0d-a415bf9b15fd",
   "metadata": {},
   "source": [
    "## Other channels (Under development)"
   ]
  },
  {
   "cell_type": "code",
   "execution_count": null,
   "id": "050ce4b3-90b6-4ac4-aec8-67eaa65c5f99",
   "metadata": {},
   "outputs": [],
   "source": [
    "for ch in [\"R\",\"G\",\"B\"]:\n",
    "\n",
    "    print(ch)\n",
    "    mean, std = cal_image.get_stat(ch = ch, field_in_film = True, ar = 0.4, show = True)\n",
    "\n",
    "    cal = cal_image.get_calibration(doses = [0, 0.5, 1,1.5, 2, 3, 5, 8, 10], channel = ch)\n",
    "    cal.plot()\n",
    "\n",
    "#from skimage.color import rgb2gray\n",
    "\n",
    "#gray_scale = rgb2gray(cal_image.array[:,:,0])"
   ]
  },
  {
   "cell_type": "code",
   "execution_count": null,
   "id": "4e1d6ad0-eae8-45e3-94f2-2ed86d32c7a4",
   "metadata": {},
   "outputs": [],
   "source": [
    "import matplotlib.pyplot as plt"
   ]
  },
  {
   "cell_type": "code",
   "execution_count": null,
   "id": "8f228fa9-c350-480d-8406-a31fb54e113a",
   "metadata": {},
   "outputs": [],
   "source": [
    "plt.imshow(cal_image.array[:,:,2], cmap = 'gray')"
   ]
  },
  {
   "cell_type": "markdown",
   "id": "da132d53-dda9-4c94-ae18-88e3f4cbc51b",
   "metadata": {},
   "source": [
    "### Mean from channels"
   ]
  },
  {
   "cell_type": "code",
   "execution_count": null,
   "id": "d2cd0724-f10b-4f40-8f06-cdd29d31c153",
   "metadata": {},
   "outputs": [],
   "source": [
    "mean, std = cal_image.get_stat(ch = 'mean', field_in_film = True, ar = 0.4, show = True)\n",
    "print(\"mean, standar deviation\")\n",
    "list(zip(mean, std))"
   ]
  },
  {
   "cell_type": "code",
   "execution_count": null,
   "id": "b0a9a262-dd13-4b30-9131-0f8df75903e6",
   "metadata": {},
   "outputs": [],
   "source": [
    "cal = cal_image.get_calibration(doses = [0, 0.5, 1,1.5, 2, 3, 5, 8, 10], channel = \"mean\", field_in_film = True)\n",
    "cal.plot(color = 'green')"
   ]
  }
 ],
 "metadata": {
  "kernelspec": {
   "display_name": "Python 3 (ipykernel)",
   "language": "python",
   "name": "python3"
  },
  "language_info": {
   "codemirror_mode": {
    "name": "ipython",
    "version": 3
   },
   "file_extension": ".py",
   "mimetype": "text/x-python",
   "name": "python",
   "nbconvert_exporter": "python",
   "pygments_lexer": "ipython3",
   "version": "3.10.13"
  }
 },
 "nbformat": 4,
 "nbformat_minor": 5
}
