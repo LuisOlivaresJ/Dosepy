{
 "cells": [
  {
   "cell_type": "markdown",
   "id": "307be978-30cc-4091-8331-d8e4e662723a",
   "metadata": {},
   "source": [
    "## Installation (under development)\n",
    "\n",
    "1. Open a terminal\n",
    "2. Create a conda environment\n",
    "   ```\n",
    "   conda create -n myenv python=3.10\n",
    "   conda activate myenv\n",
    "   ```\n",
    "\n",
    "3. Intall Dosepy\n",
    "   ```\n",
    "   pip install -i https://test.pypi.org/simple/ Dosepy==0.4.1\n",
    "   ```"
   ]
  }
 ],
 "metadata": {
  "kernelspec": {
   "display_name": "Python 3 (ipykernel)",
   "language": "python",
   "name": "python3"
  },
  "language_info": {
   "codemirror_mode": {
    "name": "ipython",
    "version": 3
   },
   "file_extension": ".py",
   "mimetype": "text/x-python",
   "name": "python",
   "nbconvert_exporter": "python",
   "pygments_lexer": "ipython3",
   "version": "3.10.13"
  }
 },
 "nbformat": 4,
 "nbformat_minor": 5
}
