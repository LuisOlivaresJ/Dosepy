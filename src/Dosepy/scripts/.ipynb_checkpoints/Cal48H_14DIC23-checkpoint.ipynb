{
 "cells": [
  {
   "cell_type": "markdown",
   "id": "3a501289-6d7e-4e0d-ab76-e85eca296d50",
   "metadata": {},
   "source": [
    "## Calibración a 48H (Alejandro)"
   ]
  },
  {
   "cell_type": "markdown",
   "id": "e08b5a51-de07-4317-88db-e104a3240ae3",
   "metadata": {},
   "source": [
    "### Importar librerias"
   ]
  },
  {
   "cell_type": "code",
   "execution_count": 6,
   "id": "af2c510f-3190-4d6a-80ca-025904a65db7",
   "metadata": {},
   "outputs": [
    {
     "ename": "ImportError",
     "evalue": "attempted relative import with no known parent package",
     "output_type": "error",
     "traceback": [
      "\u001b[0;31m---------------------------------------------------------------------------\u001b[0m",
      "\u001b[0;31mImportError\u001b[0m                               Traceback (most recent call last)",
      "Cell \u001b[0;32mIn[6], line 1\u001b[0m\n\u001b[0;32m----> 1\u001b[0m \u001b[38;5;28;01mfrom\u001b[39;00m \u001b[38;5;21;01m.\u001b[39;00m\u001b[38;5;21;01mDosepy\u001b[39;00m\u001b[38;5;21;01m.\u001b[39;00m\u001b[38;5;21;01mtools\u001b[39;00m\u001b[38;5;21;01m.\u001b[39;00m\u001b[38;5;21;01mimage\u001b[39;00m \u001b[38;5;28;01mimport\u001b[39;00m load\n\u001b[1;32m      2\u001b[0m \u001b[38;5;28;01mfrom\u001b[39;00m \u001b[38;5;21;01mpathlib\u001b[39;00m \u001b[38;5;28;01mimport\u001b[39;00m Path\n",
      "\u001b[0;31mImportError\u001b[0m: attempted relative import with no known parent package"
     ]
    }
   ],
   "source": [
    "from Dosepy.tools.image import load\n",
    "from pathlib import Path"
   ]
  },
  {
   "cell_type": "markdown",
   "id": "db552020-1ec0-4516-9c09-7b6c5165c69e",
   "metadata": {},
   "source": [
    "### Dosis usadas para calibración"
   ]
  },
  {
   "cell_type": "code",
   "execution_count": null,
   "id": "49b88b41-aac0-4c21-bc08-3a4d97521fc0",
   "metadata": {},
   "outputs": [],
   "source": [
    "imparted_doses = [0, 0.5, 1, 1.5, 2, 3, 5, 8, 10]"
   ]
  },
  {
   "cell_type": "markdown",
   "id": "96479326-4be1-427d-8b9c-1ab4c823767c",
   "metadata": {},
   "source": [
    "### Lectura de archivo para calibración\n",
    "\n"
   ]
  },
  {
   "cell_type": "code",
   "execution_count": null,
   "id": "f4781cf1-42b7-4144-8b97-8263c0332160",
   "metadata": {},
   "outputs": [],
   "source": [
    "file_path = Path(\"/home/luis/Downloads\") / \"POS48_1.tif\"  # Office PC\n",
    "#file_path = Path(\"/home/luis/Descargas\") / \"POS48_1.tif\" # Personal laptop\n",
    "cal_image = load(file_path, for_calib = True)"
   ]
  },
  {
   "cell_type": "markdown",
   "id": "ec60e9cc-a1a6-404e-8c54-2cccd07e5a62",
   "metadata": {},
   "source": [
    "### Obtener curva de calibración\n"
   ]
  },
  {
   "cell_type": "code",
   "execution_count": null,
   "id": "e90e811d-eafa-4795-af00-6b72cd25e09a",
   "metadata": {},
   "outputs": [],
   "source": [
    "cal = cal_image.get_calibration(doses = imparted_doses, channel = \"B\", roi = (16, 8), func = \"P3\")\n",
    "cal.plot(color = 'blue')"
   ]
  },
  {
   "cell_type": "markdown",
   "id": "fc0b2fb1-26c3-4b75-a00d-c62afee5ad4e",
   "metadata": {},
   "source": [
    "### Mostrar ROIs y valores medios de pixel."
   ]
  },
  {
   "cell_type": "code",
   "execution_count": null,
   "id": "3b493587-49f4-45b0-b168-011f51e8932d",
   "metadata": {},
   "outputs": [],
   "source": [
    "cal_image.get_stat(ch = 'B', roi = (16, 8), show = True)"
   ]
  },
  {
   "cell_type": "markdown",
   "id": "b10b0b34-a8ec-475e-83bb-0d9f5d3b481a",
   "metadata": {},
   "source": [
    "## Verificación"
   ]
  },
  {
   "cell_type": "code",
   "execution_count": null,
   "id": "8eff59f8-b7d2-432d-a03f-604edc5536dd",
   "metadata": {},
   "outputs": [],
   "source": [
    "#Lectura de archivo\n",
    "verif_path = Path(\"/home/luis/Downloads\") / \"VERIFICACION_1.tif\"  # Office PC\n",
    "#verif_path = Path(\"/home/luis/Descargas\") / \"VERIFICACION_1.tif\" # Personal laptop\n",
    "verif = load(verif_path)\n",
    "\n",
    "dose_img = verif.to_dose(cal)\n",
    "\n",
    "import matplotlib.pyplot as plt\n",
    "fig, ax = plt.subplots(ncols=1)\n",
    "\n",
    "# plot and save the\n",
    "# color \"mappable\" object returned by ax1.imshow\n",
    "pos = ax.imshow(dose_img)\n",
    "\n",
    "# add the colorbar using the figure's method,\n",
    "# telling which mappable we're talking about and\n",
    "# which axes object it should be near\n",
    "fig.colorbar(pos, ax=ax)\n"
   ]
  },
  {
   "cell_type": "code",
   "execution_count": null,
   "id": "2dc63bd5-efde-4e4a-ac68-10c45f934593",
   "metadata": {},
   "outputs": [],
   "source": [
    "import numpy as np\n",
    "from calibration import polynomial_g3\n",
    "\n",
    "mean_pixel, _ = verif.get_stat(ch = \"B\", roi = (30, 10), show = True)\n",
    "mean_pixel = sorted(mean_pixel, reverse = True)\n",
    "#mean_pixel\n",
    "\n",
    "optical_density = -np.log10(np.array(mean_pixel)/mean_pixel[0])\n",
    "\n",
    "dosis_from_fit = polynomial_g3(optical_density, *cal.popt)\n",
    "dosis_from_fit[dosis_from_fit < 0] = 0 # Remove doses < 0\n",
    "\n",
    "print(f\"Dosis por ajuste: {dosis_from_fit}\")\n"
   ]
  },
  {
   "cell_type": "markdown",
   "id": "5a9244a8-e8dd-427c-9584-44acf5c72e99",
   "metadata": {},
   "source": [
    "### Numpy to bytes and cGy"
   ]
  },
  {
   "cell_type": "code",
   "execution_count": null,
   "id": "859239af-deb2-415b-8d00-2df6744bea58",
   "metadata": {},
   "outputs": [],
   "source": [
    "import imageio.v3 as iio\n",
    "#%matplotlib qt\n",
    "\n",
    "data = np.int64(dose_img*100) # Gy to cGy\n",
    "\n",
    "np_tif = data.astype(np.uint16)\n",
    "png_encoded = iio.imwrite(\"<bytes>\", np_tif, extension=\".tif\")\n"
   ]
  },
  {
   "cell_type": "markdown",
   "id": "0ec8aad7-e659-458f-9e61-6314995e6bf4",
   "metadata": {},
   "source": [
    "### Save as a tiff file (useful for imageJ analysis)"
   ]
  },
  {
   "cell_type": "code",
   "execution_count": null,
   "id": "516b4775-2544-44ea-8da0-7352e38a3c82",
   "metadata": {},
   "outputs": [],
   "source": [
    "with open('test.tif', 'wb') as f: \n",
    "    f.write(png_encoded)"
   ]
  },
  {
   "cell_type": "code",
   "execution_count": null,
   "id": "16918514-cf0f-4570-ad9c-da764c4ff403",
   "metadata": {},
   "outputs": [],
   "source": [
    "%matplotlib qt"
   ]
  },
  {
   "cell_type": "code",
   "execution_count": null,
   "id": "39379ae3-3aab-476b-9581-cd68a0979dff",
   "metadata": {},
   "outputs": [],
   "source": [
    "plt.imshow(dose_img)"
   ]
  },
  {
   "cell_type": "markdown",
   "id": "fee433c6-fd31-4ba6-85b2-2ae97a651f05",
   "metadata": {},
   "source": [
    "## Calibración con vidrio y tapa"
   ]
  },
  {
   "cell_type": "code",
   "execution_count": null,
   "id": "5e8cdb56-0c20-4567-a911-4aa9e38a5e1d",
   "metadata": {},
   "outputs": [],
   "source": [
    "file_path_3 = Path(\"/home/luis/Downloads\") / \"POS48_3.tif\"  # Office PC\n",
    "#file_path = Path(\"/home/luis/Descargas\") / \"POS48_3.tif\" # Personal laptop\n",
    "cal_image_3 = load(file_path_3, for_calib = True)"
   ]
  },
  {
   "cell_type": "code",
   "execution_count": null,
   "id": "38562950-a2da-44fa-a30f-6ee385666ecf",
   "metadata": {},
   "outputs": [],
   "source": [
    "cal_3 = cal_image_3.get_calibration(doses = imparted_doses, channel = \"B\", roi = (16, 8), func = \"P3\")\n",
    "cal_3.plot(color = 'blue')"
   ]
  },
  {
   "cell_type": "code",
   "execution_count": null,
   "id": "4a08839d-e820-46bd-8899-8277818bd620",
   "metadata": {},
   "outputs": [],
   "source": [
    "cal_image_3.get_stat(ch = 'B', roi = (16, 8), show = True)"
   ]
  },
  {
   "cell_type": "code",
   "execution_count": null,
   "id": "1637a277-be52-4943-91d0-fe73fb60fcf6",
   "metadata": {},
   "outputs": [],
   "source": [
    "verif_path_3 = Path(\"/home/luis/Downloads\") / \"VERIFICACION_3.tif\"  # Office PC\n",
    "#verif_path = Path(\"/home/luis/Descargas\") / \"VERIFICACION_3.tif\" # Personal laptop\n",
    "verif_3 = load(verif_path_3)"
   ]
  },
  {
   "cell_type": "code",
   "execution_count": null,
   "id": "7e34a013-cc7f-436d-a053-65d50e811f87",
   "metadata": {},
   "outputs": [],
   "source": [
    "mean_pixel_3, _ = verif_3.get_stat(ch = \"B\", roi = (30, 10), show = True)\n",
    "mean_pixel_3 = sorted(mean_pixel_3, reverse = True)\n",
    "#mean_pixel\n",
    "\n",
    "optical_density_3 = -np.log10(np.array(mean_pixel_3)/mean_pixel_3[0])\n",
    "\n",
    "dosis_from_fit_3 = polynomial_g3(optical_density_3, *cal_3.popt)\n",
    "dosis_from_fit_3[dosis_from_fit_3 < 0] = 0 # Remove doses < 0\n",
    "\n",
    "print(f\"Dosis por ajuste: {dosis_from_fit_3}\")\n"
   ]
  }
 ],
 "metadata": {
  "kernelspec": {
   "display_name": "Python 3 (ipykernel)",
   "language": "python",
   "name": "python3"
  },
  "language_info": {
   "codemirror_mode": {
    "name": "ipython",
    "version": 3
   },
   "file_extension": ".py",
   "mimetype": "text/x-python",
   "name": "python",
   "nbconvert_exporter": "python",
   "pygments_lexer": "ipython3",
   "version": "3.10.13"
  }
 },
 "nbformat": 4,
 "nbformat_minor": 5
}
