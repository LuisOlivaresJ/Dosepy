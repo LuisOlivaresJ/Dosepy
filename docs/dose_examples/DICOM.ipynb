{
 "cells": [
  {
   "cell_type": "markdown",
   "id": "00440ef5",
   "metadata": {},
   "source": [
    "## Lectura de un archivo DICOM\n",
    "\n",
    "**Pre-requisitos para los archivos en formato DICOM**\n",
    "* La distribución de dosis en el archivo DICOM debe contener solo dos dimensiones. \n",
    "* La resolución espacial debe de ser igual en ambas dimensiones.\n",
    "* Dosepy no hace uso de las coordenadas dadas en el archivo DICOM.\n",
    "* La unidad para la dosis deberá ser el Gray (Gy). \n",
    "\n",
    "Si la distribución de dosis se generará en un sistema de planeación para tratamientos (TPS), exportar solamente un plano de dosis, con dimensiones físicas establecidas y con un punto de referencia de sencilla ubicación. \n",
    "\n",
    "En esta guía se utilizará el archivo *'RD_20x20cm2_256x256pix.dcm'* dentro de la carpeta *Jupyter*. El archivo DICOM se generó desde el sistema de planeación Eclipse (versión 15.1), exportando una región de interés de 20 cm x 20 cm, centrada en el isocentro y con 256 x 256 puntos. \n",
    "\n",
    "> Para este ejemplo se utilizará la terminal de comandos.\n",
    "\n",
    "Importamos los paquetes Dosepy y numpy"
   ]
  },
  {
   "cell_type": "code",
   "execution_count": null,
   "id": "63f777ff",
   "metadata": {},
   "outputs": [],
   "source": [
    "import Dosepy.dose as dp\n",
    "import numpy as np"
   ]
  },
  {
   "cell_type": "markdown",
   "id": "5a949ba9",
   "metadata": {},
   "source": [
    "Para la lectura de un archivo DICOM, llamamos al método *from_dicom(file_name)*"
   ]
  },
  {
   "cell_type": "code",
   "execution_count": null,
   "id": "493029e5",
   "metadata": {},
   "outputs": [],
   "source": [
    "D_tps = dp.from_dicom('RD_20x20cm2_256x256pix.dcm')\n",
    "\n",
    "#---------------------------------------------\n",
    "#   Código para visualizar las distribuciones de dosis\n",
    "import matplotlib.pyplot as plt\n",
    "fig, axes = plt.subplots(1, 1, figsize=(8, 4))\n",
    "axes.imshow(D_tps.array, cmap='viridis', vmin=0, vmax = 1.15 * np.percentile(D_tps.array, 98))\n",
    "plt.show()\n",
    "#---------------------------------------------"
   ]
  },
  {
   "cell_type": "markdown",
   "id": "34a82aa3",
   "metadata": {},
   "source": [
    "Cargamos en memoria la distribución de dosis medida con película radiocrómica, con resolución de 0.78125 mm/punto."
   ]
  },
  {
   "cell_type": "code",
   "execution_count": null,
   "id": "9268d4da",
   "metadata": {},
   "outputs": [],
   "source": [
    "D_film = dp.from_csv('RD_20x20.csv', 0.78125)"
   ]
  },
  {
   "cell_type": "markdown",
   "id": "f3511c7a",
   "metadata": {},
   "source": [
    "Graficamos los datos"
   ]
  },
  {
   "cell_type": "code",
   "execution_count": null,
   "id": "972aaa40",
   "metadata": {},
   "outputs": [],
   "source": [
    "#---------------------------------------------\n",
    "#   Visualizar las distribuciones de dosis\n",
    "\n",
    "import matplotlib.pyplot as plt\n",
    "fig, axes = plt.subplots(1, 2, figsize=(8, 4))\n",
    "ax = axes.ravel()\n",
    "ax[0].imshow(D_film.array, cmap='viridis', vmin=0, vmax = 1.15 * np.percentile(D_tps.array, 98))\n",
    "ax[0].set_title('Película')\n",
    "ax[1].imshow(D_tps.array, cmap='viridis', vmin=0, vmax = 1.15 * np.percentile(D_tps.array, 98))\n",
    "ax[1].set_title('TPS')\n",
    "fig.tight_layout()\n",
    "plt.show()\n",
    "#---------------------------------------------"
   ]
  },
  {
   "cell_type": "markdown",
   "id": "94c84621",
   "metadata": {},
   "source": [
    "## Lectura de archivos con interfaz gráfica"
   ]
  },
  {
   "cell_type": "markdown",
   "id": "a5e6329f",
   "metadata": {},
   "source": [
    "Abrimos la interfaz con el comando siguiente"
   ]
  },
  {
   "cell_type": "code",
   "execution_count": null,
   "id": "231f3087",
   "metadata": {},
   "outputs": [],
   "source": [
    "import Dosepy.GUI"
   ]
  },
  {
   "cell_type": "markdown",
   "id": "6e35b619",
   "metadata": {},
   "source": [
    "1. Con el botón *D. de  referencia*, cargamos el archivo \"RD_20x20.csv\".\n",
    "2. Con el botón *D. a evaluar*, cargamos el archivo \"RD_20x20cm2_256x256pix.dcm\"\n",
    "3. Automáticamente se mostrará las distribuciones de dosis.\n",
    "4. Activar el botón ROI y seleccionar la región a evaluar. Posteriormente seleccionar el botón *Corte*\n"
   ]
  },
  {
   "cell_type": "markdown",
   "id": "62421ad1",
   "metadata": {},
   "source": [
    "> NOTA:\n",
    "> Cuando el archivo de referencia se encuentra en formato DICOM, la entrada \"Distancia entre puntos [mm]\" se actualiza automáticamente. Si por otro lado, ambos archivos se encuentran en formato CSV, se deberá indicar la resolución correspondiente.\n"
   ]
  },
  {
   "cell_type": "markdown",
   "id": "2d763d69",
   "metadata": {},
   "source": [
    "5. Indicamos los criterios de aceptación para la prueba del índice gamma\n",
    "\n",
    "* **Toler. en dosis [%]:** Tolerancia para la diferencia de dosis [%].\n",
    "* **Toler. en distancia [mm]:** Tolerancia para la distancia [mm].\n",
    "* **Umbral de dosis [%]:** Umbral de dosis, en porcentaje. Todo punto en la distribución de dosis con un valor menor al umbral de dosis, es excluido del análisis.\n",
    "\n",
    "6. Presionamos el botón *Calcular*."
   ]
  }
 ],
 "metadata": {
  "kernelspec": {
   "display_name": "Python 3 (ipykernel)",
   "language": "python",
   "name": "python3"
  },
  "language_info": {
   "codemirror_mode": {
    "name": "ipython",
    "version": 3
   },
   "file_extension": ".py",
   "mimetype": "text/x-python",
   "name": "python",
   "nbconvert_exporter": "python",
   "pygments_lexer": "ipython3",
   "version": "3.10.8"
  }
 },
 "nbformat": 4,
 "nbformat_minor": 5
}
