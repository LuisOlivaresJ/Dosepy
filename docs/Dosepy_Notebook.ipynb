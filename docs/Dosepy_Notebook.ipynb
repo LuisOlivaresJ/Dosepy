{
 "cells": [
  {
   "attachments": {},
   "cell_type": "markdown",
   "id": "4b088647",
   "metadata": {},
   "source": [
    "![portada](./assets/Logo_Dosepy.png)"
   ]
  },
  {
   "cell_type": "markdown",
   "id": "16a2c91d",
   "metadata": {},
   "source": [
    "# Primer ejemplo\n",
    "Importamos el módulo *dose* del paquete *Dosepy*, y numpy para crear matrices de ejemplo que representen dos distribuciones de dosis."
   ]
  },
  {
   "cell_type": "code",
   "execution_count": null,
   "id": "03748ec4",
   "metadata": {},
   "outputs": [],
   "source": [
    "import Dosepy.dose as dp\n",
    "import numpy as np"
   ]
  },
  {
   "cell_type": "markdown",
   "id": "3bd7da58",
   "metadata": {},
   "source": [
    "Generamos las matrices, A y B, con los valores 96 y 100 en todos sus elementos. "
   ]
  },
  {
   "cell_type": "code",
   "execution_count": null,
   "id": "fa4e7fac",
   "metadata": {},
   "outputs": [],
   "source": [
    "A = np.zeros((10,10)) + 96   # Matriz de 10x10, \n",
    "B = np.zeros((10,10)) + 100\n",
    "print(A)\n",
    "print(B)"
   ]
  },
  {
   "cell_type": "markdown",
   "id": "3932df74",
   "metadata": {},
   "source": [
    "Para generar las distribuciones de dosis, solamenta hace falta indicar la resolución espacial. En Dosepy, la unidad para la dosis es el Gray (Gy) y para la distancia se utiliza el milímetro (mm). Asumiendo una resolución de 1 mm, y a las matrices A y B como distribución de referencia y distribución a evaluar, ejecutamos los siguientes comandos:"
   ]
  },
  {
   "cell_type": "code",
   "execution_count": null,
   "id": "9ea790d1",
   "metadata": {},
   "outputs": [],
   "source": [
    "D_ref = dp.Dose(A, 1)   # Se define la distribución de dosis de referencia\n",
    "D_eval = dp.Dose(B, 1)  # Se define la distribución de dosis a evaluar"
   ]
  },
  {
   "cell_type": "markdown",
   "id": "ca3bf57f",
   "metadata": {},
   "source": [
    "La comparación gamma entre dos distribuciones de dosis se realiza mediante el método *gamma2D*. Como argumentos se requiere:\n",
    "* La distribución de dosis de referencia\n",
    "* El porcentaje de tolerancia para la diferencia en dosis.\n",
    "* La distancia de tolerancia o criterio DTA en mm."
   ]
  },
  {
   "cell_type": "markdown",
   "id": "0be8deb7",
   "metadata": {},
   "source": [
    "Sobre la variable D_eval, aplicamos el método gamma2D proporcionando como argumentos la distribución de referencia, D_ref, y el criterio (3 %, 1 mm). Asignamos el resultado a las variables siguientes:"
   ]
  },
  {
   "cell_type": "code",
   "execution_count": null,
   "id": "f9a07d4d",
   "metadata": {},
   "outputs": [],
   "source": [
    "gamma_distribution, pass_rate = D_eval.gamma2D( D_ref, 3, 1) \n",
    "\n",
    "print(f\"El porcentaje de aporbación es: {pass_rate:.1f} %\")"
   ]
  },
  {
   "cell_type": "markdown",
   "id": "ff97e97c",
   "metadata": {},
   "source": [
    "De forma predeterminada en el algoritmo interno de Dosepy,  el porcentaje de aprobación (3 % en el ejemplo anterior) se considera relativo al máximo de la distribución de dosis a **evaluar**. Para cambiar esta opción, llamamos al método gamma2D con un argumento extra, local_norm."
   ]
  },
  {
   "cell_type": "code",
   "execution_count": null,
   "id": "826bc56a",
   "metadata": {},
   "outputs": [],
   "source": [
    "gamma_distribution, pass_rate = D_eval.gamma2D( D_ref, 3, 1, local_norm = True) \n",
    "\n",
    "print(f\"El porcentaje de aporbación es: {pass_rate:.1f} %\")"
   ]
  },
  {
   "cell_type": "markdown",
   "id": "ff1ecd34",
   "metadata": {},
   "source": [
    "Dado que **todos** los valores de las matrices A y B difieren en un 4 % entre sí, el resultado es 0 para el índice de aprobación en las dos comparaciones previas."
   ]
  },
  {
   "cell_type": "markdown",
   "id": "dddf3dc0",
   "metadata": {},
   "source": [
    "# Segundo ejemplo\n",
    "## Uso de archivos CSV y un umbral de dosis para la comparación"
   ]
  },
  {
   "cell_type": "markdown",
   "id": "998bec54",
   "metadata": {},
   "source": [
    "En Dosepy es posible cargar archivos de datos en fromato CSV (comma separate values) mediante la función from_csv. \n",
    "> **Notas:** \n",
    ">* El archivo deberá contener sólo los valores de dosis.\n",
    ">* De contener información adicional, ésta deberá estar precedida con el carácter “#”. Ello indicará que todos los caracteres que se encuentren en la misma linea después de “#” debe de ser ignorados por Dosepy.\n",
    ">* La unidad para la dosis deberá ser el Gray (Gy)."
   ]
  },
  {
   "cell_type": "markdown",
   "id": "d6f53b42",
   "metadata": {},
   "source": [
    "Para cargar los archivos y crear las distribuciones de dosis, llamamos a la función from_csv, indicando el nombre del archivo y la resolución espacial."
   ]
  },
  {
   "cell_type": "code",
   "execution_count": null,
   "id": "36bcf646",
   "metadata": {},
   "outputs": [],
   "source": [
    "D_film = dp.from_csv('D_FILM.csv', 1)\n",
    "D_tps = dp.from_csv('D_TPS.csv', 1)\n",
    "\n",
    "#---------------------------------------------\n",
    "#   Código para visualizar las distribuciones\n",
    "import matplotlib.pyplot as plt\n",
    "fig, axes = plt.subplots(1, 2, figsize=(8, 4))\n",
    "ax = axes.ravel()\n",
    "ax[0].imshow(D_film.array)\n",
    "ax[1].imshow(D_tps.array)\n",
    "fig.tight_layout()\n",
    "plt.show()\n",
    "#---------------------------------------------"
   ]
  },
  {
   "cell_type": "markdown",
   "id": "b2c69f80",
   "metadata": {},
   "source": [
    "Sobre la distribución D_tps, llamamos al método gamma2D, con criterio 3 %, 2 mm, descartando todos aquellos puntos con una dosis por debajo del 10 % (dose_tresh = 10). Para la comparación, se utilizará D_film como distribución de referencia y D_tps como distribución a evaluar."
   ]
  },
  {
   "cell_type": "code",
   "execution_count": null,
   "id": "94c7b83b",
   "metadata": {},
   "outputs": [],
   "source": [
    "\n",
    "g, pass_rate = D_tps.gamma2D(D_film, 3, 2, dose_tresh = 10)\n",
    "\n",
    "#---------------------------------------------\n",
    "#   Imprimimos el resultado\n",
    "print(f'El índice de aprobación es: {pass_rate:.1f} %')\n",
    "#---------------------------------------------\n"
   ]
  },
  {
   "cell_type": "code",
   "execution_count": null,
   "id": "3e878de4",
   "metadata": {},
   "outputs": [],
   "source": [
    "#---------------------------------------------\n",
    "#   Graficamos el resultado\n",
    "\n",
    "fig, axes = plt.subplots(1, 2, figsize=(8, 3))\n",
    "ax = axes.ravel()\n",
    "\n",
    "ax[0].set_title('Distribución gamma', fontsize = 11)\n",
    "ax[0].imshow(g, vmax = 1.4)\n",
    "\n",
    "ax[1].set_title('Histograma gamma', fontsize = 11)\n",
    "ax[1].grid(alpha = 0.3)\n",
    "ax[1].hist( g[~np.isnan(g)] , bins = 50, range = (0,3), alpha = 0.7, log= True)\n",
    "\n",
    "plt.show()"
   ]
  },
  {
   "cell_type": "code",
   "execution_count": null,
   "id": "5c608eb9",
   "metadata": {},
   "outputs": [],
   "source": [
    "\n",
    "\n",
    "\n",
    "\n"
   ]
  },
  {
   "cell_type": "code",
   "execution_count": null,
   "id": "a994a71e",
   "metadata": {},
   "outputs": [],
   "source": [
    "%matplotlib qt"
   ]
  },
  {
   "cell_type": "code",
   "execution_count": null,
   "id": "bc38a91a",
   "metadata": {},
   "outputs": [],
   "source": [
    "from skimage.morphology import diamond\n",
    "import numpy as np\n",
    "import matplotlib.pyplot as plt"
   ]
  },
  {
   "cell_type": "code",
   "execution_count": null,
   "id": "2fd3cfb9",
   "metadata": {},
   "outputs": [],
   "source": [
    "b = diamond(7)"
   ]
  },
  {
   "cell_type": "code",
   "execution_count": null,
   "id": "b3963b55",
   "metadata": {},
   "outputs": [],
   "source": [
    "import Dosepy.GUI"
   ]
  }
 ],
 "metadata": {
  "kernelspec": {
   "display_name": "Python 3 (ipykernel)",
   "language": "python",
   "name": "python3"
  },
  "language_info": {
   "codemirror_mode": {
    "name": "ipython",
    "version": 3
   },
   "file_extension": ".py",
   "mimetype": "text/x-python",
   "name": "python",
   "nbconvert_exporter": "python",
   "pygments_lexer": "ipython3",
   "version": "3.10.8"
  },
  "varInspector": {
   "cols": {
    "lenName": 16,
    "lenType": 16,
    "lenVar": 40
   },
   "kernels_config": {
    "python": {
     "delete_cmd_postfix": "",
     "delete_cmd_prefix": "del ",
     "library": "var_list.py",
     "varRefreshCmd": "print(var_dic_list())"
    },
    "r": {
     "delete_cmd_postfix": ") ",
     "delete_cmd_prefix": "rm(",
     "library": "var_list.r",
     "varRefreshCmd": "cat(var_dic_list()) "
    }
   },
   "position": {
    "height": "357.51px",
    "left": "852px",
    "right": "20px",
    "top": "85px",
    "width": "371.667px"
   },
   "types_to_exclude": [
    "module",
    "function",
    "builtin_function_or_method",
    "instance",
    "_Feature"
   ],
   "window_display": false
  }
 },
 "nbformat": 4,
 "nbformat_minor": 5
}
