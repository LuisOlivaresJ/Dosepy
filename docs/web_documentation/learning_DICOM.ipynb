{
 "cells": [
  {
   "cell_type": "markdown",
   "id": "189cfbe8",
   "metadata": {},
   "source": [
    "# Aprendiendo a trabajar con arhivos DICOM"
   ]
  },
  {
   "cell_type": "markdown",
   "id": "afbba0dc",
   "metadata": {},
   "source": [
    "## Sistema de coordenadas de referencia DICOM"
   ]
  },
  {
   "cell_type": "markdown",
   "id": "5e30ebff",
   "metadata": {},
   "source": [
    "El estándar DICOM define un Sistema de Coordenadas de Referencia (SCR) el cual está orientado con respecto al paciente.\n",
    "El SCR nos permite medir la posición y la orientación de una imágen con respecto al paciente.\n",
    "\n",
    "![DICOMCoordinateReferenceSystem](../assets/DICOM_Coordinate_Reference_System.png)"
   ]
  },
  {
   "cell_type": "markdown",
   "id": "68ad65fc",
   "metadata": {},
   "source": [
    "* **El sentido positivo de X** se encuentra hacia la izquierda del paciente.\n",
    "* **La sentido positivo de Y** se encuentra hacia la espalda del paciente (anterior a posterior).\n",
    "* **El sentido positico de Z** se encuentra hacia la cabeza del paciente (inferior a superior)"
   ]
  }
 ],
 "metadata": {
  "language_info": {
   "name": "python"
  }
 },
 "nbformat": 4,
 "nbformat_minor": 5
}
