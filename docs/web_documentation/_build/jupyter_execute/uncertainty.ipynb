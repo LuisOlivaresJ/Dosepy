{
 "cells": [
  {
   "cell_type": "markdown",
   "metadata": {},
   "source": [
    "# Dose uncertainty"
   ]
  },
  {
   "cell_type": "markdown",
   "metadata": {},
   "source": [
    "## 1. Polynomial function"
   ]
  },
  {
   "cell_type": "markdown",
   "metadata": {},
   "source": [
    "### 1.1 Film response"
   ]
  },
  {
   "cell_type": "markdown",
   "metadata": {},
   "source": [
    "Net optical density represents the film response [1] as:\n",
    "\n",
    "$$  netOD = -log_{10}\\frac{I}{I_0}  $$"
   ]
  },
  {
   "cell_type": "markdown",
   "metadata": {},
   "source": [
    "where $I_0$ and $I$ are the reading for the unexposed and exposed film piece, respectively."
   ]
  },
  {
   "cell_type": "markdown",
   "metadata": {},
   "source": [
    "Using error propagation, the associated standard deviation is given by [2,3]:"
   ]
  },
  {
   "cell_type": "markdown",
   "metadata": {},
   "source": [
    "$$  SD(netOD) = \\frac{1}{ln10} \\sqrt{ \\left(\\frac{SD(I_0)}{I_0} \\right)^2 + \\left(\\frac{SD(I)}{I} \\right)^2 } $$"
   ]
  },
  {
   "cell_type": "markdown",
   "metadata": {},
   "source": [
    "### 1.2 Calibration"
   ]
  },
  {
   "cell_type": "markdown",
   "metadata": {},
   "source": [
    "Film response to dose relationship can be fitted to a power function of the form: $$  D = a\\cdot netOD + b\\cdot (netOD)^n  $$"
   ]
  },
  {
   "cell_type": "markdown",
   "metadata": {},
   "source": [
    "where a, b, and n are fitting parameters and D is the measured dose in Gy."
   ]
  },
  {
   "cell_type": "markdown",
   "metadata": {},
   "source": [
    "Using propagation error analysis [3], the dose uncertainty is given by:\n",
    "\n",
    "$$SD(D) = \\sqrt{ SD_{exp}^2 + SD_{fit}^2 }$$\n",
    "\n",
    "where $SD_{exp}$ is the experimental uncertainty associated with the film irradiation and scanning procedures [2]. $SD_{fit}$ represents the fitting uncertainty. \n",
    "\n",
    "$$SD_{exp} =  (a + n \\cdot b \\cdot netOD^{n-1}) \\cdot SD(netOD)  $$\n",
    "\n",
    "$$SD_{fit} =  \\sqrt{netOD^2\\cdot SD_a^2 + netOD^{2n} \\cdot SD_b^2} $$\n",
    "\n",
    "where $SD_a$ and $SD_b$ are the fitting parameter uncertainties."
   ]
  },
  {
   "cell_type": "markdown",
   "metadata": {},
   "source": [
    "## 2. Rational function"
   ]
  },
  {
   "cell_type": "markdown",
   "metadata": {},
   "source": [
    "### 2.1 Film response\n",
    "The normalized pixel value represents the film response to dose [1], $x$ as: \n",
    "$$x = \\frac{I}{I_0}$$\n",
    "where  $I$ and $I_0$ are the reading for the exposed and unexposed film, respectively. \n",
    "Using error propagation expression and ignoring cross-correlation, the associated standar deviation for film response is given by:\n",
    "\n",
    "$$ SD(x) = \\frac{I}{I_0}\\sqrt{\\left(\\frac{SD(I)}{I}\\right)^2 + \\left(\\frac{SD(I_0)}{I_0}\\right)^2} $$\n",
    "\n",
    "where $SD(I)$ and $SD(I_0)$ are the associated standard deviations for $I$ and $I_0$, respectively."
   ]
  },
  {
   "cell_type": "markdown",
   "metadata": {},
   "source": [
    "### 2.2 Calibration\n",
    "The response to dose relationship is constructed by plotting the dose $D$, as a function of film response $x$:\n",
    "\n",
    "$$D = -c + \\frac{b}{x-a}$$\n",
    "Using propagation error analysis [3], the dose uncertainty is given by:\n",
    "\n",
    "$$SD(D) = \\sqrt{ SD_{exp}^2 + SD_{fit}^2 }$$\n",
    "\n",
    "where $SD_{exp}$ is the experimental uncertainty associated with the film irradiation and scanning procedures [2]. $SD_{fit}$ represents the fitting uncertainty. \n",
    "\n",
    " $$SD_{exp} = \\frac{b}{(x-a)^2}SD(x)$$\n",
    "\n",
    " $$SD_{fit} = \\sqrt{ \\left(\\frac{b}{(x-a)^2}SD(a) \\right)^2 + \\left(\\frac{SD(b)}{x-a} \\right)^2  }$$\n",
    "\n",
    " where $SD_a$ and $SD_b$ are the fitting parameter uncertainties."
   ]
  },
  {
   "cell_type": "markdown",
   "metadata": {},
   "source": [
    "## Bibliography\n",
    "\n",
    "[1] Azam Niroomand-Rad, et al, Report of AAPM Task Group 235 Radiochromic Film Dosimetry: An Update to TG-55, Medical physics, 47(12),  (2020), 5986-6025.\n",
    "\n",
    "[2] L.A. Olivares-J., Distribución de dosis en radioterapia de intensidad modulada usando películas de tinte radiocrómico. Tesis de maestría, UNAM, (2019). \n",
    "\n",
    "[3] E.Y. León Marroquin, et al, Evaluation of the uncertainty in an EBT3 film dosimetry system utilizing net optical density, J. Appl. Clin. Med. Phys., 17 (2016), pp. 466-481.\n",
    "\n",
    "[4] Devic S, Seuntjens J, Hegyi G, et al. Dosimetric properties of improved GafChromic films for seven different\n",
    "digitizers. Med Phys. (2004);31(9):2392–401."
   ]
  }
 ],
 "metadata": {
  "language_info": {
   "name": "python"
  }
 },
 "nbformat": 4,
 "nbformat_minor": 2
}