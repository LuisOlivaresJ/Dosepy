{
 "cells": [
  {
   "cell_type": "markdown",
   "id": "80e8a0a1",
   "metadata": {},
   "source": [
    "# Getting started\n",
    "\n",
    "## Using a GUI\n",
    "\n",
    "The easiest way to use Dosepy is through a graphical user interface (GUI). Open a python interpreter (for example opening *Anaconda Prompt* and typing python) and import Dosepy.app as follows:\n",
    "\n",
    "```python\n",
    "import Dosepy.app\n",
    "```\n",
    "\n",
    "Click on the *Browse* button to load a tif file. The software will automatically find the scanned films. A table is then displayed to allow user's inputs for imparted doses to the films.\n",
    "\n",
    "```{note}\n",
    "ROI size, color channel and other parameters can be changed on settings.\n",
    "```\n",
    "\n",
    "![Portada_Dosepy](../assets/Calibration_tab.png)"
   ]
  }
 ],
 "metadata": {
  "jupytext": {
   "formats": "md:myst",
   "text_representation": {
    "extension": ".md",
    "format_name": "myst"
   }
  },
  "kernelspec": {
   "display_name": "Python 3",
   "language": "python",
   "name": "python3"
  },
  "source_map": [
   11
  ]
 },
 "nbformat": 4,
 "nbformat_minor": 5
}