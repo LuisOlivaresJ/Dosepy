{
 "cells": [
  {
   "cell_type": "markdown",
   "id": "0033b73e",
   "metadata": {},
   "source": [
    "![portada](https://raw.githubusercontent.com/LuisOlivaresJ/Dosepy/main/docs/assets/Logo_Dosepy.png)"
   ]
  },
  {
   "cell_type": "markdown",
   "id": "250b823a",
   "metadata": {},
   "source": [
    "# Dosimetría con película radiocrómica"
   ]
  },
  {
   "cell_type": "markdown",
   "id": "0ebd4f08",
   "metadata": {},
   "source": [
    "## Calibración\n",
    "\n",
    "Para obtener la curva de calibración se utilizan 10 películas de\n",
    "4 cm x 5 cm, 9 de ellas irradiadas con dosis de 0.50, 1.00, 2.00,\n",
    "4.00, 6.00, 8.00, 10.00, 12.0 y 14.00 Gy.\n",
    "\n",
    "La digitalización de las películas antes y después de su irradiación,\n",
    "deberá ser de tal modo que en la imagen se obtenga el acomodo mostrado\n",
    "en la Figura 1, utilizando los siguientes parámetros:\n",
    "\n",
    "* Resolución espacial: \t300 puntos por pulgada\n",
    "* Composición: \tRGB\n",
    "* Bits: \t16 por canal\n",
    "* Formato: \tTIFF\n",
    "\n",
    "![Cal_Peliculas](https://raw.githubusercontent.com/LuisOlivaresJ/Dosepy/main/docs/assets/calibracion_t.png)<br/>\n",
    "<h4><center>Figura 1. Arreglo para la digitalización de las películas.</center></h4>\n",
    "\n",
    "Una vez escaneada la imagen, utilizar el software [ImageJ](https://imagej.net/software/fiji/) (o cualquier otro programa), para recortar la imagen hasta obtener un tamaño de 11 cm por 24 cm (1,300 por 2835 pixeles). Las siguientes ligas permiten descargar imágenes de muestra ya con las dimensiones requeridas.\n",
    "\n",
    "[Calib_Pre.tif](https://github.com/LuisOlivaresJ/Dosepy/blob/60aa1ccaa4155f19db3b063f8e782b47ffde6828/docs/film_dosimetry/Calib_Pre.tif)<br/>\n",
    "[Calib_Post.tif](https://github.com/LuisOlivaresJ/Dosepy/blob/60aa1ccaa4155f19db3b063f8e782b47ffde6828/docs/film_dosimetry/Calib_Post.tif)<br/>\n"
   ]
  },
  {
   "cell_type": "markdown",
   "id": "cf9b1436",
   "metadata": {},
   "source": [
    "La calibración de la película se realiza ingresando a Dosepy dos imágenes del **mismo tamaño** (filas y columnas), correspondientes a las películas antes y después de su irraciación."
   ]
  },
  {
   "cell_type": "code",
   "execution_count": null,
   "id": "78ec6e62",
   "metadata": {},
   "outputs": [],
   "source": [
    "import Dosepy.GUI"
   ]
  },
  {
   "cell_type": "markdown",
   "id": "508e7346",
   "metadata": {},
   "source": [
    "1. En el menu *Herramientas*, haga clic en la opción *Dosimetría con película*.\n",
    "2. Al dar clic en el botón *Calib.*, seleccione la imagen en formato tiff correspondiente al arreglo de las 10 películas **sin irradiar**.\n",
    "3. Automáticamente se mostrará una nueva ventana. Seleccione la imagen tiff de las películas después de su irradiación.\n",
    "4. Se mostrará el ajuste y los correspondientes coeficientes de la curva.\n",
    "\n",
    "![Curva_Calibracion](https://raw.githubusercontent.com/LuisOlivaresJ/Dosepy/main/docs/assets/img_calib.png)<br/>\n",
    "<h4><center>Figura 2. Curva de calibración. La línea azul representa un ajuste polinomial de grado 3. En color verde los 10 datos obtenidos de las imágenes tiff.</center></h4>"
   ]
  },
  {
   "cell_type": "markdown",
   "id": "4eeb4f3c",
   "metadata": {},
   "source": [
    "## Aplicar la calibración a una imagen\n",
    "\n",
    "La curva de calibración previamente generada puede ser aplicada a una imagen en formato tiff. \n",
    "> Los parámetros para la digitalización deben ser los mismos que los usados para la calibración. \n",
    "\n",
    "Para ello se requieren cargar la imagen de la película antes de la irradiación y una segunda imagen **del mismo tamaño** después de la irradiación (ambas imagenes deben de encontrarse registradas).\n",
    "\n",
    "QA_Pre             |  QA_Post\n",
    ":-------------------------:|:-------------------------:\n",
    "![QA_Pre](https://raw.githubusercontent.com/LuisOlivaresJ/Dosepy/V_0_3_6/docs/assets/QA_Pre_rescaled.png)  |  ![QA_Post](https://raw.githubusercontent.com/LuisOlivaresJ/Dosepy/V_0_3_6/docs/assets/QA_Post_rescaled.png)\n",
    "\n",
    "1. Dar clic en el botón Dist.\n",
    "2. Seleccionar la imagen tiff de la película antes de su irradiación\n",
    "3. En la ventana emergente, seleccionar la imagen tiff de la película después de la irradiación.\n",
    "\n",
    "![disutribucion](https://raw.githubusercontent.com/LuisOlivaresJ/Dosepy/main/docs/assets/distribucion.png)<br/>\n",
    "\n",
    "El número de filas y columnas de la distribución obtenida (distribución A) puede ser modificado con el objetivo de igualar al tamaño de otra distribución (B). Para ello se utiliza como referencia la resolución espacial (en mm / punto) de la distribución B.\n"
   ]
  },
  {
   "cell_type": "markdown",
   "id": "2ae51ab7",
   "metadata": {},
   "source": [
    "Por ejemplo, sea B una distribución de dosis cuyas dimensiones son de 20 cm x 20 cm. Si la matriz de datos está compuesta por 256 filas y 256 columnas, la resolución espacial está dada por 200 mm / 256 puntos = 0.78125 mm / punto.\n",
    "\n",
    "1. En la opción Ref., ingresar la resolución espacial en mm/punto de la distribución B.\n",
    "2. Dar clic en el botón *Reducir*\n",
    "3. Automáticamente, se mostrará la distribución de dosis con un menor número de filas y columnas.\n",
    "4. Seleccionar el formato CSV y dar click en *Guardar*."
   ]
  }
 ],
 "metadata": {
  "kernelspec": {
   "display_name": "Python 3 (ipykernel)",
   "language": "python",
   "name": "python3"
  },
  "language_info": {
   "codemirror_mode": {
    "name": "ipython",
    "version": 3
   },
   "file_extension": ".py",
   "mimetype": "text/x-python",
   "name": "python",
   "nbconvert_exporter": "python",
   "pygments_lexer": "ipython3",
   "version": "3.10.8"
  },
  "varInspector": {
   "cols": {
    "lenName": 16,
    "lenType": 16,
    "lenVar": 40
   },
   "kernels_config": {
    "python": {
     "delete_cmd_postfix": "",
     "delete_cmd_prefix": "del ",
     "library": "var_list.py",
     "varRefreshCmd": "print(var_dic_list())"
    },
    "r": {
     "delete_cmd_postfix": ") ",
     "delete_cmd_prefix": "rm(",
     "library": "var_list.r",
     "varRefreshCmd": "cat(var_dic_list()) "
    }
   },
   "types_to_exclude": [
    "module",
    "function",
    "builtin_function_or_method",
    "instance",
    "_Feature"
   ],
   "window_display": false
  }
 },
 "nbformat": 4,
 "nbformat_minor": 5
}
