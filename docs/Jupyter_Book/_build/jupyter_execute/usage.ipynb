{
 "cells": [
  {
   "cell_type": "markdown",
   "id": "ea440b78",
   "metadata": {},
   "source": [
    "# Getting started\n",
    "\n",
    "## Using a GUI\n",
    "\n",
    "The easiest way to use Dosepy is through a graphical user interface (GUI). Open a python interpreter (for example opening *Anaconda Prompt* and typing python) and import Dosepy.app as follows:\n",
    "\n",
    "```python\n",
    "import Dosepy.app\n",
    "```\n",
    "\n",
    "Click on the *Browse* button to load a tif file. The software will automatically find the scanned films. A table is then displayed to allow user's inputs for imparted doses to the films.\n",
    "\n",
    "```{note}\n",
    "The internal algorithm uses a 16 mm width and 8 mm height roi size on the center of each founded film.\n",
    "```\n",
    "\n",
    "![Portada_Dosepy](../assets/Calibration_tab.png)"
   ]
  }
 ],
 "metadata": {
  "jupytext": {
   "formats": "md:myst",
   "text_representation": {
    "extension": ".md",
    "format_name": "myst"
   }
  },
  "kernelspec": {
   "display_name": "Python 3",
   "language": "python",
   "name": "python3"
  },
  "language_info": {
   "codemirror_mode": {
    "name": "ipython",
    "version": 3
   },
   "file_extension": ".py",
   "mimetype": "text/x-python",
   "name": "python",
   "nbconvert_exporter": "python",
   "pygments_lexer": "ipython3",
   "version": "3.10.13"
  },
  "source_map": [
   11
  ]
 },
 "nbformat": 4,
 "nbformat_minor": 5
}