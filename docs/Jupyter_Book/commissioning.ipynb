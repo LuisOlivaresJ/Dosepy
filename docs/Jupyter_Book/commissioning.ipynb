{
 "cells": [
  {
   "cell_type": "markdown",
   "id": "ae6382c7",
   "metadata": {},
   "source": [
    "# General guidelines\n",
    "\n",
    "The following recommendations aim to help the user to setup a protocol for film dosimetry based on a flatbed scanner with CCD sensors. For a more comprehensive analysis, it is recommended to read the [Task-Group 235](https://doi.org/10.1002/mp.14497) of the AAPM."
   ]
  },
  {
   "cell_type": "markdown",
   "id": "317882ee",
   "metadata": {},
   "source": [
    "## Scanner commissioning\n",
    "\n",
    "### Reference position\n",
    "\n",
    "It is recommended to define a reference point on the lateral axis (direction parallel to the scanner lamp) to locate and quantify the effect of the lateral response of the scanner-film system.\n",
    "The following figure shows the use of a thread to locate the center of the scanner along the scanning direction."
   ]
  },
  {
   "cell_type": "markdown",
   "id": "fd599020",
   "metadata": {},
   "source": [
    "<img style=\"max-width:500px; height:auto\" src=../assets/Center_of_the_scanner.jpeg>"
   ]
  },
  {
   "cell_type": "markdown",
   "id": "000329a8",
   "metadata": {},
   "source": [
    "### Reproducibility\n",
    "\n",
    "It is recommended to establish a baseline value for the scanner's response using one or more optical filters or a uniform object with stable optical density. Subsequently, every time a film is scanned, it is recommended to scan it along with the optical filter. This serves as a quality control measure to identify changes in the scanner's response over time or a possible inadvertent application of automatic image processing by the scanner software. In the previous image, three optical filters used in video cameras on a drone are shown.\n",
    "\n",
    "<img style=\"max-width:500px; height:auto\" src=../assets/optical_filters.jpeg>"
   ]
  },
  {
   "cell_type": "markdown",
   "id": "d04e8cf8",
   "metadata": {},
   "source": [
    "### Warmup\n",
    "\n",
    "It is recommended to perform a series of consecutive readings on the optical filter to evaluate the scanner's response to determine the waiting time and the number of scans to perform as a warmup before placing a film. Generally, it is recommended to turn it on 30 minutes in advance and perform 3 to 5 previews before the films to keep the scanner lamp on."
   ]
  },
  {
   "cell_type": "markdown",
   "id": "8224fe56",
   "metadata": {},
   "source": [
    "## Scanning films\n",
    "\n",
    "### Handling\n",
    "\n",
    "User should not touch the films without wearing gloves. \n",
    "\n",
    "### Turn off automatic processing\n",
    "\n",
    "The user should identify in the scanner software how to disable automatic corrections, such as color, brightness, or contrast adjustments.\n",
    "\n",
    "### Acquisition parameters\n",
    "\n",
    "For most applications, it is recommended to use a color depth of 16 bits per channel (65,536 color tones) in RGB mode and a resolution of 72–75 dots per inch (dpi).\n",
    "\n",
    "### Glass sheet\n",
    "\n",
    "It is recommended to place a 3 mm glass sheet over the films for compression to create a flat surface.\n",
    "\n",
    "### Labeling\n",
    "\n",
    "It is recommended to label the films (at least a small mark on one corner of the film) to identify and maintain their orientation relative to the scanner bed.\n",
    "\n",
    "### Waiting time after irradiation\n",
    "\n",
    "A waiting time of 16–24 hours is commonly used and should be consistent with the established protocol."
   ]
  }
 ],
 "metadata": {
  "language_info": {
   "name": "python"
  }
 },
 "nbformat": 4,
 "nbformat_minor": 5
}
